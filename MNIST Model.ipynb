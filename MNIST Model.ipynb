{
 "cells": [
  {
   "cell_type": "code",
   "execution_count": 1,
   "id": "6931dfc4",
   "metadata": {},
   "outputs": [],
   "source": [
    "import numpy as np\n",
    "import pickle           \n",
    "import matplotlib.pyplot as plt\n",
    "%matplotlib inline\n",
    "\n",
    "from src.mnist import load_mnist_data # Pegar todos os dados dos digitos MNIST como binário pickle\n",
    "from src.Model import Model # Classe custom Modelo Deep\n",
    "from PIL import Image   # Manipulação de Pixels\n",
    "\n",
    "\n"
   ]
  },
  {
   "cell_type": "markdown",
   "id": "3314d2dd",
   "metadata": {},
   "source": [
    "### Treinando o Modelo da Classe *Model*. \n",
    "#### Esse modelo vem um classe custom da class *Model*, o qual é utilizado apenas numpy na sua implementação\n",
    "#### Vamos treinar para reconhecer o digits do data set MNIST, com seguintes configurações:\n",
    "#### - **2** hidden layers de **128** dimensões\n",
    "#### - **0.035** learning rate\n",
    "#### - **sigmoid** activation, em todas as camadas \n",
    "#### - **MSE** função custo\n",
    "#### - **2** épocas (pode botar mais se quiser, mas com 2 já trás uma boa acurácia), cada epoca passa por **42 mil** exemplos dos dados de treinamento\n",
    "\n",
    "## Comentários sobre treinamento:\n",
    "##### Houve experimentos anteriores, utilizando, duas (ou mais, porém esses demorariam muito na minha máquina) hidden layers de 64 dimensões, outra vez com 16 dimensões, e por fim 48.\n",
    "\n",
    "Á priori, percebi com sigmoid 64 para 128 dimensões sempre achava um caminho que aprendia rápido o suficiente, com 50 épocas com lr = 0.035 \n",
    "rapidamente chegava a 92% acurácia, e com mais algumas épocas chegava a 97% (*com dados de treinamento*). \n",
    "\n",
    "Porém eu temo que com tantas dimensões pode ocorrer de se especializar demais, eu penso nisso, porque mais lá pra baixo nesse notebook, existe uma sessão onde podemos assistir o que o modelo advinha com um exemplo *custom* de uma imagem 28x28 de um digito criada por mim no app **microsoft paint**, e nesse casos, com 128 dimensões, ele erra coisas que um modelo de 16 dimensões, não erraria, apesar do modelo de 16 ter uma acurácia menor (91%), me pareceu generalizar melhor. \n",
    "Eu imagino que com menos dimensões na camada escondida o Modelo é forçado a entender o que é mais importante, ao invez de \"manter em mente\" caracteristicas especificas dos dados de treinamento.\n",
    "\n",
    "Além disso, os modelos com mais camadas de pequenas dimensões, demoraram  muito para aumentar acurácia, exemplo:\n",
    "Modelo de:\n",
    "\t- 3 hidden layer de dimensões na sequencia (20,16,20)\n",
    "\t- **tangente hiperbolica**(\"tanh\") activation, em todas as camadas\n",
    "\t- lr = 0.02\n",
    "\t- MSE, custo\n",
    "\t- 500 épocas de 40 mil exemplos\n",
    "Esse modelo chegou a uma acurácia de 88%, muito inferior tanto em velocidade de treinamento, e acertos.\n",
    "Mas, esse modelo de tanh, ele teve uma generalização decente, chegando a ser parecido com o Modelo que vamos usar (2 hidden de 128 dim).\n",
    "Claro que foi só eu desenhando no paint e testando, mas te faz questionar um pouco se esse modelo continuasse treinando, ele teria uma generalização melhor?"
   ]
  },
  {
   "cell_type": "code",
   "execution_count": 2,
   "id": "e97db549",
   "metadata": {},
   "outputs": [
    {
     "name": "stdout",
     "output_type": "stream",
     "text": [
      "Quantidade de exemplos: 70000\n",
      "Dimensão da imagem:  784\n",
      "Quantidade de digitos:  10\n"
     ]
    }
   ],
   "source": [
    "\n",
    "# traning_data, foi os 42 mil testados pelo modelo.\n",
    "# dimensions, as dimensões usadas para treinamentodo modelo (784,128,128,10)\n",
    "all_data = load_mnist_data()\n",
    "\n",
    "print(\"Quantidade de exemplos:\",\tlen(all_data[\"inputs\"]))\n",
    "print(\"Dimensão da imagem: \",\t\tlen(all_data[\"inputs\"][0]))\n",
    "print(\"Quantidade de digitos: \",\tlen(all_data[\"outputs\"][0]))\n",
    "\n",
    "# Treinamos com 42 mil exemplos\n",
    "train_data = {\n",
    "\t\"inputs\" :\tall_data[\"inputs\" ][:42000],\n",
    "\t\"outputs\":\tall_data[\"outputs\"][:42000]\n",
    "}\n",
    "\n",
    "# Restante dos 28 mil exemplos que o modelo não viu, será nossos dados de teste\n",
    "test_data = {\n",
    "\t\"inputs\" :\tall_data[\"inputs\" ][42000:],\n",
    "\t\"outputs\":\tall_data[\"outputs\"][42000:]\n",
    "}\n",
    "\n",
    "test_data_being_used = test_data"
   ]
  },
  {
   "cell_type": "markdown",
   "metadata": {},
   "source": [
    "## Treinando Modelo"
   ]
  },
  {
   "cell_type": "code",
   "execution_count": 3,
   "metadata": {},
   "outputs": [
    {
     "name": "stdout",
     "output_type": "stream",
     "text": [
      "> activation: 'sigmoid' selected\n",
      "\n",
      "> Model Started Training...\n",
      "\n",
      "> Done.\n",
      "/*==================================================*/\n",
      "X  (input) layer:\n",
      "[[0.         0.         0.         0.         0.         0.\n",
      "  0.         0.         0.         0.         0.         0.\n",
      "  0.         0.         0.         0.         0.         0.\n",
      "  0.         0.         0.         0.         0.         0.\n",
      "  0.         0.         0.         0.         0.         0.\n",
      "  0.         0.         0.         0.         0.         0.\n",
      "  0.         0.         0.         0.         0.         0.\n",
      "  0.         0.         0.         0.         0.         0.\n",
      "  0.         0.         0.         0.         0.         0.\n",
      "  0.         0.         0.         0.         0.         0.\n",
      "  0.         0.         0.         0.         0.         0.\n",
      "  0.         0.         0.         0.         0.         0.\n",
      "  0.         0.         0.         0.         0.         0.\n",
      "  0.         0.         0.         0.         0.         0.\n",
      "  0.         0.         0.         0.         0.         0.\n",
      "  0.         0.         0.         0.         0.         0.\n",
      "  0.         0.         0.         0.         0.         0.\n",
      "  0.         0.         0.         0.         0.         0.\n",
      "  0.         0.         0.         0.         0.         0.\n",
      "  0.         0.         0.         0.         0.         0.\n",
      "  0.         0.         0.         0.         0.         0.\n",
      "  0.         0.         0.         0.         0.         0.\n",
      "  0.         0.         0.         0.         0.         0.\n",
      "  0.         0.         0.         0.         0.         0.\n",
      "  0.         0.         0.         0.         0.         0.\n",
      "  0.         0.         0.         0.         0.         0.\n",
      "  0.         0.         0.         0.         0.16470588 0.85490196\n",
      "  0.5254902  0.72941176 0.         0.         0.         0.\n",
      "  0.         0.         0.         0.         0.         0.\n",
      "  0.         0.         0.         0.         0.         0.02352941\n",
      "  0.14509804 0.71372549 0.38431373 0.2        0.         0.\n",
      "  0.         0.10588235 0.86666667 0.99215686 0.98823529 0.86666667\n",
      "  0.0627451  0.         0.         0.         0.         0.\n",
      "  0.         0.         0.         0.         0.         0.\n",
      "  0.         0.         0.49019608 0.62745098 0.98823529 0.99215686\n",
      "  0.98823529 0.68627451 0.56470588 0.         0.         0.0627451\n",
      "  0.74509804 0.99215686 0.98823529 0.98823529 0.42352941 0.\n",
      "  0.         0.         0.         0.         0.         0.\n",
      "  0.         0.         0.         0.         0.00392157 0.42745098\n",
      "  0.90980392 0.98823529 0.98823529 0.99215686 0.98823529 0.98823529\n",
      "  0.98823529 0.         0.         0.         0.         0.42745098\n",
      "  0.98823529 0.9254902  0.24313725 0.         0.         0.\n",
      "  0.         0.         0.         0.         0.         0.\n",
      "  0.         0.         0.49019608 0.98823529 0.98823529 0.98823529\n",
      "  0.98823529 0.99215686 0.98823529 0.78431373 0.70196078 0.\n",
      "  0.         0.         0.         0.42745098 0.98823529 0.84313725\n",
      "  0.16470588 0.         0.         0.         0.         0.\n",
      "  0.         0.         0.         0.         0.         0.\n",
      "  0.24313725 0.74117647 0.82745098 0.98823529 0.98823529 0.92941176\n",
      "  0.35686275 0.07843137 0.         0.         0.         0.\n",
      "  0.08235294 0.83137255 0.98823529 0.94509804 0.86666667 0.\n",
      "  0.         0.         0.         0.         0.         0.\n",
      "  0.         0.         0.         0.08235294 0.80784314 0.98823529\n",
      "  0.74509804 0.98823529 0.65882353 0.24313725 0.         0.\n",
      "  0.         0.         0.         0.08235294 0.80784314 0.99215686\n",
      "  0.98823529 0.98823529 0.98823529 0.         0.         0.\n",
      "  0.         0.         0.         0.         0.         0.\n",
      "  0.28627451 0.99215686 0.99215686 0.99215686 0.99215686 0.85098039\n",
      "  0.         0.         0.         0.         0.         0.\n",
      "  0.1254902  0.83137255 0.99215686 1.         0.99215686 0.99215686\n",
      "  0.42352941 0.         0.         0.         0.         0.\n",
      "  0.         0.         0.         0.         0.45098039 0.98823529\n",
      "  0.98823529 0.98823529 0.58039216 0.11764706 0.         0.\n",
      "  0.         0.         0.         0.         0.45098039 0.98823529\n",
      "  0.98823529 0.99215686 0.98823529 0.8627451  0.05882353 0.\n",
      "  0.         0.         0.         0.         0.         0.\n",
      "  0.         0.         0.85098039 0.98823529 0.98823529 0.98823529\n",
      "  0.1372549  0.         0.         0.         0.         0.10588235\n",
      "  0.47058824 0.71372549 0.94901961 0.98823529 0.98823529 0.99215686\n",
      "  0.98823529 0.43921569 0.         0.         0.         0.\n",
      "  0.         0.         0.         0.         0.         0.\n",
      "  0.85098039 0.98823529 0.98823529 0.98823529 0.1372549  0.\n",
      "  0.         0.         0.49019608 0.86666667 0.98823529 0.99215686\n",
      "  0.98823529 0.98823529 0.98823529 0.99215686 0.50196078 0.12156863\n",
      "  0.         0.         0.         0.         0.         0.\n",
      "  0.         0.         0.         0.43137255 0.91372549 0.99215686\n",
      "  0.99215686 0.56470588 0.         0.30980392 0.42745098 1.\n",
      "  0.99215686 0.99215686 0.99215686 1.         0.99215686 0.99215686\n",
      "  0.99215686 0.81568627 0.07843137 0.         0.         0.\n",
      "  0.         0.         0.         0.         0.         0.\n",
      "  0.         0.99215686 0.98823529 0.98823529 0.98823529 0.92941176\n",
      "  0.85098039 0.94901961 0.98823529 0.99215686 0.98823529 0.98823529\n",
      "  0.98823529 0.99215686 0.98823529 0.98823529 0.82352941 0.07843137\n",
      "  0.         0.         0.         0.         0.         0.\n",
      "  0.         0.         0.         0.         0.         0.99215686\n",
      "  0.98823529 0.98823529 0.98823529 0.98823529 0.98823529 0.98823529\n",
      "  0.98823529 0.99215686 0.98823529 0.98823529 0.98823529 0.85098039\n",
      "  0.84313725 0.43921569 0.12156863 0.         0.         0.\n",
      "  0.         0.         0.         0.         0.         0.\n",
      "  0.         0.         0.         0.66666667 0.98823529 0.98823529\n",
      "  0.98823529 0.98823529 0.98823529 0.98823529 0.98823529 0.99215686\n",
      "  0.98823529 0.98823529 0.98823529 0.         0.         0.\n",
      "  0.         0.         0.         0.         0.         0.\n",
      "  0.         0.         0.         0.         0.         0.\n",
      "  0.         0.         0.85490196 0.99215686 0.99215686 0.99215686\n",
      "  0.99215686 0.99215686 0.99215686 1.         0.99215686 0.68627451\n",
      "  0.24313725 0.         0.         0.         0.         0.\n",
      "  0.         0.         0.         0.         0.         0.\n",
      "  0.         0.         0.         0.         0.         0.\n",
      "  0.28235294 0.90588235 0.98823529 0.98823529 0.98823529 0.98823529\n",
      "  0.98823529 0.46666667 0.1372549  0.03921569 0.         0.\n",
      "  0.         0.         0.         0.         0.         0.\n",
      "  0.         0.         0.         0.         0.         0.\n",
      "  0.         0.         0.         0.         0.         0.20392157\n",
      "  0.27843137 0.27843137 0.27843137 0.27843137 0.27843137 0.\n",
      "  0.         0.         0.         0.         0.         0.\n",
      "  0.         0.         0.         0.         0.         0.\n",
      "  0.         0.         0.         0.         0.         0.\n",
      "  0.         0.         0.         0.         0.         0.\n",
      "  0.         0.         0.         0.         0.         0.\n",
      "  0.         0.         0.         0.         0.         0.\n",
      "  0.         0.         0.         0.         0.         0.\n",
      "  0.         0.         0.         0.         0.         0.\n",
      "  0.         0.         0.         0.         0.         0.\n",
      "  0.         0.         0.         0.         0.         0.\n",
      "  0.         0.         0.         0.         0.         0.\n",
      "  0.         0.         0.         0.         0.         0.\n",
      "  0.         0.         0.         0.         0.         0.\n",
      "  0.         0.         0.         0.         0.         0.\n",
      "  0.         0.         0.         0.         0.         0.\n",
      "  0.         0.         0.         0.         0.         0.\n",
      "  0.         0.         0.         0.         0.         0.\n",
      "  0.         0.         0.         0.         0.         0.\n",
      "  0.         0.         0.         0.         0.         0.\n",
      "  0.         0.         0.         0.         0.         0.\n",
      "  0.         0.         0.         0.         0.         0.\n",
      "  0.         0.         0.         0.         0.         0.\n",
      "  0.         0.         0.         0.         0.         0.\n",
      "  0.         0.         0.         0.         0.         0.\n",
      "  0.         0.         0.         0.         0.         0.\n",
      "  0.         0.         0.         0.        ]]\n",
      "H1 (hidden 1) LAYER:\n",
      "[[8.33433247e-02 5.47690702e-02 1.20864965e-08 6.21361287e-07\n",
      "  2.06629097e-04 8.80023782e-03 5.34552662e-01 1.62151701e-02\n",
      "  9.43573679e-01 3.47159988e-07 5.01647719e-09 1.22840573e-02\n",
      "  7.67358036e-06 2.52274099e-04 9.15154748e-01 7.97689799e-01\n",
      "  2.41981167e-04 1.14023544e-09 1.00000000e+00 1.48620144e-07\n",
      "  4.54112954e-01 4.74394362e-05 1.18929911e-06 3.45979109e-03\n",
      "  2.37821506e-06 3.30004076e-01 9.99939530e-01 9.87621108e-01\n",
      "  1.60450505e-02 9.79281555e-01 1.98938524e-03 3.28806481e-03\n",
      "  1.99254084e-13 1.44406019e-02 9.98194130e-01 3.57780412e-03\n",
      "  7.20042759e-01 5.62338242e-03 8.50676735e-03 9.21687253e-04\n",
      "  2.61366413e-04 9.99791198e-01 9.98948566e-01 7.96869083e-10\n",
      "  5.84158382e-11 9.99888031e-01 3.11151072e-01 2.15593894e-04\n",
      "  6.68678261e-03 1.13017727e-04 7.94106789e-06 4.42570503e-01\n",
      "  3.91935584e-01 1.35117423e-06 3.90170613e-06 7.62982077e-02\n",
      "  9.99999990e-01 2.47706075e-07 2.46011515e-05 6.93203312e-07\n",
      "  7.29740564e-01 5.60442111e-01 2.42573307e-01 9.39443590e-01\n",
      "  9.75909637e-01 9.98257339e-01 6.33220240e-03 6.70016076e-06\n",
      "  6.41618025e-01 7.07188600e-01 9.99999979e-01 1.52713543e-07\n",
      "  6.05776479e-04 9.99999531e-01 8.96950004e-01 9.23174210e-01\n",
      "  1.59624756e-03 9.99999967e-01 3.98611155e-06 7.05967630e-04\n",
      "  8.91671375e-01 9.99979244e-01 2.33363678e-05 6.94924471e-01\n",
      "  8.81998506e-01 2.53486579e-08 2.51090467e-05 9.55195635e-01\n",
      "  9.99777776e-01 1.75992705e-02 3.63396220e-09 9.99999992e-01\n",
      "  1.39788475e-10 1.71845143e-01 3.31197059e-02 2.96411205e-02\n",
      "  1.30552463e-03 4.47871564e-09 9.65013503e-09 1.65942700e-02\n",
      "  5.75089529e-06 3.17141002e-10 1.43518988e-07 2.26740265e-03\n",
      "  2.55634002e-04 1.18347221e-02 9.99999046e-01 2.01013786e-01\n",
      "  9.99996074e-01 6.05639100e-04 4.94930706e-01 3.03769444e-03\n",
      "  9.67557719e-01 9.67876069e-01 9.99995815e-01 9.34095867e-06\n",
      "  2.31533186e-03 5.63158397e-02 8.97666776e-01 9.99999083e-01\n",
      "  3.66508564e-01 9.99999988e-01 9.99397190e-01 8.33398639e-05\n",
      "  3.62637715e-01 9.26820086e-01 6.53137196e-09 9.92344404e-01]]\n",
      "H2 (hidden 2) LAYER:\n",
      "[[0.76205151 0.58578825 0.21709175 0.52775169 0.24123131 0.42780242\n",
      "  0.98031961 0.92125652 0.01024508 0.12284273 0.10058729 0.96806448\n",
      "  0.49306129 0.60360564 0.48780705 0.79218449 0.36890053 0.33794243\n",
      "  0.75991412 0.17172413 0.78169502 0.10399094 0.15170989 0.73130107\n",
      "  0.18238793 0.08435182 0.66686088 0.31832901 0.14510187 0.33435829\n",
      "  0.85629264 0.58278712 0.12460971 0.33327779 0.36743463 0.51673961\n",
      "  0.43000509 0.34570753 0.85521898 0.08148692 0.05853469 0.90107102\n",
      "  0.58162037 0.19699418 0.57453908 0.47102106 0.88565129 0.7819303\n",
      "  0.78726465 0.83324996 0.78052881 0.47675676 0.23099087 0.0635594\n",
      "  0.52781727 0.56975691 0.31809614 0.56210621 0.03917242 0.03224265\n",
      "  0.82132458 0.24188839 0.01939842 0.6639026  0.75041388 0.1646279\n",
      "  0.88229764 0.00238441 0.34564303 0.88332721 0.96714166 0.00515406\n",
      "  0.17857856 0.09264536 0.41137616 0.51098528 0.99106515 0.16669115\n",
      "  0.66725788 0.79921312 0.82729277 0.07671132 0.07598509 0.35050056\n",
      "  0.05506216 0.56641752 0.57477915 0.54369363 0.18966317 0.25928415\n",
      "  0.02885089 0.58768188 0.10086397 0.25647813 0.72718648 0.87187989\n",
      "  0.79418295 0.9043578  0.21074372 0.11389429 0.54612195 0.6427937\n",
      "  0.03365614 0.23310114 0.02915867 0.10376829 0.05682596 0.98271778\n",
      "  0.49167994 0.02935719 0.49417648 0.33025265 0.38248146 0.37718039\n",
      "  0.96378692 0.0238026  0.27672843 0.36083312 0.98773748 0.05225935\n",
      "  0.00718737 0.36159814 0.90623633 0.12254118 0.27328247 0.2569181\n",
      "  0.07959945 0.31744393]]\n",
      "Y  (output) LAYER:\n",
      "[[1.36078328e-01 6.66816152e-05 6.89963537e-03 3.85448694e-06\n",
      "  2.01853336e-01 6.00108413e-04 1.26115840e-01 3.22825368e-03\n",
      "  1.32504737e-03 2.08310748e-03]]\n",
      "\n",
      "\n",
      "Current Loss: 0.013875725873781285\n",
      "\n",
      "Current Acurácia: 0.9580238095238095\n",
      "\n",
      "/*==================================================*/\n"
     ]
    },
    {
     "data": {
      "image/png": "[encoded data removed]",
      "text/plain": [
       "<Figure size 432x288 with 1 Axes>"
      ]
     },
     "metadata": {
      "needs_background": "light"
     },
     "output_type": "display_data"
    },
    {
     "name": "stdout",
     "output_type": "stream",
     "text": [
      "> model saved in:  model_128x128\n"
     ]
    }
   ],
   "source": [
    "# Modelo com configurações mencionada anteriormente\n",
    "model  = Model((784,128,128,10), activation=\"sigmoid\", verbose=0, wr=(-0.5,0.5))\n"
   ]
  },
  {
   "cell_type": "code",
   "execution_count": 18,
   "metadata": {},
   "outputs": [
    {
     "name": "stdout",
     "output_type": "stream",
     "text": [
      "\n",
      "> Model Started Training...\n",
      "\n",
      "> Done.\n",
      "/*==================================================*/\n",
      "X  (input) layer:\n",
      "[[0.         0.         0.         0.         0.         0.\n",
      "  0.         0.         0.         0.         0.         0.\n",
      "  0.         0.         0.         0.         0.         0.\n",
      "  0.         0.         0.         0.         0.         0.\n",
      "  0.         0.         0.         0.         0.         0.\n",
      "  0.         0.         0.         0.         0.         0.\n",
      "  0.         0.         0.         0.         0.         0.\n",
      "  0.         0.         0.         0.         0.         0.\n",
      "  0.         0.         0.         0.         0.         0.\n",
      "  0.         0.         0.         0.         0.         0.\n",
      "  0.         0.         0.         0.         0.         0.\n",
      "  0.         0.         0.         0.         0.         0.\n",
      "  0.         0.         0.         0.         0.         0.\n",
      "  0.         0.         0.         0.         0.         0.\n",
      "  0.         0.         0.         0.         0.         0.\n",
      "  0.         0.         0.         0.         0.         0.\n",
      "  0.         0.         0.         0.         0.         0.\n",
      "  0.         0.         0.         0.         0.         0.\n",
      "  0.         0.         0.         0.         0.         0.\n",
      "  0.         0.         0.         0.         0.         0.\n",
      "  0.         0.         0.         0.         0.         0.\n",
      "  0.         0.         0.         0.         0.         0.\n",
      "  0.         0.         0.         0.         0.         0.\n",
      "  0.         0.         0.         0.         0.         0.\n",
      "  0.         0.         0.         0.         0.         0.\n",
      "  0.         0.         0.         0.         0.         0.\n",
      "  0.         0.         0.         0.         0.16470588 0.85490196\n",
      "  0.5254902  0.72941176 0.         0.         0.         0.\n",
      "  0.         0.         0.         0.         0.         0.\n",
      "  0.         0.         0.         0.         0.         0.02352941\n",
      "  0.14509804 0.71372549 0.38431373 0.2        0.         0.\n",
      "  0.         0.10588235 0.86666667 0.99215686 0.98823529 0.86666667\n",
      "  0.0627451  0.         0.         0.         0.         0.\n",
      "  0.         0.         0.         0.         0.         0.\n",
      "  0.         0.         0.49019608 0.62745098 0.98823529 0.99215686\n",
      "  0.98823529 0.68627451 0.56470588 0.         0.         0.0627451\n",
      "  0.74509804 0.99215686 0.98823529 0.98823529 0.42352941 0.\n",
      "  0.         0.         0.         0.         0.         0.\n",
      "  0.         0.         0.         0.         0.00392157 0.42745098\n",
      "  0.90980392 0.98823529 0.98823529 0.99215686 0.98823529 0.98823529\n",
      "  0.98823529 0.         0.         0.         0.         0.42745098\n",
      "  0.98823529 0.9254902  0.24313725 0.         0.         0.\n",
      "  0.         0.         0.         0.         0.         0.\n",
      "  0.         0.         0.49019608 0.98823529 0.98823529 0.98823529\n",
      "  0.98823529 0.99215686 0.98823529 0.78431373 0.70196078 0.\n",
      "  0.         0.         0.         0.42745098 0.98823529 0.84313725\n",
      "  0.16470588 0.         0.         0.         0.         0.\n",
      "  0.         0.         0.         0.         0.         0.\n",
      "  0.24313725 0.74117647 0.82745098 0.98823529 0.98823529 0.92941176\n",
      "  0.35686275 0.07843137 0.         0.         0.         0.\n",
      "  0.08235294 0.83137255 0.98823529 0.94509804 0.86666667 0.\n",
      "  0.         0.         0.         0.         0.         0.\n",
      "  0.         0.         0.         0.08235294 0.80784314 0.98823529\n",
      "  0.74509804 0.98823529 0.65882353 0.24313725 0.         0.\n",
      "  0.         0.         0.         0.08235294 0.80784314 0.99215686\n",
      "  0.98823529 0.98823529 0.98823529 0.         0.         0.\n",
      "  0.         0.         0.         0.         0.         0.\n",
      "  0.28627451 0.99215686 0.99215686 0.99215686 0.99215686 0.85098039\n",
      "  0.         0.         0.         0.         0.         0.\n",
      "  0.1254902  0.83137255 0.99215686 1.         0.99215686 0.99215686\n",
      "  0.42352941 0.         0.         0.         0.         0.\n",
      "  0.         0.         0.         0.         0.45098039 0.98823529\n",
      "  0.98823529 0.98823529 0.58039216 0.11764706 0.         0.\n",
      "  0.         0.         0.         0.         0.45098039 0.98823529\n",
      "  0.98823529 0.99215686 0.98823529 0.8627451  0.05882353 0.\n",
      "  0.         0.         0.         0.         0.         0.\n",
      "  0.         0.         0.85098039 0.98823529 0.98823529 0.98823529\n",
      "  0.1372549  0.         0.         0.         0.         0.10588235\n",
      "  0.47058824 0.71372549 0.94901961 0.98823529 0.98823529 0.99215686\n",
      "  0.98823529 0.43921569 0.         0.         0.         0.\n",
      "  0.         0.         0.         0.         0.         0.\n",
      "  0.85098039 0.98823529 0.98823529 0.98823529 0.1372549  0.\n",
      "  0.         0.         0.49019608 0.86666667 0.98823529 0.99215686\n",
      "  0.98823529 0.98823529 0.98823529 0.99215686 0.50196078 0.12156863\n",
      "  0.         0.         0.         0.         0.         0.\n",
      "  0.         0.         0.         0.43137255 0.91372549 0.99215686\n",
      "  0.99215686 0.56470588 0.         0.30980392 0.42745098 1.\n",
      "  0.99215686 0.99215686 0.99215686 1.         0.99215686 0.99215686\n",
      "  0.99215686 0.81568627 0.07843137 0.         0.         0.\n",
      "  0.         0.         0.         0.         0.         0.\n",
      "  0.         0.99215686 0.98823529 0.98823529 0.98823529 0.92941176\n",
      "  0.85098039 0.94901961 0.98823529 0.99215686 0.98823529 0.98823529\n",
      "  0.98823529 0.99215686 0.98823529 0.98823529 0.82352941 0.07843137\n",
      "  0.         0.         0.         0.         0.         0.\n",
      "  0.         0.         0.         0.         0.         0.99215686\n",
      "  0.98823529 0.98823529 0.98823529 0.98823529 0.98823529 0.98823529\n",
      "  0.98823529 0.99215686 0.98823529 0.98823529 0.98823529 0.85098039\n",
      "  0.84313725 0.43921569 0.12156863 0.         0.         0.\n",
      "  0.         0.         0.         0.         0.         0.\n",
      "  0.         0.         0.         0.66666667 0.98823529 0.98823529\n",
      "  0.98823529 0.98823529 0.98823529 0.98823529 0.98823529 0.99215686\n",
      "  0.98823529 0.98823529 0.98823529 0.         0.         0.\n",
      "  0.         0.         0.         0.         0.         0.\n",
      "  0.         0.         0.         0.         0.         0.\n",
      "  0.         0.         0.85490196 0.99215686 0.99215686 0.99215686\n",
      "  0.99215686 0.99215686 0.99215686 1.         0.99215686 0.68627451\n",
      "  0.24313725 0.         0.         0.         0.         0.\n",
      "  0.         0.         0.         0.         0.         0.\n",
      "  0.         0.         0.         0.         0.         0.\n",
      "  0.28235294 0.90588235 0.98823529 0.98823529 0.98823529 0.98823529\n",
      "  0.98823529 0.46666667 0.1372549  0.03921569 0.         0.\n",
      "  0.         0.         0.         0.         0.         0.\n",
      "  0.         0.         0.         0.         0.         0.\n",
      "  0.         0.         0.         0.         0.         0.20392157\n",
      "  0.27843137 0.27843137 0.27843137 0.27843137 0.27843137 0.\n",
      "  0.         0.         0.         0.         0.         0.\n",
      "  0.         0.         0.         0.         0.         0.\n",
      "  0.         0.         0.         0.         0.         0.\n",
      "  0.         0.         0.         0.         0.         0.\n",
      "  0.         0.         0.         0.         0.         0.\n",
      "  0.         0.         0.         0.         0.         0.\n",
      "  0.         0.         0.         0.         0.         0.\n",
      "  0.         0.         0.         0.         0.         0.\n",
      "  0.         0.         0.         0.         0.         0.\n",
      "  0.         0.         0.         0.         0.         0.\n",
      "  0.         0.         0.         0.         0.         0.\n",
      "  0.         0.         0.         0.         0.         0.\n",
      "  0.         0.         0.         0.         0.         0.\n",
      "  0.         0.         0.         0.         0.         0.\n",
      "  0.         0.         0.         0.         0.         0.\n",
      "  0.         0.         0.         0.         0.         0.\n",
      "  0.         0.         0.         0.         0.         0.\n",
      "  0.         0.         0.         0.         0.         0.\n",
      "  0.         0.         0.         0.         0.         0.\n",
      "  0.         0.         0.         0.         0.         0.\n",
      "  0.         0.         0.         0.         0.         0.\n",
      "  0.         0.         0.         0.         0.         0.\n",
      "  0.         0.         0.         0.         0.         0.\n",
      "  0.         0.         0.         0.         0.         0.\n",
      "  0.         0.         0.         0.         0.         0.\n",
      "  0.         0.         0.         0.        ]]\n",
      "H1 (hidden 1) LAYER:\n",
      "[[1.02869465e-02 3.83269656e-02 1.81194357e-10 7.90423629e-09\n",
      "  5.82693371e-09 2.29991003e-02 9.42301259e-01 1.80811132e-04\n",
      "  9.99999774e-01 4.73847543e-06 2.08197459e-12 5.39392815e-05\n",
      "  4.59021940e-05 3.23860816e-03 5.70556774e-01 9.87831010e-01\n",
      "  9.36543053e-06 9.75858165e-11 1.00000000e+00 3.51984600e-07\n",
      "  9.96553861e-01 7.77880838e-06 2.63901761e-04 6.47370602e-01\n",
      "  1.45467448e-09 7.57458732e-01 9.99998989e-01 9.99413352e-01\n",
      "  1.70032481e-05 1.84176142e-01 7.63880918e-04 7.94291754e-05\n",
      "  1.07356204e-14 3.73231774e-02 9.99427252e-01 5.81829945e-01\n",
      "  9.70611888e-01 6.04677987e-02 1.59798267e-02 7.46955304e-06\n",
      "  5.71981251e-10 9.99999846e-01 9.89520522e-01 4.11272031e-12\n",
      "  1.51299822e-13 9.99833558e-01 1.97139003e-01 2.04451704e-05\n",
      "  2.14332841e-03 4.66959564e-06 1.74335972e-08 6.35971470e-03\n",
      "  5.79827614e-01 6.33167206e-09 2.47946214e-07 1.28308554e-03\n",
      "  9.99999999e-01 7.52335590e-08 1.73416075e-04 5.50609667e-07\n",
      "  9.99206996e-01 3.39199462e-01 5.13259800e-02 8.51738062e-01\n",
      "  9.45317109e-01 9.91776894e-01 2.35054072e-04 1.10984064e-09\n",
      "  9.99028091e-01 5.43943468e-01 9.99999996e-01 7.18227215e-09\n",
      "  6.86668334e-06 9.99999195e-01 9.99996530e-01 5.77161203e-01\n",
      "  6.28172456e-04 9.99999999e-01 1.05511309e-06 6.63246864e-05\n",
      "  3.49139467e-02 9.96905042e-01 1.13143167e-04 2.55834967e-01\n",
      "  1.59276454e-01 4.75617021e-09 1.16806441e-06 8.80675427e-01\n",
      "  9.99688211e-01 2.80326974e-04 2.85364025e-09 1.00000000e+00\n",
      "  1.97310726e-11 5.23892018e-03 6.82898949e-03 2.55008982e-05\n",
      "  1.66891713e-04 1.84006474e-10 3.14542047e-10 1.81980615e-01\n",
      "  6.79958098e-06 2.13061594e-10 1.05655982e-08 8.96764563e-04\n",
      "  6.91753793e-05 1.39078620e-02 9.99991223e-01 5.06976230e-02\n",
      "  9.99999735e-01 1.11049438e-04 4.12532502e-03 1.15017116e-03\n",
      "  9.98716069e-01 9.99268881e-01 9.99988557e-01 2.12185477e-08\n",
      "  6.77173731e-06 2.00204489e-01 9.19342323e-02 9.99999348e-01\n",
      "  8.89700294e-02 1.00000000e+00 7.10725672e-01 8.08133274e-04\n",
      "  3.94630427e-01 6.51764214e-01 2.88571169e-12 1.57570598e-01]]\n",
      "H2 (hidden 2) LAYER:\n",
      "[[0.76878852 0.82177814 0.35620599 0.46529576 0.26540074 0.23748436\n",
      "  0.92446096 0.79653678 0.01604925 0.24592285 0.25987857 0.95785776\n",
      "  0.49511123 0.77139815 0.11774495 0.60820728 0.72071541 0.71680572\n",
      "  0.79637962 0.07556697 0.64318107 0.11376562 0.19629874 0.49811816\n",
      "  0.06611554 0.19351087 0.58479429 0.32281435 0.02296606 0.49491896\n",
      "  0.87426829 0.58175029 0.06602728 0.16554609 0.60084    0.29191944\n",
      "  0.52491398 0.35044467 0.8483173  0.03320461 0.04919521 0.89744117\n",
      "  0.75233732 0.35635646 0.76274079 0.19134987 0.89981737 0.81683863\n",
      "  0.76662957 0.90210251 0.67430878 0.64491836 0.23572479 0.17432232\n",
      "  0.28483079 0.53138124 0.29466264 0.35341704 0.03882193 0.09759526\n",
      "  0.74110055 0.0901641  0.02351086 0.29235823 0.65428731 0.21060679\n",
      "  0.81644126 0.00352237 0.39041152 0.85866962 0.82812223 0.01374878\n",
      "  0.19239666 0.02997736 0.41389884 0.16122224 0.99107995 0.10585372\n",
      "  0.64796118 0.63943096 0.7238608  0.02242164 0.11563103 0.18657572\n",
      "  0.07162551 0.8209453  0.31941172 0.55039921 0.38196585 0.24352471\n",
      "  0.01895809 0.27632678 0.48953581 0.09512003 0.4998765  0.84193236\n",
      "  0.84091756 0.6605743  0.24338102 0.08680719 0.67185637 0.56421514\n",
      "  0.04069967 0.12329727 0.02736568 0.02513144 0.20474308 0.9529988\n",
      "  0.52469068 0.01969814 0.63553553 0.26503505 0.47525633 0.24772166\n",
      "  0.98248771 0.03762264 0.38360662 0.21856779 0.95065574 0.13766264\n",
      "  0.01035423 0.16002069 0.77719746 0.12651284 0.07570558 0.07746961\n",
      "  0.19986239 0.49739704]]\n",
      "Y  (output) LAYER:\n",
      "[[1.05129893e-01 3.60000563e-05 1.34945441e-02 6.60201246e-06\n",
      "  2.30659836e-01 1.03958202e-03 1.20368981e-01 4.83153365e-03\n",
      "  2.52211270e-04 2.44028759e-04]]\n",
      "\n",
      "\n",
      "Current Loss: 0.010479806791124067\n",
      "\n",
      "Current Acurácia: 0.9705952380952381\n",
      "\n",
      "/*==================================================*/\n"
     ]
    },
    {
     "data": {
      "image/png": "[encoded data removed]",
      "text/plain": [
       "<Figure size 432x288 with 1 Axes>"
      ]
     },
     "metadata": {
      "needs_background": "light"
     },
     "output_type": "display_data"
    },
    {
     "name": "stdout",
     "output_type": "stream",
     "text": [
      "> model saved in:  model_128x128\n"
     ]
    }
   ],
   "source": [
    "\n",
    "learning_rate = 0.035\n",
    "# Fique a vontade pra trocar aumentar as épocas, sei que com 50 chega a 98% acurácia\n",
    "epochs = 1\n",
    "model_filename = \"model_128x128\"\n",
    "\n",
    "print(\"\\n> Model Started Training...\\n\")\n",
    "\t\t\t\n",
    "model.train(\n",
    "\ttrain_data[\"inputs\"],\n",
    "\ttrain_data[\"outputs\"],\n",
    "\tlr = learning_rate, epochs=epochs,\n",
    "\tshuffle=True,\n",
    "\tautosave=False)\n",
    "\t\n",
    "# Caso já tenha um modelo salvo, dê load assim\n",
    "#model = Model.load(\"./models/\" + model_filename)\n",
    "\n",
    "print(\"> Done.\")\n",
    "\n",
    "model.print()\n",
    "\n",
    "model.save(\"./models/\" + model_filename)\n",
    "print(\"> model saved in: \",model_filename)"
   ]
  },
  {
   "cell_type": "markdown",
   "id": "29b5ba65",
   "metadata": {},
   "source": [
    "### Função usada para fazer predições do set MNIST com o Modelo. \n",
    "*Ao usar **test_prediction** ira mostrar a **imagem**, o **label** correto, e a **decisão** do modelo*"
   ]
  },
  {
   "cell_type": "code",
   "execution_count": 4,
   "id": "d0302b4a",
   "metadata": {},
   "outputs": [],
   "source": [
    "def test_prediction(index, data, model:Model):\n",
    "\tcurrent_image = data[\"inputs\"][index]\n",
    "\ty_predict = model.predict(current_image)[0]\n",
    "\tprediction = (y_predict == y_predict.max()).astype(int)\n",
    "\n",
    "\tguess = list(prediction).index(1)\n",
    "\t\n",
    "\tlabel = data[\"outputs\"][index]\n",
    "\tground_truth = list(label).index(1)\n",
    "\n",
    "\t# Opção de desobrigar de fornecer label correto, para quando formor utilizar paint\n",
    "\tif len(label) < 10:\n",
    "\t\tlabel = \"made on paint\"\n",
    "\t\tground_truth = \" paint\"\n",
    "\n",
    "\tprint(\"Label: \", label)\n",
    "\tprint(\"Prediction: \", prediction)\n",
    "\n",
    "\tplt.gray()\n",
    "\tplt.title(\"Model thinks it is: \" + str(guess) + \"\\nGround truth: \" + str(ground_truth))\n",
    "\tplt.imshow( current_image.reshape((28, 28)) * 255, interpolation='nearest')\n",
    "\tplt.xticks([])\n",
    "\tplt.yticks([0])\n",
    "\tplt.show()"
   ]
  },
  {
   "cell_type": "markdown",
   "id": "48e6e09d",
   "metadata": {},
   "source": [
    "## Função p/ testar a acurácia dos restante 28 mil digitos que o modelo não viu ainda\n",
    "### e ainda retorna todos os indices errados"
   ]
  },
  {
   "cell_type": "code",
   "execution_count": 5,
   "id": "b420c82e",
   "metadata": {},
   "outputs": [],
   "source": [
    "def get_acurracy(testing_data):\n",
    "\t\n",
    "\tpredicts = list()\n",
    "\tfor y in testing_data[\"inputs\"]:\n",
    "\t\ty_predict = model.predict(y)[0]\n",
    "\t\tprediction = (y_predict == y_predict.max()).astype(int)\n",
    "\t\tpredicts.append(prediction)\n",
    "\treturn model.accuracy(predictions=predicts, outputs=testing_data[\"outputs\"], verbose=0)\n"
   ]
  },
  {
   "cell_type": "markdown",
   "id": "1687d198",
   "metadata": {},
   "source": [
    "## Array de indices onde o modelo errou\n",
    "#### Acurácia: cerca de **98.9%** usando 28 mil exemplos dos dados de teste os quais o modelo nunca viu"
   ]
  },
  {
   "cell_type": "code",
   "execution_count": 26,
   "id": "b61ecaaa",
   "metadata": {},
   "outputs": [
    {
     "name": "stdout",
     "output_type": "stream",
     "text": [
      "Qntd de exemplos: 28000\n",
      "Indexes onde está errado: [29, 42, 78, 99, 112, 121, 139, 153, 161, 180, 181, 199, 233, 254, 255, 314, 317, 337, 354, 355, 364, 384, 415, 428, 434, 438, 472, 479, 491, 503, 504, 508, 526, 554, 566, 624, 632, 688, 702, 703, 782, 826, 828, 854, 866, 886, 892, 904, 931, 941, 943, 953, 961, 973, 986, 987, 1012, 1034, 1059, 1069, 1091, 1095, 1109, 1121, 1174, 1207, 1208, 1372, 1454, 1537, 1562, 1588, 1626, 1648, 1658, 1670, 1702, 1783, 1811, 1818, 1823, 1874, 1897, 1950, 1977, 1986, 2078, 2095, 2100, 2123, 2157, 2172, 2236, 2240, 2253, 2261, 2262, 2267, 2294, 2328, 2340, 2378, 2383, 2442, 2456, 2484, 2508, 2519, 2534, 2552, 2570, 2626, 2690, 2748, 2753, 2767, 2827, 2848, 2850, 2865, 2870, 2878, 2903, 2959, 2961, 2969, 2982, 3005, 3012, 3017, 3043, 3048, 3069, 3116, 3143, 3185, 3201, 3238, 3250, 3266, 3352, 3392, 3422, 3439, 3446, 3458, 3460, 3502, 3509, 3520, 3532, 3575, 3587, 3590, 3602, 3614, 3616, 3654, 3692, 3749, 3761, 3784, 3801, 3807, 3836, 3868, 3875, 3901, 3911, 3968, 4015, 4021, 4027, 4033, 4058, 4070, 4088, 4122, 4139, 4163, 4187, 4241, 4247, 4248, 4269, 4274, 4285, 4288, 4298, 4336, 4354, 4368, 4373, 4384, 4404, 4406, 4412, 4423, 4435, 4689, 4726, 4729, 4734, 4746, 4815, 4857, 4860, 4884, 4899, 4938, 4941, 4958, 4976, 5004, 5022, 5034, 5152, 5159, 5211, 5217, 5227, 5234, 5247, 5264, 5291, 5317, 5322, 5340, 5358, 5365, 5376, 5387, 5421, 5432, 5473, 5475, 5478, 5479, 5506, 5558, 5560, 5594, 5597, 5600, 5613, 5669, 5689, 5690, 5723, 5737, 5741, 5749, 5759, 5762, 5781, 5787, 5844, 5881, 5885, 5888, 5918, 5925, 5926, 5936, 5949, 5979, 6006, 6020, 6065, 6102, 6258, 6272, 6323, 6324, 6352, 6354, 6360, 6382, 6384, 6397, 6486, 6494, 6522, 6524, 6546, 6594, 6642, 6649, 6681, 6786, 6802, 6824, 6880, 6899, 6900, 6915, 6930, 6933, 6953, 6957, 6964, 6966, 6971, 6975, 6990, 7001, 7002, 7005, 7006, 7009, 7012, 7014, 7026, 7029, 7050, 7056, 7064, 7139, 7164, 7192, 7212, 7226, 7300, 7354, 7410, 7416, 7464, 7488, 7497, 7500, 7514, 7517, 7525, 7541, 7543, 7545, 7563, 7571, 7573, 7589, 7607, 7613, 7616, 7634, 7656, 7662, 7672, 7744, 7809, 7841, 7859, 7889, 7890, 7892, 7893, 7923, 7926, 7945, 7955, 7960, 7985, 8046, 8078, 8090, 8091, 8149, 8192, 8212, 8236, 8239, 8246, 8297, 8317, 8329, 8340, 8342, 8355, 8359, 8369, 8371, 8391, 8403, 8414, 8417, 8426, 8428, 8431, 8470, 8473, 8500, 8514, 8522, 8560, 8572, 8574, 8608, 8618, 8632, 8714, 8747, 8777, 8819, 8821, 8827, 8835, 8841, 8897, 8916, 9106, 9154, 9158, 9164, 9180, 9194, 9248, 9274, 9280, 9300, 9337, 9346, 9371, 9432, 9464, 9466, 9476, 9478, 9522, 9544, 9600, 9616, 9698, 9740, 9764, 9780, 9863, 9903, 9944, 9958, 9988, 9990, 10048, 10089, 10129, 10138, 10144, 10160, 10163, 10210, 10225, 10246, 10272, 10280, 10294, 10324, 10392, 10394, 10419, 10424, 10442, 10462, 10624, 10644, 10661, 10674, 10686, 10688, 10707, 10713, 10718, 10738, 10771, 10800, 10808, 10814, 10828, 10894, 10899, 10907, 10914, 10932, 10938, 10953, 10968, 10975, 10981, 11017, 11036, 11044, 11063, 11098, 11114, 11156, 11168, 11216, 11298, 11344, 11470, 11476, 11507, 11547, 11578, 11612, 11623, 11638, 11641, 11680, 11682, 11694, 11731, 11732, 11736, 11740, 11784, 11872, 11873, 11903, 11906, 11910, 11975, 11976, 11979, 11999, 12011, 12030, 12036, 12065, 12097, 12161, 12191, 12195, 12264, 12296, 12377, 12378, 12436, 12452, 12492, 12506, 12520, 12528, 12554, 12586, 12654, 12782, 12814, 12858, 12878, 12880, 12906, 12916, 12954, 12960, 12966, 13028, 13042, 13060, 13064, 13116, 13168, 13188, 13190, 13194, 13206, 13244, 13278, 13294, 13311, 13330, 13340, 13350, 13426, 13438, 13496, 13513, 13606, 13649, 13729, 13739, 13758, 13792, 13804, 13814, 13834, 13870, 13886, 13896, 13906, 13958, 14014, 14066, 14090, 14220, 14275, 14292, 14372, 14380, 14397, 14452, 14457, 14464, 14474, 14480, 14576, 14596, 14648, 14654, 14655, 14662, 14672, 14717, 14737, 14773, 14800, 14842, 14866, 14914, 14939, 14970, 15004, 15021, 15041, 15054, 15076, 15082, 15256, 15276, 15302, 15380, 15457, 15477, 15486, 15507, 15527, 15624, 15662, 15683, 15713, 15718, 15728, 15732, 15768, 15794, 15808, 15894, 15907, 15972, 15976, 16022, 16050, 16064, 16072, 16080, 16101, 16258, 16316, 16344, 16413, 16518, 16595, 16649, 16802, 16822, 16829, 16832, 16871, 16874, 16892, 17196, 17202, 17256, 17280, 17283, 17286, 17294, 17303, 17312, 17314, 17339, 17344, 17354, 17361, 17382, 17401, 17460, 17653, 17681, 17701, 17718, 17719, 17720, 17726, 17731, 17735, 17747, 17766, 17784, 17830, 17915, 18008, 18149, 18241, 18247, 18259, 18320, 18321, 18340, 18445, 18447, 18449, 18479, 18495, 18502, 18551, 18578, 18582, 18610, 18619, 18659, 18684, 18691, 18707, 18717, 18720, 18740, 18810, 18844, 18881, 18882, 18938, 18950, 18951, 18956, 18959, 18962, 18965, 18982, 19014, 19044, 19062, 19107, 19112, 19114, 19124, 19181, 19182, 19191, 19194, 19204, 19206, 19226, 19242, 19247, 19260, 19270, 19283, 19299, 19319, 19326, 19364, 19378, 19413, 19414, 19490, 19500, 19527, 19530, 19549, 19553, 19581, 19609, 19621, 19626, 19634, 19681, 19709, 19717, 19732, 19748, 19751, 19754, 19772, 19790, 19808, 19843, 19850, 19883, 19901, 19938, 19941, 19952, 20016, 20018, 20035, 20043, 20044, 20053, 20093, 20109, 20118, 20129, 20130, 20135, 20182, 20185, 20186, 20189, 20224, 20266, 20272, 20293, 20299, 20305, 20325, 20326, 20329, 20333, 20369, 20371, 20387, 20395, 20406, 20422, 20433, 20454, 20464, 20488, 20560, 20598, 20607, 20648, 20654, 20713, 20730, 20771, 20836, 20877, 20896, 20921, 20927, 20939, 20945, 20995, 21005, 21060, 21073, 21114, 21117, 21136, 21185, 21206, 21240, 21251, 21284, 21289, 21475, 21490, 21503, 21520, 21549, 21550, 21558, 21567, 21597, 21718, 21726, 21751, 21757, 21767, 21780, 21808, 21811, 21817, 21818, 21838, 21853, 21855, 21869, 21876, 21893, 21902, 21906, 21926, 21941, 21943, 21946, 22017, 22063, 22065, 22075, 22078, 22102, 22140, 22163, 22176, 22201, 22212, 22224, 22248, 22256, 22265, 22271, 22284, 22289, 22297, 22306, 22374, 22433, 22435, 22477, 22497, 22500, 22536, 22567, 22575, 22601, 22615, 22635, 22639, 22690, 22731, 22740, 22751, 22761, 22807, 22814, 22823, 22837, 22874, 22876, 22880, 22886, 22956, 22966, 22990, 23067, 23068, 23078, 23140, 23165, 23210, 23246, 23331, 23593, 23634, 23642, 23653, 23718, 23734, 23749, 23835, 23842, 23887, 23888, 23913, 23936, 23937, 23955, 23972, 23973, 24030, 24035, 24037, 24045, 24046, 24059, 24065, 24071, 24081, 24091, 24157, 24166, 24168, 24172, 24173, 24390, 24392, 24400, 24421, 24426, 24505, 24511, 24532, 24555, 24571, 24577, 24597, 24598, 24603, 24625, 24632, 24641, 24651, 24706, 24817, 24847, 24926, 25121, 25216, 25220, 25432, 25434, 25451, 25797, 25800, 25821, 25849, 25858, 25886, 25921, 25945, 26020, 26061, 26062, 26081, 26091, 26094, 26095, 26183, 26272, 26277, 26279, 26325, 26339, 26406, 26408, 26410, 26520, 26522, 26527, 27009, 27015, 27016, 27019, 27022, 27024, 27026, 27036, 27045, 27071, 27280, 27587, 27634, 27662, 27669, 27679, 27692, 27698, 27716, 27729, 27745, 27749, 27768, 27770, 27779, 27792, 27808, 27839, 27858, 27867, 27879, 27890, 27891, 27905, 27944, 27975, 27982]\n",
      "\n",
      "Acurácia:  0.9619285714285715 \n",
      "\n"
     ]
    }
   ],
   "source": [
    "accuracy,wrong_indexes = get_acurracy(test_data_being_used)\n",
    "\n",
    "print( \"Qntd de exemplos:\",len(test_data_being_used[\"inputs\"]))\n",
    "print(f\"Indexes onde está errado: {wrong_indexes}\\n\")\n",
    "print(\"Acurácia: \",accuracy,'\\n' )"
   ]
  },
  {
   "cell_type": "markdown",
   "id": "003b1452",
   "metadata": {},
   "source": [
    "### Escolha um index no intervalo [0,30'000) Cerca de 99% vai estar certo\n",
    "#### *A ideia é poder ver a imagem e a predição do modelo*"
   ]
  },
  {
   "cell_type": "code",
   "execution_count": 17,
   "id": "384905a2",
   "metadata": {},
   "outputs": [
    {
     "name": "stdout",
     "output_type": "stream",
     "text": [
      "Label:  [0 0 0 0 1 0 0 0 0 0]\n",
      "Prediction:  [0 0 0 0 1 0 0 0 0 0]\n"
     ]
    },
    {
     "data": {
      "image/png": "[encoded data removed]",
      "text/plain": [
       "<Figure size 432x288 with 1 Axes>"
      ]
     },
     "metadata": {
      "needs_background": "light"
     },
     "output_type": "display_data"
    }
   ],
   "source": [
    "# Escolha um index no intervalo [0,2800'000) Cerca de 96% vai estar certo\n",
    "index = 300\n",
    "test_prediction(index,test_data_being_used,model)"
   ]
  },
  {
   "cell_type": "markdown",
   "id": "353fbad5",
   "metadata": {},
   "source": [
    "## Algumas das imagens que deram errado\n",
    "#### *Apenas troque esses index e vejao exemplos em que o modelo errou*"
   ]
  },
  {
   "cell_type": "code",
   "execution_count": 33,
   "id": "059fa345",
   "metadata": {},
   "outputs": [
    {
     "name": "stdout",
     "output_type": "stream",
     "text": [
      "Label:  [0 0 0 0 0 1 0 0 0 0]\n",
      "Prediction:  [1 0 0 0 0 0 0 0 0 0]\n"
     ]
    },
    {
     "data": {
      "image/png": "[encoded data removed]",
      "text/plain": [
       "<Figure size 432x288 with 1 Axes>"
      ]
     },
     "metadata": {
      "needs_background": "light"
     },
     "output_type": "display_data"
    }
   ],
   "source": [
    "# Alguns dos indexes errados:26522,27839,21073,21558 (usando 28k testing_data)\n",
    "index_errado = 21558\n",
    "test_prediction(index_errado,test_data_being_used,model)"
   ]
  },
  {
   "cell_type": "markdown",
   "id": "9640d3a3",
   "metadata": {},
   "source": [
    "# Testaremos com novos dados gerando por desenhos no paint\n",
    "### Essa função ajuda a pegar os pixels como np.array"
   ]
  },
  {
   "cell_type": "code",
   "execution_count": 9,
   "id": "95700de9",
   "metadata": {},
   "outputs": [],
   "source": [
    "def get_pixels(filename):\n",
    "\tim = Image.open(filename, \"r\")\n",
    "\tpixels = list(im.getdata())\n",
    "\tmono_channel_pixels = [rgb[2] for rgb in pixels[0:784]]\n",
    "\treturn np.array(mono_channel_pixels)/255.0"
   ]
  },
  {
   "cell_type": "markdown",
   "id": "1a2d8e2a",
   "metadata": {},
   "source": [
    "## Agora **edite** o aquivo *digit28x28.png* no **paint** e **rode** a celula abaixo novamente para ir atualizando a predição do modelo"
   ]
  },
  {
   "cell_type": "code",
   "execution_count": 19,
   "id": "f6e5ab87",
   "metadata": {},
   "outputs": [
    {
     "name": "stdout",
     "output_type": "stream",
     "text": [
      "Label:  made on paint\n",
      "Prediction:  [0 0 0 0 0 1 0 0 0 0]\n"
     ]
    },
    {
     "data": {
      "image/png": "[encoded data removed]",
      "text/plain": [
       "<Figure size 432x288 with 1 Axes>"
      ]
     },
     "metadata": {
      "needs_background": "light"
     },
     "output_type": "display_data"
    }
   ],
   "source": [
    "test_pixels = get_pixels(\"digit28x28.png\")\n",
    "test_prediction(0,{\"inputs\":[test_pixels],\"outputs\":[[1]]},model)\n"
   ]
  }
 ],
 "metadata": {
  "interpreter": {
   "hash": "11f1dc213e07634baa4c5c321dec03c05dafae643c50f20e6d1a492290c05dc2"
  },
  "kernelspec": {
   "display_name": "Python 3.9.4 64-bit",
   "name": "python3"
  },
  "language_info": {
   "codemirror_mode": {
    "name": "ipython",
    "version": 3
   },
   "file_extension": ".py",
   "mimetype": "text/x-python",
   "name": "python",
   "nbconvert_exporter": "python",
   "pygments_lexer": "ipython3",
   "version": "3.9.4"
  }
 },
 "nbformat": 4,
 "nbformat_minor": 5
}
