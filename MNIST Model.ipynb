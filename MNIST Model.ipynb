{
 "cells": [
  {
   "cell_type": "code",
   "execution_count": 1,
   "id": "6931dfc4",
   "metadata": {},
   "outputs": [
    {
     "name": "stdout",
     "output_type": "stream",
     "text": [
      "Requirement already satisfied: requests in c:\\users\\administrator\\appdata\\local\\programs\\python\\python39\\lib\\site-packages (2.26.0)\n",
      "Requirement already satisfied: certifi>=2017.4.17 in c:\\users\\administrator\\appdata\\local\\programs\\python\\python39\\lib\\site-packages (from requests) (2021.10.8)\n",
      "Requirement already satisfied: urllib3<1.27,>=1.21.1 in c:\\users\\administrator\\appdata\\local\\programs\\python\\python39\\lib\\site-packages (from requests) (1.26.7)\n",
      "Requirement already satisfied: charset-normalizer~=2.0.0 in c:\\users\\administrator\\appdata\\local\\programs\\python\\python39\\lib\\site-packages (from requests) (2.0.7)\n",
      "Requirement already satisfied: idna<4,>=2.5 in c:\\users\\administrator\\appdata\\local\\programs\\python\\python39\\lib\\site-packages (from requests) (3.3)\n"
     ]
    }
   ],
   "source": [
    "import numpy as np        \n",
    "import matplotlib.pyplot as plt\n",
    "%matplotlib inline\n",
    "\n",
    "from src.mnist import load_mnist_data # Pegar todos os dados dos digitos MNIST como binário, e transformar para np.array\n",
    "from src.Model import Model # Classe custom Modelo Deep\n",
    "from PIL import Image   # Manipulação de Pixels\n",
    "\n",
    "!pip install requests"
   ]
  },
  {
   "cell_type": "markdown",
   "id": "3314d2dd",
   "metadata": {},
   "source": [
    "### Treinando o Modelo da Classe *Model*. \n",
    "#### Esse modelo vem um classe custom da class *Model*, o qual é utilizado apenas numpy na sua implementação\n",
    "#### Vamos treinar para reconhecer o digits do data set MNIST, com seguintes configurações:\n",
    "#### - **2** hidden layers de **128** dimensões\n",
    "#### - **0.035** learning rate\n",
    "#### - **sigmoid** activation, em todas as camadas \n",
    "#### - **MSE** função custo\n",
    "#### - **2** épocas (pode botar mais se quiser, mas com 2 já trás uma boa acurácia), cada epoca passa por **42 mil** exemplos dos dados de treinamento\n",
    "\n",
    "## Comentários sobre treinamento:\n",
    "##### Houve experimentos anteriores, utilizando, duas (ou mais, porém esses demorariam muito na minha máquina) hidden layers de 64 dimensões, outra vez com 16 dimensões, e por fim 48.\n",
    "\n",
    "Á priori, percebi com sigmoid 64 para 128 dimensões sempre achava um caminho que aprendia rápido o suficiente, com 50 épocas com lr = 0.035 \n",
    "rapidamente chegava a 92% acurácia, e com mais algumas épocas chegava a 97% (*com dados de treinamento*). \n",
    "\n",
    "Porém eu temo que com tantas dimensões pode ocorrer de se especializar demais, eu penso nisso, porque mais lá pra baixo nesse notebook, existe uma sessão onde podemos assistir o que o modelo advinha com um exemplo *custom* de uma imagem 28x28 de um digito criada por mim no app **microsoft paint**, e nesse casos, com 128 dimensões, ele erra coisas que um modelo de 16 dimensões, não erraria, apesar do modelo de 16 ter uma acurácia menor (91%), me pareceu generalizar melhor. \n",
    "Eu imagino que com menos dimensões na camada escondida o Modelo é forçado a entender o que é mais importante, ao invez de \"manter em mente\" caracteristicas especificas dos dados de treinamento.\n",
    "\n",
    "Além disso, os modelos com mais camadas de pequenas dimensões, demoraram  muito para aumentar acurácia, exemplo:\n",
    "Modelo de:\n",
    "\t- 3 hidden layer de dimensões na sequencia (20,16,20)\n",
    "\t- *tangente hiperbolica* (\"tanh\") activation, em todas as camadas\n",
    "\t- lr = 0.02\n",
    "\t- MSE, custo\n",
    "\t- 500 épocas de 40 mil exemplos\n",
    "Esse modelo chegou a uma acurácia de 88%, muito inferior tanto em velocidade de treinamento, e acertos.\n",
    "Mas, esse modelo de tanh, ele teve uma generalização decente, chegando a ser parecido com o Modelo que vamos usar (2 hidden de 128 dim).\n",
    "Claro que foi só eu desenhando no paint e testando, mas te faz questionar um pouco se esse modelo continuasse treinando, ele teria uma generalização melhor?"
   ]
  },
  {
   "cell_type": "code",
   "execution_count": 2,
   "id": "e97db549",
   "metadata": {},
   "outputs": [
    {
     "name": "stdout",
     "output_type": "stream",
     "text": [
      "Normalizing Term: 255\n",
      "Quantidade de exemplos: 70000\n",
      "Dimensão da imagem:  784\n",
      "Quantidade de digitos:  10\n"
     ]
    }
   ],
   "source": [
    "\n",
    "# traning_data, foi os 42 mil usados pelo modelo.\n",
    "# dimensions, as dimensões usadas para treinamentodo modelo (784,128,128,10)\n",
    "all_data = load_mnist_data()\n",
    "split = 42000\n",
    "\n",
    "normalize_term = np.amax(all_data[\"inputs\" ])\n",
    "\n",
    "print(\"Normalizing Term:\",\tnormalize_term)\n",
    "print(\"Quantidade de exemplos:\",\tlen(all_data[\"inputs\"]))\n",
    "print(\"Dimensão da imagem: \",\t\tlen(all_data[\"inputs\"][0]))\n",
    "print(\"Quantidade de digitos: \",\tlen(all_data[\"outputs\"][0]))\n",
    "\n",
    "# Treinamos com 42 mil exemplos\n",
    "train_data = {\n",
    "\t\"inputs\" :\tall_data[\"inputs\" ][:split]/normalize_term,\n",
    "\t\"outputs\":\tall_data[\"outputs\"][:split]\n",
    "}\n",
    "\n",
    "# Restante dos 28 mil exemplos que o modelo não viu, será nossos dados de teste\n",
    "test_data = {\n",
    "\t\"inputs\" :\tall_data[\"inputs\" ][split:]/normalize_term,\n",
    "\t\"outputs\":\tall_data[\"outputs\"][split:]\n",
    "}\n",
    "\n",
    "test_data_being_used = test_data"
   ]
  },
  {
   "cell_type": "markdown",
   "metadata": {},
   "source": [
    "## Treinando Modelo"
   ]
  },
  {
   "cell_type": "code",
   "execution_count": 3,
   "metadata": {},
   "outputs": [],
   "source": [
    "# Modelo com configurações mencionada anteriormente\n",
    "#model  = Model((784,128,128,10), activation=\"sigmoid\", verbose=0, wr=(-0.5,0.5))\n",
    "\"\"\"Caso queira começar do zero, comente a proxima linha e descomente a linha anterior\"\"\"\n",
    "model  = Model.load(\"./models/model_128x128\")\n"
   ]
  },
  {
   "cell_type": "code",
   "execution_count": 4,
   "metadata": {},
   "outputs": [
    {
     "name": "stdout",
     "output_type": "stream",
     "text": [
      "\n",
      "> Model Started Training...\n",
      "\n",
      "> Done.\n",
      "np.std(train_data['inputs'])=0.30871470959787384\n"
     ]
    }
   ],
   "source": [
    "\"\"\"É possivel repetir essa celula diversas vezes para treinar o modelo, com epochs, our learning rate diferentes\"\"\"\n",
    "learning_rate = 0.035\n",
    "# Fique a vontade pra trocar aumentar as épocas, sei que com 50 chega a 98% acurácia\n",
    "epochs = 0\n",
    "model_filename = \"model_128x128\"\n",
    "\n",
    "print(\"\\n> Model Started Training...\\n\")\n",
    "\t\t\t\n",
    "model.train(\n",
    "\ttrain_data[\"inputs\"],\n",
    "\ttrain_data[\"outputs\"],\n",
    "\tlr = learning_rate, epochs=epochs,\n",
    "\tshuffle=True,\n",
    "\tautosave=False)\n",
    "\t\n",
    "# Caso já tenha um modelo salvo, dê load assim\n",
    "#model = Model.load(\"./models/\" + model_filename)\n",
    "\n",
    "print(\"> Done.\")\n",
    "print(f\"{np.std(train_data['inputs'])=}\")\n"
   ]
  },
  {
   "cell_type": "code",
   "execution_count": 5,
   "metadata": {},
   "outputs": [
    {
     "name": "stdout",
     "output_type": "stream",
     "text": [
      "/*==================================================*/\n",
      "X  (input) layer:\n",
      "[[0.         0.         0.         0.         0.         0.\n",
      "  0.         0.         0.         0.         0.         0.\n",
      "  0.         0.         0.         0.         0.         0.\n",
      "  0.         0.         0.         0.         0.         0.\n",
      "  0.         0.         0.         0.         0.         0.\n",
      "  0.         0.         0.         0.         0.         0.\n",
      "  0.         0.         0.         0.         0.         0.\n",
      "  0.         0.         0.         0.         0.         0.\n",
      "  0.         0.         0.         0.         0.         0.\n",
      "  0.         0.         0.         0.         0.         0.\n",
      "  0.         0.         0.         0.         0.         0.\n",
      "  0.         0.         0.         0.         0.         0.\n",
      "  0.         0.         0.         0.         0.         0.\n",
      "  0.         0.         0.         0.         0.         0.\n",
      "  0.         0.         0.         0.         0.         0.\n",
      "  0.         0.         0.         0.         0.         0.\n",
      "  0.         0.         0.         0.         0.         0.\n",
      "  0.         0.         0.         0.         0.         0.\n",
      "  0.         0.         0.         0.         0.         0.\n",
      "  0.         0.         0.         0.         0.         0.\n",
      "  0.         0.         0.         0.         0.         0.\n",
      "  0.         0.         0.         0.         0.         0.\n",
      "  0.         0.         0.         0.         0.         0.\n",
      "  0.         0.         0.         0.         0.         0.\n",
      "  0.         0.         0.         0.         0.         0.\n",
      "  0.         0.         0.         0.         0.         0.\n",
      "  0.         0.         0.         0.         0.16470588 0.85490196\n",
      "  0.5254902  0.72941176 0.         0.         0.         0.\n",
      "  0.         0.         0.         0.         0.         0.\n",
      "  0.         0.         0.         0.         0.         0.02352941\n",
      "  0.14509804 0.71372549 0.38431373 0.2        0.         0.\n",
      "  0.         0.10588235 0.86666667 0.99215686 0.98823529 0.86666667\n",
      "  0.0627451  0.         0.         0.         0.         0.\n",
      "  0.         0.         0.         0.         0.         0.\n",
      "  0.         0.         0.49019608 0.62745098 0.98823529 0.99215686\n",
      "  0.98823529 0.68627451 0.56470588 0.         0.         0.0627451\n",
      "  0.74509804 0.99215686 0.98823529 0.98823529 0.42352941 0.\n",
      "  0.         0.         0.         0.         0.         0.\n",
      "  0.         0.         0.         0.         0.00392157 0.42745098\n",
      "  0.90980392 0.98823529 0.98823529 0.99215686 0.98823529 0.98823529\n",
      "  0.98823529 0.         0.         0.         0.         0.42745098\n",
      "  0.98823529 0.9254902  0.24313725 0.         0.         0.\n",
      "  0.         0.         0.         0.         0.         0.\n",
      "  0.         0.         0.49019608 0.98823529 0.98823529 0.98823529\n",
      "  0.98823529 0.99215686 0.98823529 0.78431373 0.70196078 0.\n",
      "  0.         0.         0.         0.42745098 0.98823529 0.84313725\n",
      "  0.16470588 0.         0.         0.         0.         0.\n",
      "  0.         0.         0.         0.         0.         0.\n",
      "  0.24313725 0.74117647 0.82745098 0.98823529 0.98823529 0.92941176\n",
      "  0.35686275 0.07843137 0.         0.         0.         0.\n",
      "  0.08235294 0.83137255 0.98823529 0.94509804 0.86666667 0.\n",
      "  0.         0.         0.         0.         0.         0.\n",
      "  0.         0.         0.         0.08235294 0.80784314 0.98823529\n",
      "  0.74509804 0.98823529 0.65882353 0.24313725 0.         0.\n",
      "  0.         0.         0.         0.08235294 0.80784314 0.99215686\n",
      "  0.98823529 0.98823529 0.98823529 0.         0.         0.\n",
      "  0.         0.         0.         0.         0.         0.\n",
      "  0.28627451 0.99215686 0.99215686 0.99215686 0.99215686 0.85098039\n",
      "  0.         0.         0.         0.         0.         0.\n",
      "  0.1254902  0.83137255 0.99215686 1.         0.99215686 0.99215686\n",
      "  0.42352941 0.         0.         0.         0.         0.\n",
      "  0.         0.         0.         0.         0.45098039 0.98823529\n",
      "  0.98823529 0.98823529 0.58039216 0.11764706 0.         0.\n",
      "  0.         0.         0.         0.         0.45098039 0.98823529\n",
      "  0.98823529 0.99215686 0.98823529 0.8627451  0.05882353 0.\n",
      "  0.         0.         0.         0.         0.         0.\n",
      "  0.         0.         0.85098039 0.98823529 0.98823529 0.98823529\n",
      "  0.1372549  0.         0.         0.         0.         0.10588235\n",
      "  0.47058824 0.71372549 0.94901961 0.98823529 0.98823529 0.99215686\n",
      "  0.98823529 0.43921569 0.         0.         0.         0.\n",
      "  0.         0.         0.         0.         0.         0.\n",
      "  0.85098039 0.98823529 0.98823529 0.98823529 0.1372549  0.\n",
      "  0.         0.         0.49019608 0.86666667 0.98823529 0.99215686\n",
      "  0.98823529 0.98823529 0.98823529 0.99215686 0.50196078 0.12156863\n",
      "  0.         0.         0.         0.         0.         0.\n",
      "  0.         0.         0.         0.43137255 0.91372549 0.99215686\n",
      "  0.99215686 0.56470588 0.         0.30980392 0.42745098 1.\n",
      "  0.99215686 0.99215686 0.99215686 1.         0.99215686 0.99215686\n",
      "  0.99215686 0.81568627 0.07843137 0.         0.         0.\n",
      "  0.         0.         0.         0.         0.         0.\n",
      "  0.         0.99215686 0.98823529 0.98823529 0.98823529 0.92941176\n",
      "  0.85098039 0.94901961 0.98823529 0.99215686 0.98823529 0.98823529\n",
      "  0.98823529 0.99215686 0.98823529 0.98823529 0.82352941 0.07843137\n",
      "  0.         0.         0.         0.         0.         0.\n",
      "  0.         0.         0.         0.         0.         0.99215686\n",
      "  0.98823529 0.98823529 0.98823529 0.98823529 0.98823529 0.98823529\n",
      "  0.98823529 0.99215686 0.98823529 0.98823529 0.98823529 0.85098039\n",
      "  0.84313725 0.43921569 0.12156863 0.         0.         0.\n",
      "  0.         0.         0.         0.         0.         0.\n",
      "  0.         0.         0.         0.66666667 0.98823529 0.98823529\n",
      "  0.98823529 0.98823529 0.98823529 0.98823529 0.98823529 0.99215686\n",
      "  0.98823529 0.98823529 0.98823529 0.         0.         0.\n",
      "  0.         0.         0.         0.         0.         0.\n",
      "  0.         0.         0.         0.         0.         0.\n",
      "  0.         0.         0.85490196 0.99215686 0.99215686 0.99215686\n",
      "  0.99215686 0.99215686 0.99215686 1.         0.99215686 0.68627451\n",
      "  0.24313725 0.         0.         0.         0.         0.\n",
      "  0.         0.         0.         0.         0.         0.\n",
      "  0.         0.         0.         0.         0.         0.\n",
      "  0.28235294 0.90588235 0.98823529 0.98823529 0.98823529 0.98823529\n",
      "  0.98823529 0.46666667 0.1372549  0.03921569 0.         0.\n",
      "  0.         0.         0.         0.         0.         0.\n",
      "  0.         0.         0.         0.         0.         0.\n",
      "  0.         0.         0.         0.         0.         0.20392157\n",
      "  0.27843137 0.27843137 0.27843137 0.27843137 0.27843137 0.\n",
      "  0.         0.         0.         0.         0.         0.\n",
      "  0.         0.         0.         0.         0.         0.\n",
      "  0.         0.         0.         0.         0.         0.\n",
      "  0.         0.         0.         0.         0.         0.\n",
      "  0.         0.         0.         0.         0.         0.\n",
      "  0.         0.         0.         0.         0.         0.\n",
      "  0.         0.         0.         0.         0.         0.\n",
      "  0.         0.         0.         0.         0.         0.\n",
      "  0.         0.         0.         0.         0.         0.\n",
      "  0.         0.         0.         0.         0.         0.\n",
      "  0.         0.         0.         0.         0.         0.\n",
      "  0.         0.         0.         0.         0.         0.\n",
      "  0.         0.         0.         0.         0.         0.\n",
      "  0.         0.         0.         0.         0.         0.\n",
      "  0.         0.         0.         0.         0.         0.\n",
      "  0.         0.         0.         0.         0.         0.\n",
      "  0.         0.         0.         0.         0.         0.\n",
      "  0.         0.         0.         0.         0.         0.\n",
      "  0.         0.         0.         0.         0.         0.\n",
      "  0.         0.         0.         0.         0.         0.\n",
      "  0.         0.         0.         0.         0.         0.\n",
      "  0.         0.         0.         0.         0.         0.\n",
      "  0.         0.         0.         0.         0.         0.\n",
      "  0.         0.         0.         0.         0.         0.\n",
      "  0.         0.         0.         0.         0.         0.\n",
      "  0.         0.         0.         0.        ]]\n",
      "H1 (hidden 1) LAYER:\n",
      "[[4.46856060e-05 9.99989962e-01 9.99999996e-01 6.79929946e-12\n",
      "  9.28276737e-02 2.04588137e-12 7.69349289e-11 9.12220783e-15\n",
      "  1.84527948e-01 1.00000000e+00 9.99963002e-01 9.99983098e-01\n",
      "  1.00000000e+00 1.07553979e-06 7.65346093e-01 9.99998472e-01\n",
      "  1.00000000e+00 7.24263116e-06 4.82636089e-08 7.41930712e-01\n",
      "  9.99700356e-01 1.22521090e-15 1.13208235e-05 9.72165651e-01\n",
      "  9.96689079e-01 2.95857187e-05 1.00000000e+00 2.65836121e-04\n",
      "  2.14578607e-10 1.20419636e-10 2.93478761e-02 3.78862871e-17\n",
      "  4.40847610e-02 1.59646716e-03 9.99572763e-01 3.92377292e-05\n",
      "  8.36593702e-01 4.89293592e-08 5.79149629e-09 3.28179889e-20\n",
      "  1.49087679e-09 3.45867098e-04 2.02894873e-09 9.99844786e-01\n",
      "  1.70794037e-08 1.87415920e-05 6.04142356e-08 9.99959031e-01\n",
      "  8.19534288e-08 2.83057850e-08 1.00000000e+00 4.71557258e-01\n",
      "  1.00000000e+00 8.44461666e-01 9.97270751e-01 1.46518473e-04\n",
      "  1.09292324e-07 2.29422199e-02 4.38908750e-11 1.01104370e-03\n",
      "  1.38704624e-16 4.53515210e-01 1.00000000e+00 1.00000000e+00\n",
      "  5.70386947e-04 3.20309232e-10 1.00701590e-21 3.47560156e-11\n",
      "  9.97863681e-01 8.48854718e-01 1.66072078e-08 1.77290565e-24\n",
      "  2.83295458e-11 9.99962646e-01 1.68697235e-09 1.00000000e+00\n",
      "  2.55995784e-06 1.46914463e-16 3.52364723e-08 2.46456288e-12\n",
      "  9.99802169e-01 4.97319963e-03 9.97274737e-01 1.44621337e-07\n",
      "  9.99999965e-01 9.99999975e-01 8.60531833e-01 1.00000000e+00\n",
      "  2.21335090e-05 8.91546598e-01 9.99928881e-01 9.99999241e-01\n",
      "  9.99996789e-01 3.34426744e-04 1.00000000e+00 5.55427940e-03\n",
      "  1.73060283e-10 1.72494600e-08 9.98976432e-01 1.64593216e-12\n",
      "  9.99943346e-01 1.00000000e+00 6.38106005e-05 9.99998182e-01\n",
      "  3.61812715e-04 2.01221249e-03 2.14124220e-13 4.47812247e-35\n",
      "  1.05950722e-13 1.11429148e-15 2.68496480e-14 9.94872131e-01\n",
      "  1.77167715e-09 2.27421969e-04 1.00000000e+00 1.85847240e-19\n",
      "  9.89384436e-09 8.43433445e-01 2.04506055e-18 1.00000000e+00\n",
      "  9.95290898e-01 3.16726989e-07 2.60345179e-02 2.94549588e-06\n",
      "  2.51699631e-06 9.99836029e-01 9.99888113e-01 9.99781071e-01]]\n",
      "H2 (hidden 2) LAYER:\n",
      "[[7.37073898e-02 2.33039009e-01 5.15623641e-02 1.23978152e-02\n",
      "  1.29950573e-02 8.25085279e-02 1.00559126e-01 4.00203548e-02\n",
      "  1.52757346e-03 3.86697208e-02 6.29606752e-02 2.29139536e-01\n",
      "  7.94176656e-01 2.87823551e-01 1.78056697e-02 5.74111091e-01\n",
      "  9.98026966e-01 4.16766798e-01 9.86602822e-01 1.56087355e-02\n",
      "  8.88097060e-02 5.37769561e-01 2.89101098e-01 2.68661728e-01\n",
      "  1.81275517e-01 4.47759421e-01 9.10554276e-01 8.30149707e-04\n",
      "  9.43329501e-01 1.64059747e-01 9.69403897e-01 1.11072264e-01\n",
      "  2.34994035e-02 9.44901462e-01 2.01718063e-01 1.06114644e-01\n",
      "  1.81452881e-01 8.70450968e-01 8.76591234e-01 1.23388516e-01\n",
      "  6.28453768e-01 1.44847596e-01 9.37984454e-01 4.31573741e-02\n",
      "  1.35182105e-01 3.63492199e-01 1.89657041e-01 4.44393776e-01\n",
      "  1.35129604e-01 8.68770408e-01 9.64485961e-01 6.28345415e-01\n",
      "  9.90311123e-01 3.01367617e-01 4.21768151e-01 7.80736305e-01\n",
      "  9.60612411e-01 6.04252793e-01 1.66092201e-01 6.60564997e-01\n",
      "  4.53723505e-01 9.68177253e-01 8.38177361e-01 1.79557283e-01\n",
      "  6.89284186e-01 7.39668497e-01 2.46239479e-01 1.96084081e-01\n",
      "  8.71091653e-02 1.37626510e-02 8.61708691e-01 6.92606614e-01\n",
      "  1.10856644e-01 9.24809857e-01 7.50456120e-01 9.19853450e-01\n",
      "  1.32719254e-01 1.33281815e-01 4.49968515e-01 5.50695326e-02\n",
      "  8.91450697e-01 8.00366600e-03 8.99664608e-01 1.11565723e-02\n",
      "  6.95906668e-02 6.98172977e-01 2.49442796e-01 1.94061829e-02\n",
      "  4.92379440e-01 6.21472313e-02 1.14049934e-02 2.62161853e-01\n",
      "  9.47567575e-01 8.30641610e-01 9.34533507e-01 9.97732388e-01\n",
      "  5.17720926e-01 5.46046449e-01 6.38518048e-02 3.12648934e-02\n",
      "  1.69616257e-02 2.15498265e-01 8.23788689e-01 5.29682331e-01\n",
      "  3.31218687e-02 5.99438092e-01 1.78920379e-01 9.90766464e-03\n",
      "  4.11597018e-01 9.98087744e-01 5.59368608e-01 2.51675656e-01\n",
      "  5.37404332e-01 1.36682522e-01 9.91337567e-01 1.24512667e-01\n",
      "  9.51100363e-01 9.65670994e-01 9.19562669e-01 1.31012822e-01\n",
      "  7.61173514e-01 2.71121999e-03 3.11925042e-01 5.08802915e-01\n",
      "  4.94608943e-01 7.84067659e-01 4.41074797e-03 7.84002056e-02]]\n",
      "Y  (output) LAYER:\n",
      "[[9.90634678e-01 5.81078124e-08 3.87638735e-03 3.78403717e-09\n",
      "  2.42009096e-03 1.16270798e-07 5.47634971e-03 1.69401724e-07\n",
      "  4.31306341e-06 6.16610247e-05]]\n",
      "\n",
      "\n",
      "Current Loss: 0.0028179943566091614\n",
      "\n",
      "Current Acurácia: 0.9973095238095238\n",
      "\n",
      "/*==================================================*/\n"
     ]
    },
    {
     "data": {
      "image/png": "[encoded data removed]",
      "text/plain": [
       "<Figure size 432x288 with 1 Axes>"
      ]
     },
     "metadata": {
      "needs_background": "light"
     },
     "output_type": "display_data"
    },
    {
     "name": "stdout",
     "output_type": "stream",
     "text": [
      "> model saved in:  ./models/model_128x128\n",
      "> model saved in:  model_128x128\n"
     ]
    }
   ],
   "source": [
    "model.print()\n",
    "\n",
    "model.save(\"./models/\" + model_filename)\n",
    "print(\"> model saved in: \",model_filename)"
   ]
  },
  {
   "cell_type": "markdown",
   "id": "29b5ba65",
   "metadata": {},
   "source": [
    "### Função usada para fazer predições do set MNIST com o Modelo. \n",
    "*Ao usar **test_prediction** ira mostrar a **imagem**, o **label** correto, e a **decisão** do modelo*"
   ]
  },
  {
   "cell_type": "code",
   "execution_count": 6,
   "id": "d0302b4a",
   "metadata": {},
   "outputs": [],
   "source": [
    "def test_prediction(index, data, model:Model):\n",
    "\tcurrent_image = data[\"inputs\"][index]\n",
    "\ty_predict = model.predict(current_image)[0]\n",
    "\tprediction = (y_predict == y_predict.max()).astype(int)\n",
    "\n",
    "\tguess = list(prediction).index(1)\n",
    "\t\n",
    "\tlabel = data[\"outputs\"][index]\n",
    "\tground_truth = list(label).index(1)\n",
    "\n",
    "\t# Opção de desobrigar de fornecer label correto, para quando formor utilizar paint\n",
    "\tif len(label) < 10:\n",
    "\t\tlabel = \"made on paint\"\n",
    "\t\tground_truth = \" paint\"\n",
    "\n",
    "\tprint(\"Label: \", label)\n",
    "\tprint(\"Prediction: \", prediction)\n",
    "\n",
    "\tplt.gray()\n",
    "\tplt.title(\"Model thinks it is: \" + str(guess) + \"\\nGround truth: \" + str(ground_truth))\n",
    "\tplt.imshow( current_image.reshape((28, 28)) * 255, interpolation='nearest')\n",
    "\tplt.xticks([])\n",
    "\tplt.yticks([0])\n",
    "\tplt.show()"
   ]
  },
  {
   "cell_type": "markdown",
   "id": "48e6e09d",
   "metadata": {},
   "source": [
    "## Função p/ testar a acurácia dos restante 28 mil digitos que o modelo não viu ainda\n",
    "### e ainda retorna todos os indices errados"
   ]
  },
  {
   "cell_type": "code",
   "execution_count": 7,
   "id": "b420c82e",
   "metadata": {},
   "outputs": [],
   "source": [
    "def get_acurracy(testing_data):\n",
    "\t\n",
    "\tpredicts = list()\n",
    "\tfor y in testing_data[\"inputs\"]:\n",
    "\t\ty_predict = model.predict(y)[0]\n",
    "\t\tprediction = (y_predict == y_predict.max()).astype(int)\n",
    "\t\tpredicts.append(prediction)\n",
    "\treturn model.accuracy(predictions=predicts, outputs=testing_data[\"outputs\"], verbose=0)\n"
   ]
  },
  {
   "cell_type": "markdown",
   "id": "1687d198",
   "metadata": {},
   "source": [
    "## Array de indices onde o modelo errou\n",
    "#### Acurácia: cerca de **97%** usando 28 mil exemplos dos dados de teste os quais o modelo nunca viu"
   ]
  },
  {
   "cell_type": "code",
   "execution_count": 8,
   "id": "b61ecaaa",
   "metadata": {},
   "outputs": [
    {
     "name": "stdout",
     "output_type": "stream",
     "text": [
      "Qntd de exemplos: 28000\n",
      "Indexes onde está errado: [20, 78, 112, 139, 181, 199, 255, 337, 364, 384, 415, 428, 434, 438, 491, 503, 504, 526, 566, 624, 671, 673, 782, 854, 892, 941, 953, 973, 986, 995, 1012, 1034, 1043, 1069, 1099, 1109, 1121, 1454, 1537, 1548, 1562, 1574, 1588, 1658, 1670, 1702, 1823, 1867, 1897, 1898, 1950, 1986, 2172, 2262, 2294, 2300, 2378, 2442, 2456, 2484, 2552, 2626, 2690, 2753, 2827, 2848, 2870, 2959, 2961, 2969, 3005, 3043, 3114, 3116, 3117, 3143, 3185, 3238, 3274, 3352, 3422, 3439, 3458, 3502, 3509, 3520, 3530, 3532, 3575, 3615, 3616, 3692, 3749, 3761, 3801, 3813, 3868, 3875, 3901, 3954, 3968, 3982, 4015, 4033, 4078, 4088, 4122, 4146, 4238, 4241, 4247, 4248, 4269, 4284, 4285, 4288, 4298, 4314, 4368, 4373, 4404, 4406, 4412, 4435, 4689, 4709, 4726, 4736, 4776, 4815, 4857, 4860, 4895, 4906, 4938, 4941, 4965, 4976, 5034, 5094, 5132, 5152, 5217, 5220, 5227, 5234, 5247, 5264, 5317, 5376, 5421, 5443, 5471, 5475, 5479, 5560, 5597, 5600, 5689, 5690, 5718, 5737, 5759, 5844, 5883, 5888, 5926, 5951, 5962, 5966, 6102, 6228, 6258, 6297, 6354, 6382, 6397, 6494, 6522, 6524, 6546, 6649, 6681, 6772, 6786, 6824, 6836, 6899, 6930, 6933, 6966, 6975, 6990, 7002, 7012, 7014, 7026, 7064, 7107, 7139, 7143, 7164, 7201, 7217, 7300, 7416, 7487, 7493, 7514, 7517, 7543, 7545, 7567, 7573, 7590, 7656, 7662, 7672, 7740, 7741, 7744, 7830, 7841, 7859, 7868, 7889, 7890, 7892, 7893, 7923, 7955, 7960, 7985, 8005, 8149, 8212, 8239, 8320, 8322, 8329, 8340, 8346, 8359, 8369, 8391, 8403, 8417, 8426, 8428, 8431, 8446, 8514, 8522, 8537, 8572, 8574, 8698, 8747, 8787, 8821, 8896, 9106, 9230, 9248, 9274, 9300, 9346, 9371, 9398, 9464, 9476, 9544, 9600, 9698, 9740, 9764, 9794, 9863, 9944, 9990, 10048, 10086, 10129, 10144, 10160, 10163, 10169, 10218, 10241, 10246, 10280, 10294, 10324, 10394, 10548, 10661, 10674, 10707, 10713, 10800, 10808, 10812, 10895, 10899, 10914, 10932, 10938, 10953, 10968, 10981, 11017, 11024, 11036, 11063, 11098, 11156, 11158, 11216, 11312, 11398, 11470, 11476, 11507, 11578, 11612, 11623, 11638, 11641, 11680, 11694, 11731, 11732, 11740, 11784, 11806, 11872, 11903, 11906, 11911, 11976, 11999, 12011, 12074, 12097, 12178, 12191, 12296, 12377, 12378, 12436, 12492, 12506, 12528, 12554, 12586, 12623, 12654, 12834, 12858, 12878, 12879, 12880, 12885, 12916, 12926, 12932, 12937, 12966, 13028, 13128, 13153, 13168, 13194, 13240, 13244, 13278, 13294, 13330, 13340, 13368, 13432, 13438, 13480, 13496, 13513, 13648, 13729, 13739, 13792, 13804, 13886, 13906, 14014, 14066, 14142, 14180, 14220, 14224, 14228, 14268, 14346, 14380, 14397, 14464, 14480, 14485, 14586, 14596, 14655, 14672, 14780, 14800, 14914, 15041, 15054, 15076, 15082, 15199, 15276, 15302, 15311, 15486, 15532, 15566, 15630, 15662, 15683, 15713, 15718, 15728, 15731, 15862, 15972, 16048, 16050, 16072, 16080, 16101, 16344, 16470, 16560, 16871, 16874, 16892, 17289, 17314, 17361, 17368, 17384, 17401, 17433, 17653, 17701, 17719, 17720, 17726, 17731, 17747, 17784, 17915, 17942, 18008, 18247, 18259, 18321, 18445, 18447, 18495, 18551, 18578, 18582, 18659, 18684, 18691, 18720, 18740, 18844, 18846, 18882, 18924, 18947, 18951, 18965, 19003, 19014, 19039, 19044, 19112, 19114, 19182, 19226, 19232, 19242, 19247, 19260, 19319, 19326, 19328, 19393, 19425, 19494, 19500, 19522, 19530, 19549, 19553, 19609, 19626, 19642, 19670, 19678, 19681, 19701, 19751, 19754, 19790, 19868, 19878, 19911, 19940, 19941, 19955, 19982, 20004, 20016, 20035, 20053, 20109, 20118, 20130, 20135, 20182, 20185, 20293, 20369, 20387, 20406, 20408, 20422, 20426, 20462, 20488, 20607, 20611, 20648, 20654, 20877, 20896, 20927, 20939, 20953, 20970, 20995, 21030, 21060, 21073, 21206, 21422, 21503, 21520, 21533, 21558, 21559, 21597, 21674, 21727, 21749, 21757, 21767, 21776, 21780, 21808, 21811, 21818, 21853, 21893, 21902, 21906, 21941, 21968, 21976, 21995, 22000, 22007, 22065, 22075, 22078, 22140, 22163, 22176, 22193, 22199, 22201, 22212, 22224, 22248, 22289, 22306, 22317, 22360, 22425, 22433, 22497, 22536, 22571, 22601, 22633, 22690, 22699, 22740, 22807, 22814, 22823, 22860, 22879, 22880, 22886, 22911, 22950, 22956, 22966, 23067, 23140, 23165, 23331, 23600, 23634, 23642, 23676, 23734, 23749, 23887, 23888, 23936, 23937, 23955, 23972, 23973, 24023, 24027, 24028, 24035, 24045, 24046, 24059, 24065, 24172, 24173, 24505, 24553, 24555, 24564, 24571, 24576, 24597, 24603, 24625, 24632, 24651, 24755, 24783, 25216, 25432, 25434, 25472, 25842, 25886, 26020, 26062, 26094, 26183, 26246, 26255, 26277, 26325, 26408, 26520, 26527, 26607, 27009, 27015, 27019, 27024, 27280, 27534, 27538, 27587, 27642, 27664, 27679, 27698, 27700, 27729, 27745, 27749, 27768, 27770, 27777, 27779, 27808, 27858, 27879, 27922, 27944, 27975, 27982]\n",
      "\n",
      "Acurácia:  0.9747857142857143 \n",
      "\n"
     ]
    }
   ],
   "source": [
    "accuracy,wrong_indexes = get_acurracy(test_data_being_used)\n",
    "\n",
    "print( \"Qntd de exemplos:\",len(test_data_being_used[\"inputs\"]))\n",
    "print(f\"Indexes onde está errado: {wrong_indexes}\\n\")\n",
    "print(\"Acurácia: \",accuracy,'\\n' )"
   ]
  },
  {
   "cell_type": "markdown",
   "id": "003b1452",
   "metadata": {},
   "source": [
    "### Escolha um index no intervalo [0,28'000) Cerca de 97.9% vai estar certo\n",
    "#### *A ideia é poder ver a imagem e a predição do modelo*"
   ]
  },
  {
   "cell_type": "code",
   "execution_count": 9,
   "id": "384905a2",
   "metadata": {},
   "outputs": [
    {
     "name": "stdout",
     "output_type": "stream",
     "text": [
      "Label:  [0 1 0 0 0 0 0 0 0 0]\n",
      "Prediction:  [0 1 0 0 0 0 0 0 0 0]\n"
     ]
    },
    {
     "data": {
      "image/png": "[encoded data removed]",
      "text/plain": [
       "<Figure size 432x288 with 1 Axes>"
      ]
     },
     "metadata": {
      "needs_background": "light"
     },
     "output_type": "display_data"
    }
   ],
   "source": [
    "# Escolha um index no intervalo [0,2800'000) Cerca de 96% vai estar certo\n",
    "index = 27049\n",
    "test_prediction(index,test_data_being_used,model)"
   ]
  },
  {
   "cell_type": "markdown",
   "id": "353fbad5",
   "metadata": {},
   "source": [
    "## Algumas das imagens que deram errado\n",
    "#### *Apenas troque esses index e vejao exemplos em que o modelo errou*"
   ]
  },
  {
   "cell_type": "code",
   "execution_count": 10,
   "id": "059fa345",
   "metadata": {},
   "outputs": [
    {
     "name": "stdout",
     "output_type": "stream",
     "text": [
      "Label:  [1 0 0 0 0 0 0 0 0 0]\n",
      "Prediction:  [1 0 0 0 0 0 0 0 0 0]\n"
     ]
    },
    {
     "data": {
      "image/png": "[encoded data removed]",
      "text/plain": [
       "<Figure size 432x288 with 1 Axes>"
      ]
     },
     "metadata": {
      "needs_background": "light"
     },
     "output_type": "display_data"
    }
   ],
   "source": [
    "# Alguns dos indexes errados: 27749, 21073, 27839, 26522, 21558 (usando 28k testing_data)\n",
    "index_errado = 21077\n",
    "test_prediction(index_errado,test_data_being_used,model)"
   ]
  },
  {
   "cell_type": "markdown",
   "id": "9640d3a3",
   "metadata": {},
   "source": [
    "# Testaremos com novos dados gerando por desenhos no paint\n",
    "### Essa função ajuda a pegar os pixels como np.array"
   ]
  },
  {
   "cell_type": "code",
   "execution_count": 11,
   "id": "95700de9",
   "metadata": {},
   "outputs": [],
   "source": [
    "def get_pixels(filename):\n",
    "\tim = Image.open(filename, \"r\")\n",
    "\tpixels = list(im.getdata())\n",
    "\tmono_channel_pixels = [rgb[2] for rgb in pixels[0:784]]\n",
    "\treturn np.array(mono_channel_pixels)/255.0"
   ]
  },
  {
   "cell_type": "markdown",
   "id": "1a2d8e2a",
   "metadata": {},
   "source": [
    "## Agora **edite** o aquivo *digit28x28.png* no **paint** e **rode** a celula abaixo novamente para ir atualizando a predição do modelo\n",
    "### Lembre de manter o formato 28x28"
   ]
  },
  {
   "cell_type": "code",
   "execution_count": 12,
   "id": "f6e5ab87",
   "metadata": {},
   "outputs": [
    {
     "name": "stdout",
     "output_type": "stream",
     "text": [
      "Label:  made on paint\n",
      "Prediction:  [0 0 0 1 0 0 0 0 0 0]\n"
     ]
    },
    {
     "data": {
      "image/png": "[encoded data removed]",
      "text/plain": [
       "<Figure size 432x288 with 1 Axes>"
      ]
     },
     "metadata": {
      "needs_background": "light"
     },
     "output_type": "display_data"
    }
   ],
   "source": [
    "test_pixels = get_pixels(\"digit28x28.png\")\n",
    "test_prediction(0,{\"inputs\":[test_pixels],\"outputs\":[[1]]},model)\n"
   ]
  }
 ],
 "metadata": {
  "interpreter": {
   "hash": "11f1dc213e07634baa4c5c321dec03c05dafae643c50f20e6d1a492290c05dc2"
  },
  "kernelspec": {
   "display_name": "Python 3.9.4 64-bit",
   "name": "python3"
  },
  "language_info": {
   "codemirror_mode": {
    "name": "ipython",
    "version": 3
   },
   "file_extension": ".py",
   "mimetype": "text/x-python",
   "name": "python",
   "nbconvert_exporter": "python",
   "pygments_lexer": "ipython3",
   "version": "3.9.4"
  }
 },
 "nbformat": 4,
 "nbformat_minor": 5
}
