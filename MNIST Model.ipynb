{
 "cells": [
  {
   "cell_type": "code",
   "execution_count": 1,
   "id": "6931dfc4",
   "metadata": {},
   "outputs": [
    {
     "name": "stdout",
     "output_type": "stream",
     "text": [
      "Requirement already satisfied: requests in c:\\users\\administrator\\appdata\\local\\programs\\python\\python39\\lib\\site-packages (2.26.0)\n",
      "Requirement already satisfied: certifi>=2017.4.17 in c:\\users\\administrator\\appdata\\local\\programs\\python\\python39\\lib\\site-packages (from requests) (2021.10.8)\n",
      "Requirement already satisfied: idna<4,>=2.5 in c:\\users\\administrator\\appdata\\local\\programs\\python\\python39\\lib\\site-packages (from requests) (3.3)\n",
      "Requirement already satisfied: urllib3<1.27,>=1.21.1 in c:\\users\\administrator\\appdata\\local\\programs\\python\\python39\\lib\\site-packages (from requests) (1.26.7)\n",
      "Requirement already satisfied: charset-normalizer~=2.0.0 in c:\\users\\administrator\\appdata\\local\\programs\\python\\python39\\lib\\site-packages (from requests) (2.0.7)\n"
     ]
    }
   ],
   "source": [
    "import numpy as np        \n",
    "import matplotlib.pyplot as plt\n",
    "%matplotlib inline\n",
    "\n",
    "from src.mnist import load_mnist_data # Pegar todos os dados dos digitos MNIST como binário pickle\n",
    "from src.Model import Model # Classe custom Modelo Deep\n",
    "from PIL import Image   # Manipulação de Pixels\n",
    "\n",
    "!pip install requests"
   ]
  },
  {
   "cell_type": "markdown",
   "id": "3314d2dd",
   "metadata": {},
   "source": [
    "### Treinando o Modelo da Classe *Model*. \n",
    "#### Esse modelo vem um classe custom da class *Model*, o qual é utilizado apenas numpy na sua implementação\n",
    "#### Vamos treinar para reconhecer o digits do data set MNIST, com seguintes configurações:\n",
    "#### - **2** hidden layers de **128** dimensões\n",
    "#### - **0.035** learning rate\n",
    "#### - **sigmoid** activation, em todas as camadas \n",
    "#### - **MSE** função custo\n",
    "#### - **2** épocas (pode botar mais se quiser, mas com 2 já trás uma boa acurácia), cada epoca passa por **42 mil** exemplos dos dados de treinamento\n",
    "\n",
    "## Comentários sobre treinamento:\n",
    "##### Houve experimentos anteriores, utilizando, duas (ou mais, porém esses demorariam muito na minha máquina) hidden layers de 64 dimensões, outra vez com 16 dimensões, e por fim 48.\n",
    "\n",
    "Á priori, percebi com sigmoid 64 para 128 dimensões sempre achava um caminho que aprendia rápido o suficiente, com 50 épocas com lr = 0.035 \n",
    "rapidamente chegava a 92% acurácia, e com mais algumas épocas chegava a 97% (*com dados de treinamento*). \n",
    "\n",
    "Porém eu temo que com tantas dimensões pode ocorrer de se especializar demais, eu penso nisso, porque mais lá pra baixo nesse notebook, existe uma sessão onde podemos assistir o que o modelo advinha com um exemplo *custom* de uma imagem 28x28 de um digito criada por mim no app **microsoft paint**, e nesse casos, com 128 dimensões, ele erra coisas que um modelo de 16 dimensões, não erraria, apesar do modelo de 16 ter uma acurácia menor (91%), me pareceu generalizar melhor. \n",
    "Eu imagino que com menos dimensões na camada escondida o Modelo é forçado a entender o que é mais importante, ao invez de \"manter em mente\" caracteristicas especificas dos dados de treinamento.\n",
    "\n",
    "Além disso, os modelos com mais camadas de pequenas dimensões, demoraram  muito para aumentar acurácia, exemplo:\n",
    "Modelo de:\n",
    "\t- 3 hidden layer de dimensões na sequencia (20,16,20)\n",
    "\t- **tangente hiperbolica**(\"tanh\") activation, em todas as camadas\n",
    "\t- lr = 0.02\n",
    "\t- MSE, custo\n",
    "\t- 500 épocas de 40 mil exemplos\n",
    "Esse modelo chegou a uma acurácia de 88%, muito inferior tanto em velocidade de treinamento, e acertos.\n",
    "Mas, esse modelo de tanh, ele teve uma generalização decente, chegando a ser parecido com o Modelo que vamos usar (2 hidden de 128 dim).\n",
    "Claro que foi só eu desenhando no paint e testando, mas te faz questionar um pouco se esse modelo continuasse treinando, ele teria uma generalização melhor?"
   ]
  },
  {
   "cell_type": "code",
   "execution_count": 2,
   "id": "e97db549",
   "metadata": {},
   "outputs": [
    {
     "name": "stdout",
     "output_type": "stream",
     "text": [
      "Quantidade de exemplos: 70000\n",
      "Dimensão da imagem:  784\n",
      "Quantidade de digitos:  10\n"
     ]
    }
   ],
   "source": [
    "\n",
    "# traning_data, foi os 42 mil testados pelo modelo.\n",
    "# dimensions, as dimensões usadas para treinamentodo modelo (784,128,128,10)\n",
    "all_data = load_mnist_data()\n",
    "\n",
    "print(\"Quantidade de exemplos:\",\tlen(all_data[\"inputs\"]))\n",
    "print(\"Dimensão da imagem: \",\t\tlen(all_data[\"inputs\"][0]))\n",
    "print(\"Quantidade de digitos: \",\tlen(all_data[\"outputs\"][0]))\n",
    "\n",
    "# Treinamos com 42 mil exemplos\n",
    "train_data = {\n",
    "\t\"inputs\" :\tall_data[\"inputs\" ][:42000],\n",
    "\t\"outputs\":\tall_data[\"outputs\"][:42000]\n",
    "}\n",
    "\n",
    "# Restante dos 28 mil exemplos que o modelo não viu, será nossos dados de teste\n",
    "test_data = {\n",
    "\t\"inputs\" :\tall_data[\"inputs\" ][42000:],\n",
    "\t\"outputs\":\tall_data[\"outputs\"][42000:]\n",
    "}\n",
    "\n",
    "test_data_being_used = test_data"
   ]
  },
  {
   "cell_type": "markdown",
   "metadata": {},
   "source": [
    "## Treinando Modelo"
   ]
  },
  {
   "cell_type": "code",
   "execution_count": 30,
   "metadata": {},
   "outputs": [
    {
     "name": "stdout",
     "output_type": "stream",
     "text": [
      "> activation: 'sigmoid' selected\n"
     ]
    }
   ],
   "source": [
    "# Modelo com configurações mencionada anteriormente\n",
    "model  = Model((784,128,128,10), activation=\"sigmoid\", verbose=0, wr=(-0.5,0.5))\n"
   ]
  },
  {
   "cell_type": "code",
   "execution_count": 39,
   "metadata": {},
   "outputs": [
    {
     "name": "stdout",
     "output_type": "stream",
     "text": [
      "\n",
      "> Model Started Training...\n",
      "\n",
      "> Done.\n",
      "/*==================================================*/\n",
      "X  (input) layer:\n",
      "[[0.         0.         0.         0.         0.         0.\n",
      "  0.         0.         0.         0.         0.         0.\n",
      "  0.         0.         0.         0.         0.         0.\n",
      "  0.         0.         0.         0.         0.         0.\n",
      "  0.         0.         0.         0.         0.         0.\n",
      "  0.         0.         0.         0.         0.         0.\n",
      "  0.         0.         0.         0.         0.         0.\n",
      "  0.         0.         0.         0.         0.         0.\n",
      "  0.         0.         0.         0.         0.         0.\n",
      "  0.         0.         0.         0.         0.         0.\n",
      "  0.         0.         0.         0.         0.         0.\n",
      "  0.         0.         0.         0.         0.         0.\n",
      "  0.         0.         0.         0.         0.         0.\n",
      "  0.         0.         0.         0.         0.         0.\n",
      "  0.         0.         0.         0.         0.         0.\n",
      "  0.         0.         0.         0.         0.         0.\n",
      "  0.         0.         0.         0.         0.         0.\n",
      "  0.         0.         0.         0.         0.         0.\n",
      "  0.         0.         0.         0.         0.         0.\n",
      "  0.         0.         0.         0.         0.         0.\n",
      "  0.         0.         0.         0.         0.         0.\n",
      "  0.         0.         0.         0.         0.         0.\n",
      "  0.         0.         0.         0.         0.         0.\n",
      "  0.         0.         0.         0.         0.         0.\n",
      "  0.         0.         0.         0.         0.         0.\n",
      "  0.         0.         0.         0.         0.         0.\n",
      "  0.         0.         0.         0.         0.16470588 0.85490196\n",
      "  0.5254902  0.72941176 0.         0.         0.         0.\n",
      "  0.         0.         0.         0.         0.         0.\n",
      "  0.         0.         0.         0.         0.         0.02352941\n",
      "  0.14509804 0.71372549 0.38431373 0.2        0.         0.\n",
      "  0.         0.10588235 0.86666667 0.99215686 0.98823529 0.86666667\n",
      "  0.0627451  0.         0.         0.         0.         0.\n",
      "  0.         0.         0.         0.         0.         0.\n",
      "  0.         0.         0.49019608 0.62745098 0.98823529 0.99215686\n",
      "  0.98823529 0.68627451 0.56470588 0.         0.         0.0627451\n",
      "  0.74509804 0.99215686 0.98823529 0.98823529 0.42352941 0.\n",
      "  0.         0.         0.         0.         0.         0.\n",
      "  0.         0.         0.         0.         0.00392157 0.42745098\n",
      "  0.90980392 0.98823529 0.98823529 0.99215686 0.98823529 0.98823529\n",
      "  0.98823529 0.         0.         0.         0.         0.42745098\n",
      "  0.98823529 0.9254902  0.24313725 0.         0.         0.\n",
      "  0.         0.         0.         0.         0.         0.\n",
      "  0.         0.         0.49019608 0.98823529 0.98823529 0.98823529\n",
      "  0.98823529 0.99215686 0.98823529 0.78431373 0.70196078 0.\n",
      "  0.         0.         0.         0.42745098 0.98823529 0.84313725\n",
      "  0.16470588 0.         0.         0.         0.         0.\n",
      "  0.         0.         0.         0.         0.         0.\n",
      "  0.24313725 0.74117647 0.82745098 0.98823529 0.98823529 0.92941176\n",
      "  0.35686275 0.07843137 0.         0.         0.         0.\n",
      "  0.08235294 0.83137255 0.98823529 0.94509804 0.86666667 0.\n",
      "  0.         0.         0.         0.         0.         0.\n",
      "  0.         0.         0.         0.08235294 0.80784314 0.98823529\n",
      "  0.74509804 0.98823529 0.65882353 0.24313725 0.         0.\n",
      "  0.         0.         0.         0.08235294 0.80784314 0.99215686\n",
      "  0.98823529 0.98823529 0.98823529 0.         0.         0.\n",
      "  0.         0.         0.         0.         0.         0.\n",
      "  0.28627451 0.99215686 0.99215686 0.99215686 0.99215686 0.85098039\n",
      "  0.         0.         0.         0.         0.         0.\n",
      "  0.1254902  0.83137255 0.99215686 1.         0.99215686 0.99215686\n",
      "  0.42352941 0.         0.         0.         0.         0.\n",
      "  0.         0.         0.         0.         0.45098039 0.98823529\n",
      "  0.98823529 0.98823529 0.58039216 0.11764706 0.         0.\n",
      "  0.         0.         0.         0.         0.45098039 0.98823529\n",
      "  0.98823529 0.99215686 0.98823529 0.8627451  0.05882353 0.\n",
      "  0.         0.         0.         0.         0.         0.\n",
      "  0.         0.         0.85098039 0.98823529 0.98823529 0.98823529\n",
      "  0.1372549  0.         0.         0.         0.         0.10588235\n",
      "  0.47058824 0.71372549 0.94901961 0.98823529 0.98823529 0.99215686\n",
      "  0.98823529 0.43921569 0.         0.         0.         0.\n",
      "  0.         0.         0.         0.         0.         0.\n",
      "  0.85098039 0.98823529 0.98823529 0.98823529 0.1372549  0.\n",
      "  0.         0.         0.49019608 0.86666667 0.98823529 0.99215686\n",
      "  0.98823529 0.98823529 0.98823529 0.99215686 0.50196078 0.12156863\n",
      "  0.         0.         0.         0.         0.         0.\n",
      "  0.         0.         0.         0.43137255 0.91372549 0.99215686\n",
      "  0.99215686 0.56470588 0.         0.30980392 0.42745098 1.\n",
      "  0.99215686 0.99215686 0.99215686 1.         0.99215686 0.99215686\n",
      "  0.99215686 0.81568627 0.07843137 0.         0.         0.\n",
      "  0.         0.         0.         0.         0.         0.\n",
      "  0.         0.99215686 0.98823529 0.98823529 0.98823529 0.92941176\n",
      "  0.85098039 0.94901961 0.98823529 0.99215686 0.98823529 0.98823529\n",
      "  0.98823529 0.99215686 0.98823529 0.98823529 0.82352941 0.07843137\n",
      "  0.         0.         0.         0.         0.         0.\n",
      "  0.         0.         0.         0.         0.         0.99215686\n",
      "  0.98823529 0.98823529 0.98823529 0.98823529 0.98823529 0.98823529\n",
      "  0.98823529 0.99215686 0.98823529 0.98823529 0.98823529 0.85098039\n",
      "  0.84313725 0.43921569 0.12156863 0.         0.         0.\n",
      "  0.         0.         0.         0.         0.         0.\n",
      "  0.         0.         0.         0.66666667 0.98823529 0.98823529\n",
      "  0.98823529 0.98823529 0.98823529 0.98823529 0.98823529 0.99215686\n",
      "  0.98823529 0.98823529 0.98823529 0.         0.         0.\n",
      "  0.         0.         0.         0.         0.         0.\n",
      "  0.         0.         0.         0.         0.         0.\n",
      "  0.         0.         0.85490196 0.99215686 0.99215686 0.99215686\n",
      "  0.99215686 0.99215686 0.99215686 1.         0.99215686 0.68627451\n",
      "  0.24313725 0.         0.         0.         0.         0.\n",
      "  0.         0.         0.         0.         0.         0.\n",
      "  0.         0.         0.         0.         0.         0.\n",
      "  0.28235294 0.90588235 0.98823529 0.98823529 0.98823529 0.98823529\n",
      "  0.98823529 0.46666667 0.1372549  0.03921569 0.         0.\n",
      "  0.         0.         0.         0.         0.         0.\n",
      "  0.         0.         0.         0.         0.         0.\n",
      "  0.         0.         0.         0.         0.         0.20392157\n",
      "  0.27843137 0.27843137 0.27843137 0.27843137 0.27843137 0.\n",
      "  0.         0.         0.         0.         0.         0.\n",
      "  0.         0.         0.         0.         0.         0.\n",
      "  0.         0.         0.         0.         0.         0.\n",
      "  0.         0.         0.         0.         0.         0.\n",
      "  0.         0.         0.         0.         0.         0.\n",
      "  0.         0.         0.         0.         0.         0.\n",
      "  0.         0.         0.         0.         0.         0.\n",
      "  0.         0.         0.         0.         0.         0.\n",
      "  0.         0.         0.         0.         0.         0.\n",
      "  0.         0.         0.         0.         0.         0.\n",
      "  0.         0.         0.         0.         0.         0.\n",
      "  0.         0.         0.         0.         0.         0.\n",
      "  0.         0.         0.         0.         0.         0.\n",
      "  0.         0.         0.         0.         0.         0.\n",
      "  0.         0.         0.         0.         0.         0.\n",
      "  0.         0.         0.         0.         0.         0.\n",
      "  0.         0.         0.         0.         0.         0.\n",
      "  0.         0.         0.         0.         0.         0.\n",
      "  0.         0.         0.         0.         0.         0.\n",
      "  0.         0.         0.         0.         0.         0.\n",
      "  0.         0.         0.         0.         0.         0.\n",
      "  0.         0.         0.         0.         0.         0.\n",
      "  0.         0.         0.         0.         0.         0.\n",
      "  0.         0.         0.         0.         0.         0.\n",
      "  0.         0.         0.         0.         0.         0.\n",
      "  0.         0.         0.         0.        ]]\n",
      "H1 (hidden 1) LAYER:\n",
      "[[9.91528973e-01 1.00000000e+00 2.07633722e-27 9.45606911e-07\n",
      "  9.99997325e-01 5.44404551e-14 2.49800195e-13 1.00000000e+00\n",
      "  9.99999707e-01 2.15553398e-13 9.99986708e-01 6.55822597e-06\n",
      "  3.45016949e-04 1.00000000e+00 1.00000000e+00 1.00000000e+00\n",
      "  7.19212937e-01 3.62452163e-11 1.36323040e-01 3.83896372e-08\n",
      "  3.53236044e-05 1.98919857e-02 5.19996303e-14 4.39206430e-17\n",
      "  1.00000000e+00 2.52517501e-05 2.10593332e-17 3.80944878e-12\n",
      "  4.84362293e-03 1.00000000e+00 9.94768445e-01 3.44532430e-07\n",
      "  6.65379772e-03 9.99972635e-01 3.54908862e-10 1.36044538e-04\n",
      "  9.99711545e-01 9.99989678e-01 1.00000000e+00 9.99614431e-01\n",
      "  1.14159472e-04 6.39624450e-04 1.56710468e-03 1.00000000e+00\n",
      "  3.82906006e-12 6.26380822e-07 4.33748974e-14 9.98202313e-01\n",
      "  2.46986669e-06 1.43567647e-15 2.30992575e-01 2.72595718e-03\n",
      "  1.30385974e-13 2.79969123e-10 1.59313590e-03 9.48945270e-01\n",
      "  3.07907918e-23 5.11526918e-02 7.30651404e-14 4.52842940e-06\n",
      "  2.04829650e-15 2.73712742e-09 6.11038639e-15 1.00000000e+00\n",
      "  6.69028440e-09 8.75589534e-03 3.10076062e-06 1.06633309e-17\n",
      "  9.99999560e-01 2.77831152e-03 9.59299370e-09 3.74459910e-08\n",
      "  5.20770049e-06 2.59443454e-02 2.22365654e-04 6.21743840e-02\n",
      "  4.77429392e-05 2.10154618e-09 1.29119894e-10 9.99935786e-01\n",
      "  1.93158499e-08 3.84672110e-05 1.44482870e-04 2.28148982e-04\n",
      "  1.46837094e-05 3.14407949e-01 9.99999053e-01 2.00337483e-03\n",
      "  9.83295107e-01 4.28679965e-05 9.99090553e-01 1.53085975e-01\n",
      "  6.75778845e-08 1.07801974e-08 5.77478824e-04 9.99994380e-01\n",
      "  9.77866543e-01 9.99999609e-01 2.18408736e-14 1.34022854e-06\n",
      "  1.35509166e-06 1.09336971e-03 1.78231583e-09 9.99999997e-01\n",
      "  7.29711218e-13 2.13438146e-07 3.85683230e-02 9.99999610e-01\n",
      "  8.28759147e-06 1.00000000e+00 9.99868832e-01 9.99501799e-01\n",
      "  9.56718826e-08 1.52168621e-12 3.04578316e-16 1.86108007e-19\n",
      "  9.99999999e-01 5.36863449e-06 4.62304807e-09 1.64829497e-04\n",
      "  1.04858938e-02 2.50683809e-01 1.52859250e-06 6.20498662e-04\n",
      "  3.19525705e-01 9.75982653e-01 5.95519169e-04 9.99938954e-01]]\n",
      "H2 (hidden 2) LAYER:\n",
      "[[0.13591714 0.4728118  0.02589942 0.01075389 0.73785476 0.06480457\n",
      "  0.23123692 0.02063185 0.4446126  0.02792545 0.96599775 0.45748266\n",
      "  0.06811929 0.24157927 0.06961334 0.82639677 0.74302194 0.00565619\n",
      "  0.33836106 0.28183473 0.19236047 0.21229514 0.92960537 0.34189216\n",
      "  0.9836377  0.93670961 0.0536135  0.84183709 0.38218531 0.95672354\n",
      "  0.1077687  0.05856831 0.58609079 0.5895431  0.13062597 0.18104083\n",
      "  0.62573593 0.9772374  0.32349115 0.22845676 0.97444381 0.03719151\n",
      "  0.89866627 0.88557015 0.98024928 0.79581069 0.8150269  0.03850623\n",
      "  0.3738267  0.02597533 0.26386292 0.07382341 0.06577863 0.01652651\n",
      "  0.07716534 0.79448993 0.23764701 0.8337645  0.19406778 0.4467124\n",
      "  0.0967433  0.10149568 0.22528957 0.58486759 0.0061642  0.14096179\n",
      "  0.01619869 0.9511353  0.18482437 0.52061361 0.41006921 0.01958549\n",
      "  0.07389065 0.01647438 0.96996258 0.93448459 0.0073697  0.07467296\n",
      "  0.44132552 0.04546261 0.42641419 0.93180123 0.79650755 0.7434867\n",
      "  0.91225679 0.03599015 0.91408966 0.50509244 0.27779116 0.03320635\n",
      "  0.0127935  0.21474197 0.40575809 0.64829068 0.08767985 0.05579486\n",
      "  0.23831945 0.9875254  0.11832444 0.17399394 0.22768357 0.60018881\n",
      "  0.06902247 0.14118449 0.1806648  0.04211993 0.16379552 0.79557601\n",
      "  0.34631035 0.02459272 0.01777615 0.0905826  0.54584948 0.03884435\n",
      "  0.1825652  0.82574083 0.78754941 0.12904985 0.87472276 0.74593622\n",
      "  0.0071131  0.6697871  0.25611645 0.14597913 0.1368066  0.43798218\n",
      "  0.37276024 0.57952705]]\n",
      "Y  (output) LAYER:\n",
      "[[4.34060158e-01 1.12467733e-05 1.32512925e-03 1.16757982e-07\n",
      "  7.27675487e-01 4.43863820e-04 1.84409465e-02 1.57898540e-05\n",
      "  1.24353868e-05 3.31536787e-04]]\n",
      "\n",
      "\n",
      "Current Loss: 0.00510620107832677\n",
      "\n",
      "Current Acurácia: 0.99\n",
      "\n",
      "/*==================================================*/\n"
     ]
    },
    {
     "data": {
      "image/png": "[encoded data removed]",
      "text/plain": [
       "<Figure size 432x288 with 1 Axes>"
      ]
     },
     "metadata": {
      "needs_background": "light"
     },
     "output_type": "display_data"
    },
    {
     "name": "stdout",
     "output_type": "stream",
     "text": [
      "> model saved in:  model_128x128\n"
     ]
    }
   ],
   "source": [
    "\"\"\"É possivel repetir essa celula diversas vezes para treinar o modelo, com epochs, our learning rate diferentes\"\"\"\n",
    "learning_rate = 0.035\n",
    "# Fique a vontade pra trocar aumentar as épocas, sei que com 50 chega a 98% acurácia\n",
    "epochs = 8\n",
    "model_filename = \"model_128x128\"\n",
    "\n",
    "print(\"\\n> Model Started Training...\\n\")\n",
    "\t\t\t\n",
    "model.train(\n",
    "\ttrain_data[\"inputs\"],\n",
    "\ttrain_data[\"outputs\"],\n",
    "\tlr = learning_rate, epochs=epochs,\n",
    "\tshuffle=True,\n",
    "\tautosave=False)\n",
    "\t\n",
    "# Caso já tenha um modelo salvo, dê load assim\n",
    "#model = Model.load(\"./models/\" + model_filename)\n",
    "\n",
    "print(\"> Done.\")\n",
    "\n",
    "model.print()\n",
    "\n",
    "model.save(\"./models/\" + model_filename)\n",
    "print(\"> model saved in: \",model_filename)"
   ]
  },
  {
   "cell_type": "markdown",
   "id": "29b5ba65",
   "metadata": {},
   "source": [
    "### Função usada para fazer predições do set MNIST com o Modelo. \n",
    "*Ao usar **test_prediction** ira mostrar a **imagem**, o **label** correto, e a **decisão** do modelo*"
   ]
  },
  {
   "cell_type": "code",
   "execution_count": 40,
   "id": "d0302b4a",
   "metadata": {},
   "outputs": [],
   "source": [
    "def test_prediction(index, data, model:Model):\n",
    "\tcurrent_image = data[\"inputs\"][index]\n",
    "\ty_predict = model.predict(current_image)[0]\n",
    "\tprediction = (y_predict == y_predict.max()).astype(int)\n",
    "\n",
    "\tguess = list(prediction).index(1)\n",
    "\t\n",
    "\tlabel = data[\"outputs\"][index]\n",
    "\tground_truth = list(label).index(1)\n",
    "\n",
    "\t# Opção de desobrigar de fornecer label correto, para quando formor utilizar paint\n",
    "\tif len(label) < 10:\n",
    "\t\tlabel = \"made on paint\"\n",
    "\t\tground_truth = \" paint\"\n",
    "\n",
    "\tprint(\"Label: \", label)\n",
    "\tprint(\"Prediction: \", prediction)\n",
    "\n",
    "\tplt.gray()\n",
    "\tplt.title(\"Model thinks it is: \" + str(guess) + \"\\nGround truth: \" + str(ground_truth))\n",
    "\tplt.imshow( current_image.reshape((28, 28)) * 255, interpolation='nearest')\n",
    "\tplt.xticks([])\n",
    "\tplt.yticks([0])\n",
    "\tplt.show()"
   ]
  },
  {
   "cell_type": "markdown",
   "id": "48e6e09d",
   "metadata": {},
   "source": [
    "## Função p/ testar a acurácia dos restante 28 mil digitos que o modelo não viu ainda\n",
    "### e ainda retorna todos os indices errados"
   ]
  },
  {
   "cell_type": "code",
   "execution_count": 41,
   "id": "b420c82e",
   "metadata": {},
   "outputs": [],
   "source": [
    "def get_acurracy(testing_data):\n",
    "\t\n",
    "\tpredicts = list()\n",
    "\tfor y in testing_data[\"inputs\"]:\n",
    "\t\ty_predict = model.predict(y)[0]\n",
    "\t\tprediction = (y_predict == y_predict.max()).astype(int)\n",
    "\t\tpredicts.append(prediction)\n",
    "\treturn model.accuracy(predictions=predicts, outputs=testing_data[\"outputs\"], verbose=0)\n"
   ]
  },
  {
   "cell_type": "markdown",
   "id": "1687d198",
   "metadata": {},
   "source": [
    "## Array de indices onde o modelo errou\n",
    "#### Acurácia: cerca de **98.9%** usando 28 mil exemplos dos dados de teste os quais o modelo nunca viu"
   ]
  },
  {
   "cell_type": "code",
   "execution_count": 42,
   "id": "b61ecaaa",
   "metadata": {},
   "outputs": [
    {
     "name": "stdout",
     "output_type": "stream",
     "text": [
      "Qntd de exemplos: 28000\n",
      "Indexes onde está errado: [78, 139, 153, 181, 199, 233, 314, 317, 337, 354, 355, 364, 415, 428, 434, 437, 438, 454, 491, 503, 504, 508, 526, 566, 632, 673, 702, 703, 782, 787, 826, 828, 838, 854, 866, 892, 904, 941, 943, 953, 961, 973, 1001, 1012, 1034, 1038, 1069, 1109, 1121, 1208, 1454, 1537, 1562, 1574, 1588, 1626, 1658, 1660, 1670, 1702, 1823, 1874, 1897, 1950, 1952, 1986, 2040, 2072, 2078, 2091, 2095, 2149, 2157, 2174, 2253, 2262, 2294, 2378, 2419, 2442, 2456, 2484, 2534, 2552, 2570, 2626, 2661, 2698, 2748, 2797, 2848, 2870, 2903, 2959, 2961, 3005, 3017, 3048, 3099, 3114, 3116, 3143, 3185, 3238, 3266, 3352, 3392, 3408, 3419, 3422, 3428, 3439, 3446, 3455, 3458, 3486, 3498, 3502, 3520, 3530, 3532, 3575, 3587, 3602, 3615, 3616, 3626, 3653, 3656, 3692, 3761, 3784, 3801, 3868, 3875, 3901, 3911, 3913, 3944, 3954, 3968, 4021, 4027, 4033, 4070, 4078, 4088, 4122, 4132, 4146, 4240, 4242, 4246, 4247, 4248, 4269, 4274, 4288, 4308, 4314, 4316, 4354, 4368, 4373, 4404, 4406, 4412, 4424, 4432, 4435, 4726, 4727, 4729, 4734, 4736, 4742, 4815, 4857, 4887, 4899, 4976, 5034, 5070, 5152, 5217, 5220, 5227, 5237, 5247, 5264, 5303, 5317, 5321, 5340, 5376, 5387, 5421, 5432, 5445, 5478, 5479, 5548, 5560, 5597, 5600, 5613, 5651, 5669, 5689, 5690, 5737, 5746, 5759, 5781, 5787, 5873, 5888, 5926, 5949, 5951, 5962, 6020, 6070, 6095, 6102, 6228, 6258, 6280, 6297, 6323, 6324, 6354, 6360, 6380, 6382, 6494, 6512, 6524, 6546, 6584, 6649, 6726, 6786, 6811, 6824, 6899, 6912, 6930, 6933, 6953, 6957, 6959, 6966, 6971, 6975, 6990, 7002, 7006, 7012, 7014, 7050, 7056, 7064, 7066, 7067, 7164, 7192, 7212, 7221, 7300, 7410, 7458, 7487, 7488, 7500, 7515, 7532, 7541, 7543, 7555, 7573, 7616, 7656, 7662, 7740, 7741, 7809, 7841, 7859, 7889, 7890, 7892, 7893, 7904, 7923, 7955, 7985, 8091, 8120, 8144, 8212, 8239, 8246, 8317, 8329, 8337, 8340, 8359, 8368, 8369, 8371, 8391, 8403, 8408, 8414, 8417, 8426, 8431, 8446, 8470, 8500, 8514, 8522, 8572, 8574, 8605, 8618, 8632, 8712, 8714, 8747, 8819, 8826, 8841, 8881, 8897, 8994, 9106, 9248, 9280, 9300, 9346, 9394, 9398, 9464, 9466, 9476, 9522, 9600, 9698, 9740, 9764, 9794, 9863, 9944, 9987, 9988, 10022, 10048, 10086, 10129, 10138, 10160, 10163, 10169, 10218, 10225, 10236, 10241, 10294, 10394, 10548, 10674, 10764, 10800, 10805, 10812, 10834, 10851, 10869, 10889, 10899, 10914, 10932, 10953, 10959, 10968, 10971, 10975, 10976, 10981, 11017, 11029, 11063, 11098, 11148, 11156, 11158, 11216, 11312, 11396, 11470, 11476, 11507, 11547, 11578, 11612, 11623, 11638, 11680, 11694, 11740, 11746, 11806, 11872, 11873, 11903, 11910, 11976, 11997, 11999, 12006, 12011, 12036, 12074, 12097, 12178, 12191, 12195, 12264, 12296, 12377, 12378, 12458, 12492, 12506, 12528, 12554, 12586, 12623, 12654, 12682, 12834, 12858, 12878, 12885, 12892, 12916, 12932, 12933, 12943, 12966, 13028, 13034, 13060, 13064, 13116, 13128, 13168, 13194, 13240, 13244, 13278, 13330, 13340, 13350, 13368, 13396, 13426, 13496, 13649, 13739, 13758, 13792, 13804, 13870, 13896, 13906, 14014, 14066, 14156, 14210, 14220, 14228, 14292, 14346, 14397, 14452, 14457, 14464, 14480, 14596, 14655, 14662, 14672, 14773, 14800, 14824, 14838, 14866, 14888, 14914, 15041, 15054, 15076, 15082, 15124, 15217, 15256, 15276, 15302, 15307, 15327, 15380, 15486, 15507, 15575, 15662, 15683, 15718, 15728, 15764, 15808, 15894, 15976, 16048, 16060, 16064, 16101, 16653, 16802, 16871, 16874, 17158, 17286, 17289, 17294, 17303, 17309, 17314, 17339, 17344, 17354, 17418, 17433, 17460, 17653, 17701, 17716, 17719, 17720, 17726, 17731, 17747, 17915, 18247, 18259, 18321, 18340, 18358, 18449, 18495, 18551, 18582, 18591, 18610, 18659, 18684, 18691, 18707, 18717, 18740, 18846, 18924, 18956, 18965, 18982, 19014, 19044, 19107, 19112, 19128, 19182, 19226, 19242, 19247, 19260, 19270, 19283, 19299, 19319, 19325, 19326, 19328, 19395, 19444, 19494, 19500, 19522, 19530, 19549, 19553, 19554, 19569, 19609, 19621, 19678, 19681, 19709, 19717, 19721, 19748, 19754, 19790, 19828, 19843, 19868, 19878, 19901, 19940, 19941, 19952, 19982, 19984, 20016, 20024, 20035, 20043, 20044, 20053, 20098, 20109, 20118, 20129, 20130, 20135, 20148, 20189, 20224, 20293, 20298, 20369, 20371, 20387, 20406, 20414, 20422, 20454, 20462, 20488, 20560, 20607, 20648, 20654, 20810, 20863, 20877, 20927, 20939, 20953, 21030, 21060, 21062, 21110, 21117, 21206, 21251, 21289, 21333, 21405, 21422, 21503, 21520, 21533, 21550, 21558, 21559, 21567, 21597, 21629, 21674, 21749, 21767, 21780, 21808, 21811, 21818, 21838, 21853, 21902, 21906, 21941, 21943, 21976, 22007, 22027, 22065, 22078, 22102, 22154, 22163, 22176, 22199, 22211, 22224, 22248, 22256, 22289, 22300, 22306, 22313, 22437, 22497, 22536, 22567, 22575, 22601, 22615, 22635, 22731, 22807, 22814, 22823, 22880, 22882, 22956, 22966, 22997, 23331, 23493, 23600, 23623, 23634, 23642, 23734, 23749, 23835, 23845, 23858, 23937, 23955, 23972, 23973, 24011, 24035, 24045, 24059, 24071, 24166, 24168, 24172, 24505, 24511, 24542, 24555, 24558, 24560, 24571, 24590, 24597, 24598, 24632, 24651, 24706, 24783, 25216, 25220, 25233, 25249, 25268, 25432, 25434, 25451, 25459, 25539, 25849, 25928, 26062, 26091, 26094, 26196, 26246, 26277, 26379, 26408, 26430, 26523, 27009, 27015, 27024, 27062, 27280, 27342, 27482, 27538, 27587, 27634, 27664, 27669, 27679, 27692, 27698, 27719, 27729, 27749, 27768, 27770, 27777, 27792, 27808, 27828, 27839, 27858, 27867, 27879, 27905, 27922, 27944, 27980]\n",
      "\n",
      "Acurácia:  0.97075 \n",
      "\n"
     ]
    }
   ],
   "source": [
    "accuracy,wrong_indexes = get_acurracy(test_data_being_used)\n",
    "\n",
    "print( \"Qntd de exemplos:\",len(test_data_being_used[\"inputs\"]))\n",
    "print(f\"Indexes onde está errado: {wrong_indexes}\\n\")\n",
    "print(\"Acurácia: \",accuracy,'\\n' )"
   ]
  },
  {
   "cell_type": "markdown",
   "id": "003b1452",
   "metadata": {},
   "source": [
    "### Escolha um index no intervalo [0,30'000) Cerca de 99% vai estar certo\n",
    "#### *A ideia é poder ver a imagem e a predição do modelo*"
   ]
  },
  {
   "cell_type": "code",
   "execution_count": 43,
   "id": "384905a2",
   "metadata": {},
   "outputs": [
    {
     "name": "stdout",
     "output_type": "stream",
     "text": [
      "Label:  [0 0 0 0 0 0 1 0 0 0]\n",
      "Prediction:  [0 0 0 0 0 0 1 0 0 0]\n"
     ]
    },
    {
     "data": {
      "image/png": "[encoded data removed]",
      "text/plain": [
       "<Figure size 432x288 with 1 Axes>"
      ]
     },
     "metadata": {
      "needs_background": "light"
     },
     "output_type": "display_data"
    }
   ],
   "source": [
    "# Escolha um index no intervalo [0,2800'000) Cerca de 96% vai estar certo\n",
    "index = 27999\n",
    "test_prediction(index,test_data_being_used,model)"
   ]
  },
  {
   "cell_type": "markdown",
   "id": "353fbad5",
   "metadata": {},
   "source": [
    "## Algumas das imagens que deram errado\n",
    "#### *Apenas troque esses index e vejao exemplos em que o modelo errou*"
   ]
  },
  {
   "cell_type": "code",
   "execution_count": 44,
   "id": "059fa345",
   "metadata": {},
   "outputs": [
    {
     "name": "stdout",
     "output_type": "stream",
     "text": [
      "Label:  [0 0 1 0 0 0 0 0 0 0]\n",
      "Prediction:  [0 0 0 1 0 0 0 0 0 0]\n"
     ]
    },
    {
     "data": {
      "image/png": "[encoded data removed]",
      "text/plain": [
       "<Figure size 432x288 with 1 Axes>"
      ]
     },
     "metadata": {
      "needs_background": "light"
     },
     "output_type": "display_data"
    }
   ],
   "source": [
    "# Alguns dos indexes errados: 21073, 27839, 26522, 21558 (usando 28k testing_data)\n",
    "index_errado = 27839\n",
    "test_prediction(index_errado,test_data_being_used,model)"
   ]
  },
  {
   "cell_type": "markdown",
   "id": "9640d3a3",
   "metadata": {},
   "source": [
    "# Testaremos com novos dados gerando por desenhos no paint\n",
    "### Essa função ajuda a pegar os pixels como np.array"
   ]
  },
  {
   "cell_type": "code",
   "execution_count": 45,
   "id": "95700de9",
   "metadata": {},
   "outputs": [],
   "source": [
    "def get_pixels(filename):\n",
    "\tim = Image.open(filename, \"r\")\n",
    "\tpixels = list(im.getdata())\n",
    "\tmono_channel_pixels = [rgb[2] for rgb in pixels[0:784]]\n",
    "\treturn np.array(mono_channel_pixels)/255.0"
   ]
  },
  {
   "cell_type": "markdown",
   "id": "1a2d8e2a",
   "metadata": {},
   "source": [
    "## Agora **edite** o aquivo *digit28x28.png* no **paint** e **rode** a celula abaixo novamente para ir atualizando a predição do modelo"
   ]
  },
  {
   "cell_type": "code",
   "execution_count": 46,
   "id": "f6e5ab87",
   "metadata": {},
   "outputs": [
    {
     "name": "stdout",
     "output_type": "stream",
     "text": [
      "Label:  made on paint\n",
      "Prediction:  [0 0 0 0 0 1 0 0 0 0]\n"
     ]
    },
    {
     "data": {
      "image/png": "[encoded data removed]",
      "text/plain": [
       "<Figure size 432x288 with 1 Axes>"
      ]
     },
     "metadata": {
      "needs_background": "light"
     },
     "output_type": "display_data"
    }
   ],
   "source": [
    "test_pixels = get_pixels(\"digit28x28.png\")\n",
    "test_prediction(0,{\"inputs\":[test_pixels],\"outputs\":[[1]]},model)\n"
   ]
  }
 ],
 "metadata": {
  "interpreter": {
   "hash": "11f1dc213e07634baa4c5c321dec03c05dafae643c50f20e6d1a492290c05dc2"
  },
  "kernelspec": {
   "display_name": "Python 3.9.4 64-bit",
   "name": "python3"
  },
  "language_info": {
   "codemirror_mode": {
    "name": "ipython",
    "version": 3
   },
   "file_extension": ".py",
   "mimetype": "text/x-python",
   "name": "python",
   "nbconvert_exporter": "python",
   "pygments_lexer": "ipython3",
   "version": "3.9.4"
  }
 },
 "nbformat": 4,
 "nbformat_minor": 5
}
