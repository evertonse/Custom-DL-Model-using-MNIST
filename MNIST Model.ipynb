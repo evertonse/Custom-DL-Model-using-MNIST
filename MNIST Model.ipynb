{
 "cells": [
  {
   "cell_type": "code",
   "execution_count": 1,
   "id": "6931dfc4",
   "metadata": {},
   "outputs": [
    {
     "name": "stdout",
     "output_type": "stream",
     "text": [
      "Requirement already satisfied: requests in c:\\users\\administrator\\appdata\\local\\programs\\python\\python39\\lib\\site-packages (2.26.0)\n",
      "Requirement already satisfied: certifi>=2017.4.17 in c:\\users\\administrator\\appdata\\local\\programs\\python\\python39\\lib\\site-packages (from requests) (2021.10.8)\n",
      "Requirement already satisfied: idna<4,>=2.5 in c:\\users\\administrator\\appdata\\local\\programs\\python\\python39\\lib\\site-packages (from requests) (3.3)\n",
      "Requirement already satisfied: urllib3<1.27,>=1.21.1 in c:\\users\\administrator\\appdata\\local\\programs\\python\\python39\\lib\\site-packages (from requests) (1.26.7)\n",
      "Requirement already satisfied: charset-normalizer~=2.0.0 in c:\\users\\administrator\\appdata\\local\\programs\\python\\python39\\lib\\site-packages (from requests) (2.0.7)\n"
     ]
    }
   ],
   "source": [
    "import numpy as np        \n",
    "import matplotlib.pyplot as plt\n",
    "%matplotlib inline\n",
    "\n",
    "from src.mnist import load_mnist_data # Pegar todos os dados dos digitos MNIST como binário pickle\n",
    "from src.Model import Model # Classe custom Modelo Deep\n",
    "from PIL import Image   # Manipulação de Pixels\n",
    "\n",
    "!pip install requests"
   ]
  },
  {
   "cell_type": "markdown",
   "id": "3314d2dd",
   "metadata": {},
   "source": [
    "### Treinando o Modelo da Classe *Model*. \n",
    "#### Esse modelo vem um classe custom da class *Model*, o qual é utilizado apenas numpy na sua implementação\n",
    "#### Vamos treinar para reconhecer o digits do data set MNIST, com seguintes configurações:\n",
    "#### - **2** hidden layers de **128** dimensões\n",
    "#### - **0.035** learning rate\n",
    "#### - **sigmoid** activation, em todas as camadas \n",
    "#### - **MSE** função custo\n",
    "#### - **2** épocas (pode botar mais se quiser, mas com 2 já trás uma boa acurácia), cada epoca passa por **42 mil** exemplos dos dados de treinamento\n",
    "\n",
    "## Comentários sobre treinamento:\n",
    "##### Houve experimentos anteriores, utilizando, duas (ou mais, porém esses demorariam muito na minha máquina) hidden layers de 64 dimensões, outra vez com 16 dimensões, e por fim 48.\n",
    "\n",
    "Á priori, percebi com sigmoid 64 para 128 dimensões sempre achava um caminho que aprendia rápido o suficiente, com 50 épocas com lr = 0.035 \n",
    "rapidamente chegava a 92% acurácia, e com mais algumas épocas chegava a 97% (*com dados de treinamento*). \n",
    "\n",
    "Porém eu temo que com tantas dimensões pode ocorrer de se especializar demais, eu penso nisso, porque mais lá pra baixo nesse notebook, existe uma sessão onde podemos assistir o que o modelo advinha com um exemplo *custom* de uma imagem 28x28 de um digito criada por mim no app **microsoft paint**, e nesse casos, com 128 dimensões, ele erra coisas que um modelo de 16 dimensões, não erraria, apesar do modelo de 16 ter uma acurácia menor (91%), me pareceu generalizar melhor. \n",
    "Eu imagino que com menos dimensões na camada escondida o Modelo é forçado a entender o que é mais importante, ao invez de \"manter em mente\" caracteristicas especificas dos dados de treinamento.\n",
    "\n",
    "Além disso, os modelos com mais camadas de pequenas dimensões, demoraram  muito para aumentar acurácia, exemplo:\n",
    "Modelo de:\n",
    "\t- 3 hidden layer de dimensões na sequencia (20,16,20)\n",
    "\t- **tangente hiperbolica**(\"tanh\") activation, em todas as camadas\n",
    "\t- lr = 0.02\n",
    "\t- MSE, custo\n",
    "\t- 500 épocas de 40 mil exemplos\n",
    "Esse modelo chegou a uma acurácia de 88%, muito inferior tanto em velocidade de treinamento, e acertos.\n",
    "Mas, esse modelo de tanh, ele teve uma generalização decente, chegando a ser parecido com o Modelo que vamos usar (2 hidden de 128 dim).\n",
    "Claro que foi só eu desenhando no paint e testando, mas te faz questionar um pouco se esse modelo continuasse treinando, ele teria uma generalização melhor?"
   ]
  },
  {
   "cell_type": "code",
   "execution_count": 2,
   "id": "e97db549",
   "metadata": {},
   "outputs": [
    {
     "name": "stdout",
     "output_type": "stream",
     "text": [
      "Quantidade de exemplos: 70000\n",
      "Dimensão da imagem:  784\n",
      "Quantidade de digitos:  10\n"
     ]
    }
   ],
   "source": [
    "\n",
    "# traning_data, foi os 42 mil testados pelo modelo.\n",
    "# dimensions, as dimensões usadas para treinamentodo modelo (784,128,128,10)\n",
    "all_data = load_mnist_data()\n",
    "\n",
    "print(\"Quantidade de exemplos:\",\tlen(all_data[\"inputs\"]))\n",
    "print(\"Dimensão da imagem: \",\t\tlen(all_data[\"inputs\"][0]))\n",
    "print(\"Quantidade de digitos: \",\tlen(all_data[\"outputs\"][0]))\n",
    "\n",
    "# Treinamos com 42 mil exemplos\n",
    "train_data = {\n",
    "\t\"inputs\" :\tall_data[\"inputs\" ][:42000],\n",
    "\t\"outputs\":\tall_data[\"outputs\"][:42000]\n",
    "}\n",
    "\n",
    "# Restante dos 28 mil exemplos que o modelo não viu, será nossos dados de teste\n",
    "test_data = {\n",
    "\t\"inputs\" :\tall_data[\"inputs\" ][42000:],\n",
    "\t\"outputs\":\tall_data[\"outputs\"][42000:]\n",
    "}\n",
    "\n",
    "test_data_being_used = test_data"
   ]
  },
  {
   "cell_type": "markdown",
   "metadata": {},
   "source": [
    "## Treinando Modelo"
   ]
  },
  {
   "cell_type": "code",
   "execution_count": 3,
   "metadata": {},
   "outputs": [
    {
     "name": "stdout",
     "output_type": "stream",
     "text": [
      "> activation: 'sigmoid' selected\n"
     ]
    }
   ],
   "source": [
    "# Modelo com configurações mencionada anteriormente\n",
    "model  = Model((784,128,128,10), activation=\"sigmoid\", verbose=0, wr=(-0.5,0.5))\n"
   ]
  },
  {
   "cell_type": "code",
   "execution_count": 4,
   "metadata": {},
   "outputs": [
    {
     "name": "stdout",
     "output_type": "stream",
     "text": [
      "\n",
      "> Model Started Training...\n",
      "\n",
      "> Done.\n",
      "/*==================================================*/\n",
      "X  (input) layer:\n",
      "[[0.         0.         0.         0.         0.         0.\n",
      "  0.         0.         0.         0.         0.         0.\n",
      "  0.         0.         0.         0.         0.         0.\n",
      "  0.         0.         0.         0.         0.         0.\n",
      "  0.         0.         0.         0.         0.         0.\n",
      "  0.         0.         0.         0.         0.         0.\n",
      "  0.         0.         0.         0.         0.         0.\n",
      "  0.         0.         0.         0.         0.         0.\n",
      "  0.         0.         0.         0.         0.         0.\n",
      "  0.         0.         0.         0.         0.         0.\n",
      "  0.         0.         0.         0.         0.         0.\n",
      "  0.         0.         0.         0.         0.         0.\n",
      "  0.         0.         0.         0.         0.         0.\n",
      "  0.         0.         0.         0.         0.         0.\n",
      "  0.         0.         0.         0.         0.         0.\n",
      "  0.         0.         0.         0.         0.         0.\n",
      "  0.         0.         0.         0.         0.         0.\n",
      "  0.         0.         0.         0.         0.         0.\n",
      "  0.         0.         0.         0.         0.         0.\n",
      "  0.         0.         0.         0.         0.         0.\n",
      "  0.         0.         0.         0.         0.         0.\n",
      "  0.         0.         0.         0.         0.         0.\n",
      "  0.         0.         0.         0.         0.         0.\n",
      "  0.         0.         0.         0.         0.         0.\n",
      "  0.         0.         0.         0.         0.         0.\n",
      "  0.         0.         0.         0.         0.         0.\n",
      "  0.         0.         0.         0.         0.16470588 0.85490196\n",
      "  0.5254902  0.72941176 0.         0.         0.         0.\n",
      "  0.         0.         0.         0.         0.         0.\n",
      "  0.         0.         0.         0.         0.         0.02352941\n",
      "  0.14509804 0.71372549 0.38431373 0.2        0.         0.\n",
      "  0.         0.10588235 0.86666667 0.99215686 0.98823529 0.86666667\n",
      "  0.0627451  0.         0.         0.         0.         0.\n",
      "  0.         0.         0.         0.         0.         0.\n",
      "  0.         0.         0.49019608 0.62745098 0.98823529 0.99215686\n",
      "  0.98823529 0.68627451 0.56470588 0.         0.         0.0627451\n",
      "  0.74509804 0.99215686 0.98823529 0.98823529 0.42352941 0.\n",
      "  0.         0.         0.         0.         0.         0.\n",
      "  0.         0.         0.         0.         0.00392157 0.42745098\n",
      "  0.90980392 0.98823529 0.98823529 0.99215686 0.98823529 0.98823529\n",
      "  0.98823529 0.         0.         0.         0.         0.42745098\n",
      "  0.98823529 0.9254902  0.24313725 0.         0.         0.\n",
      "  0.         0.         0.         0.         0.         0.\n",
      "  0.         0.         0.49019608 0.98823529 0.98823529 0.98823529\n",
      "  0.98823529 0.99215686 0.98823529 0.78431373 0.70196078 0.\n",
      "  0.         0.         0.         0.42745098 0.98823529 0.84313725\n",
      "  0.16470588 0.         0.         0.         0.         0.\n",
      "  0.         0.         0.         0.         0.         0.\n",
      "  0.24313725 0.74117647 0.82745098 0.98823529 0.98823529 0.92941176\n",
      "  0.35686275 0.07843137 0.         0.         0.         0.\n",
      "  0.08235294 0.83137255 0.98823529 0.94509804 0.86666667 0.\n",
      "  0.         0.         0.         0.         0.         0.\n",
      "  0.         0.         0.         0.08235294 0.80784314 0.98823529\n",
      "  0.74509804 0.98823529 0.65882353 0.24313725 0.         0.\n",
      "  0.         0.         0.         0.08235294 0.80784314 0.99215686\n",
      "  0.98823529 0.98823529 0.98823529 0.         0.         0.\n",
      "  0.         0.         0.         0.         0.         0.\n",
      "  0.28627451 0.99215686 0.99215686 0.99215686 0.99215686 0.85098039\n",
      "  0.         0.         0.         0.         0.         0.\n",
      "  0.1254902  0.83137255 0.99215686 1.         0.99215686 0.99215686\n",
      "  0.42352941 0.         0.         0.         0.         0.\n",
      "  0.         0.         0.         0.         0.45098039 0.98823529\n",
      "  0.98823529 0.98823529 0.58039216 0.11764706 0.         0.\n",
      "  0.         0.         0.         0.         0.45098039 0.98823529\n",
      "  0.98823529 0.99215686 0.98823529 0.8627451  0.05882353 0.\n",
      "  0.         0.         0.         0.         0.         0.\n",
      "  0.         0.         0.85098039 0.98823529 0.98823529 0.98823529\n",
      "  0.1372549  0.         0.         0.         0.         0.10588235\n",
      "  0.47058824 0.71372549 0.94901961 0.98823529 0.98823529 0.99215686\n",
      "  0.98823529 0.43921569 0.         0.         0.         0.\n",
      "  0.         0.         0.         0.         0.         0.\n",
      "  0.85098039 0.98823529 0.98823529 0.98823529 0.1372549  0.\n",
      "  0.         0.         0.49019608 0.86666667 0.98823529 0.99215686\n",
      "  0.98823529 0.98823529 0.98823529 0.99215686 0.50196078 0.12156863\n",
      "  0.         0.         0.         0.         0.         0.\n",
      "  0.         0.         0.         0.43137255 0.91372549 0.99215686\n",
      "  0.99215686 0.56470588 0.         0.30980392 0.42745098 1.\n",
      "  0.99215686 0.99215686 0.99215686 1.         0.99215686 0.99215686\n",
      "  0.99215686 0.81568627 0.07843137 0.         0.         0.\n",
      "  0.         0.         0.         0.         0.         0.\n",
      "  0.         0.99215686 0.98823529 0.98823529 0.98823529 0.92941176\n",
      "  0.85098039 0.94901961 0.98823529 0.99215686 0.98823529 0.98823529\n",
      "  0.98823529 0.99215686 0.98823529 0.98823529 0.82352941 0.07843137\n",
      "  0.         0.         0.         0.         0.         0.\n",
      "  0.         0.         0.         0.         0.         0.99215686\n",
      "  0.98823529 0.98823529 0.98823529 0.98823529 0.98823529 0.98823529\n",
      "  0.98823529 0.99215686 0.98823529 0.98823529 0.98823529 0.85098039\n",
      "  0.84313725 0.43921569 0.12156863 0.         0.         0.\n",
      "  0.         0.         0.         0.         0.         0.\n",
      "  0.         0.         0.         0.66666667 0.98823529 0.98823529\n",
      "  0.98823529 0.98823529 0.98823529 0.98823529 0.98823529 0.99215686\n",
      "  0.98823529 0.98823529 0.98823529 0.         0.         0.\n",
      "  0.         0.         0.         0.         0.         0.\n",
      "  0.         0.         0.         0.         0.         0.\n",
      "  0.         0.         0.85490196 0.99215686 0.99215686 0.99215686\n",
      "  0.99215686 0.99215686 0.99215686 1.         0.99215686 0.68627451\n",
      "  0.24313725 0.         0.         0.         0.         0.\n",
      "  0.         0.         0.         0.         0.         0.\n",
      "  0.         0.         0.         0.         0.         0.\n",
      "  0.28235294 0.90588235 0.98823529 0.98823529 0.98823529 0.98823529\n",
      "  0.98823529 0.46666667 0.1372549  0.03921569 0.         0.\n",
      "  0.         0.         0.         0.         0.         0.\n",
      "  0.         0.         0.         0.         0.         0.\n",
      "  0.         0.         0.         0.         0.         0.20392157\n",
      "  0.27843137 0.27843137 0.27843137 0.27843137 0.27843137 0.\n",
      "  0.         0.         0.         0.         0.         0.\n",
      "  0.         0.         0.         0.         0.         0.\n",
      "  0.         0.         0.         0.         0.         0.\n",
      "  0.         0.         0.         0.         0.         0.\n",
      "  0.         0.         0.         0.         0.         0.\n",
      "  0.         0.         0.         0.         0.         0.\n",
      "  0.         0.         0.         0.         0.         0.\n",
      "  0.         0.         0.         0.         0.         0.\n",
      "  0.         0.         0.         0.         0.         0.\n",
      "  0.         0.         0.         0.         0.         0.\n",
      "  0.         0.         0.         0.         0.         0.\n",
      "  0.         0.         0.         0.         0.         0.\n",
      "  0.         0.         0.         0.         0.         0.\n",
      "  0.         0.         0.         0.         0.         0.\n",
      "  0.         0.         0.         0.         0.         0.\n",
      "  0.         0.         0.         0.         0.         0.\n",
      "  0.         0.         0.         0.         0.         0.\n",
      "  0.         0.         0.         0.         0.         0.\n",
      "  0.         0.         0.         0.         0.         0.\n",
      "  0.         0.         0.         0.         0.         0.\n",
      "  0.         0.         0.         0.         0.         0.\n",
      "  0.         0.         0.         0.         0.         0.\n",
      "  0.         0.         0.         0.         0.         0.\n",
      "  0.         0.         0.         0.         0.         0.\n",
      "  0.         0.         0.         0.         0.         0.\n",
      "  0.         0.         0.         0.        ]]\n",
      "H1 (hidden 1) LAYER:\n",
      "[[8.62499136e-02 2.77397249e-01 9.97627224e-01 9.30136000e-01\n",
      "  1.57595638e-02 9.99999082e-01 8.70839534e-03 3.72748795e-02\n",
      "  9.57099474e-04 5.99764870e-01 3.82063258e-10 1.02752342e-02\n",
      "  1.06339256e-03 8.42557011e-03 1.66556620e-04 9.99996594e-01\n",
      "  2.73184095e-06 9.99118875e-01 1.99493323e-06 9.51235313e-06\n",
      "  9.00661645e-01 4.96748508e-04 5.42258277e-02 5.95985502e-06\n",
      "  3.47926950e-01 9.88081975e-01 9.99998891e-01 9.93042618e-01\n",
      "  9.80760666e-01 9.93245445e-01 2.54704532e-02 2.27066030e-05\n",
      "  4.37074801e-07 4.82363604e-03 8.59278550e-13 9.99991070e-01\n",
      "  1.86615581e-04 6.32447508e-01 9.65500217e-02 8.27197477e-03\n",
      "  1.45660112e-01 1.52694429e-07 9.99996635e-01 1.59933122e-05\n",
      "  2.63176311e-07 7.63759178e-06 9.18079131e-01 1.56584431e-01\n",
      "  3.45774492e-02 3.42301462e-03 9.37735411e-01 2.70264290e-02\n",
      "  8.07722617e-01 9.99993945e-01 1.68853461e-11 8.11105752e-06\n",
      "  7.85538941e-01 2.96511500e-09 2.28933734e-06 9.99954347e-01\n",
      "  1.00000000e+00 2.45735388e-01 9.88486517e-01 6.60199180e-01\n",
      "  4.50788540e-03 9.98646403e-01 2.91355172e-01 4.83996346e-01\n",
      "  1.24609864e-02 4.49922438e-03 2.28656759e-02 1.08629306e-01\n",
      "  3.27399577e-01 8.70865655e-10 9.97889921e-01 1.05997693e-01\n",
      "  1.76740644e-02 1.61696743e-02 2.20018741e-10 9.85481942e-01\n",
      "  6.85580092e-07 9.97819874e-01 2.13954966e-04 4.28193346e-01\n",
      "  9.99999914e-01 9.91529312e-01 1.21881564e-03 3.10686024e-02\n",
      "  2.52674797e-05 9.99997266e-01 9.99876408e-01 9.15004758e-02\n",
      "  9.99999304e-01 9.99999915e-01 2.35652540e-05 2.19440845e-05\n",
      "  9.99998696e-01 7.47102968e-01 3.13597414e-05 1.37312679e-01\n",
      "  9.99326020e-01 9.57908909e-09 9.99941161e-01 3.92132188e-09\n",
      "  2.53229912e-08 9.99954134e-01 9.95528620e-01 3.86114768e-04\n",
      "  9.04947579e-01 1.21300167e-05 1.39926254e-03 7.43135961e-05\n",
      "  8.06879678e-02 7.60433198e-01 6.91659920e-01 5.69275832e-03\n",
      "  9.84285804e-01 9.99819051e-01 1.07354666e-01 8.20444228e-01\n",
      "  2.20903039e-05 5.14865409e-14 7.67967958e-05 7.37347769e-05\n",
      "  9.99976259e-01 1.76261366e-10 9.86602847e-01 9.87868525e-01]]\n",
      "H2 (hidden 2) LAYER:\n",
      "[[0.01218093 0.42009329 0.4795537  0.38888402 0.34290782 0.10926885\n",
      "  0.11542015 0.00837868 0.33700622 0.41760653 0.96088405 0.86994016\n",
      "  0.07383288 0.14491262 0.99435344 0.53839191 0.45200114 0.93292326\n",
      "  0.35091586 0.97251753 0.12058334 0.51228464 0.47389225 0.12697046\n",
      "  0.31520752 0.91623024 0.158632   0.03627018 0.72947085 0.13399041\n",
      "  0.50791663 0.07251892 0.01042563 0.57746217 0.09796198 0.8452185\n",
      "  0.96742039 0.22831001 0.29609925 0.19040991 0.09072039 0.55272973\n",
      "  0.54297666 0.38066289 0.31321361 0.02111914 0.88976396 0.02266683\n",
      "  0.54942628 0.02306058 0.17995376 0.89672163 0.91661583 0.48283949\n",
      "  0.13234733 0.87213428 0.61550971 0.95888676 0.1529952  0.07695225\n",
      "  0.90220933 0.51504675 0.8337469  0.49555859 0.05947947 0.93523201\n",
      "  0.40459545 0.70947128 0.00260652 0.92703943 0.17809701 0.40490349\n",
      "  0.18531059 0.00407023 0.30437021 0.96496701 0.02788456 0.76718855\n",
      "  0.6447063  0.92633636 0.39146319 0.82270812 0.38010853 0.31333871\n",
      "  0.40575393 0.48151755 0.36284353 0.19755225 0.89077094 0.00501294\n",
      "  0.0838669  0.64471244 0.98684172 0.34842653 0.70210252 0.66713538\n",
      "  0.66039609 0.82056376 0.45445036 0.42397172 0.08186265 0.12363559\n",
      "  0.41433676 0.12341584 0.71672386 0.08886879 0.05849201 0.04912763\n",
      "  0.76329546 0.45537318 0.08492877 0.25259402 0.09606265 0.87685175\n",
      "  0.04837045 0.34083789 0.66590526 0.30594355 0.14055702 0.52544836\n",
      "  0.02307468 0.74085715 0.0343496  0.08503658 0.93317403 0.72995768\n",
      "  0.03592323 0.58335099]]\n",
      "Y  (output) LAYER:\n",
      "[[1.21777878e-01 4.40084956e-04 6.76104150e-03 6.70338599e-07\n",
      "  3.33008534e-01 2.98113906e-03 8.81974401e-02 3.12015755e-03\n",
      "  1.57231394e-03 1.26832012e-03]]\n",
      "\n",
      "\n",
      "Current Loss: 0.014046735897383452\n",
      "\n",
      "Current Acurácia: 0.9573095238095238\n",
      "\n",
      "/*==================================================*/\n"
     ]
    },
    {
     "data": {
      "image/png": "[encoded data removed]",
      "text/plain": [
       "<Figure size 432x288 with 1 Axes>"
      ]
     },
     "metadata": {
      "needs_background": "light"
     },
     "output_type": "display_data"
    },
    {
     "name": "stdout",
     "output_type": "stream",
     "text": [
      "> model saved in:  model_128x128\n"
     ]
    }
   ],
   "source": [
    "\"\"\"É possivel repetir essa celula diversas vezes para treinar o modelo, com epochs, our learning rate diferentes\"\"\"\n",
    "learning_rate = 0.035\n",
    "# Fique a vontade pra trocar aumentar as épocas, sei que com 50 chega a 98% acurácia\n",
    "epochs = 1\n",
    "model_filename = \"model_128x128\"\n",
    "\n",
    "print(\"\\n> Model Started Training...\\n\")\n",
    "\t\t\t\n",
    "model.train(\n",
    "\ttrain_data[\"inputs\"],\n",
    "\ttrain_data[\"outputs\"],\n",
    "\tlr = learning_rate, epochs=epochs,\n",
    "\tshuffle=True,\n",
    "\tautosave=False)\n",
    "\t\n",
    "# Caso já tenha um modelo salvo, dê load assim\n",
    "#model = Model.load(\"./models/\" + model_filename)\n",
    "\n",
    "print(\"> Done.\")\n",
    "\n",
    "model.print()\n",
    "\n",
    "model.save(\"./models/\" + model_filename)\n",
    "print(\"> model saved in: \",model_filename)"
   ]
  },
  {
   "cell_type": "markdown",
   "id": "29b5ba65",
   "metadata": {},
   "source": [
    "### Função usada para fazer predições do set MNIST com o Modelo. \n",
    "*Ao usar **test_prediction** ira mostrar a **imagem**, o **label** correto, e a **decisão** do modelo*"
   ]
  },
  {
   "cell_type": "code",
   "execution_count": 5,
   "id": "d0302b4a",
   "metadata": {},
   "outputs": [],
   "source": [
    "def test_prediction(index, data, model:Model):\n",
    "\tcurrent_image = data[\"inputs\"][index]\n",
    "\ty_predict = model.predict(current_image)[0]\n",
    "\tprediction = (y_predict == y_predict.max()).astype(int)\n",
    "\n",
    "\tguess = list(prediction).index(1)\n",
    "\t\n",
    "\tlabel = data[\"outputs\"][index]\n",
    "\tground_truth = list(label).index(1)\n",
    "\n",
    "\t# Opção de desobrigar de fornecer label correto, para quando formor utilizar paint\n",
    "\tif len(label) < 10:\n",
    "\t\tlabel = \"made on paint\"\n",
    "\t\tground_truth = \" paint\"\n",
    "\n",
    "\tprint(\"Label: \", label)\n",
    "\tprint(\"Prediction: \", prediction)\n",
    "\n",
    "\tplt.gray()\n",
    "\tplt.title(\"Model thinks it is: \" + str(guess) + \"\\nGround truth: \" + str(ground_truth))\n",
    "\tplt.imshow( current_image.reshape((28, 28)) * 255, interpolation='nearest')\n",
    "\tplt.xticks([])\n",
    "\tplt.yticks([0])\n",
    "\tplt.show()"
   ]
  },
  {
   "cell_type": "markdown",
   "id": "48e6e09d",
   "metadata": {},
   "source": [
    "## Função p/ testar a acurácia dos restante 28 mil digitos que o modelo não viu ainda\n",
    "### e ainda retorna todos os indices errados"
   ]
  },
  {
   "cell_type": "code",
   "execution_count": 6,
   "id": "b420c82e",
   "metadata": {},
   "outputs": [],
   "source": [
    "def get_acurracy(testing_data):\n",
    "\t\n",
    "\tpredicts = list()\n",
    "\tfor y in testing_data[\"inputs\"]:\n",
    "\t\ty_predict = model.predict(y)[0]\n",
    "\t\tprediction = (y_predict == y_predict.max()).astype(int)\n",
    "\t\tpredicts.append(prediction)\n",
    "\treturn model.accuracy(predictions=predicts, outputs=testing_data[\"outputs\"], verbose=0)\n"
   ]
  },
  {
   "cell_type": "markdown",
   "id": "1687d198",
   "metadata": {},
   "source": [
    "## Array de indices onde o modelo errou\n",
    "#### Acurácia: cerca de **98.9%** usando 28 mil exemplos dos dados de teste os quais o modelo nunca viu"
   ]
  },
  {
   "cell_type": "code",
   "execution_count": 7,
   "id": "b61ecaaa",
   "metadata": {},
   "outputs": [
    {
     "name": "stdout",
     "output_type": "stream",
     "text": [
      "Qntd de exemplos: 28000\n",
      "Indexes onde está errado: [4, 20, 29, 42, 78, 99, 112, 121, 139, 140, 181, 199, 213, 233, 314, 317, 337, 354, 355, 364, 365, 384, 415, 428, 434, 437, 438, 453, 472, 491, 503, 504, 508, 522, 526, 538, 566, 577, 624, 632, 662, 682, 687, 688, 703, 734, 746, 782, 787, 826, 828, 854, 860, 866, 886, 892, 897, 931, 941, 953, 961, 973, 986, 987, 1012, 1034, 1037, 1042, 1043, 1051, 1062, 1069, 1091, 1095, 1097, 1099, 1109, 1121, 1126, 1174, 1176, 1194, 1200, 1208, 1212, 1224, 1226, 1248, 1346, 1372, 1424, 1454, 1474, 1532, 1537, 1562, 1574, 1588, 1618, 1658, 1670, 1702, 1731, 1783, 1788, 1793, 1796, 1818, 1823, 1897, 1898, 1903, 1950, 1986, 2032, 2046, 2072, 2100, 2101, 2102, 2110, 2123, 2157, 2172, 2234, 2236, 2253, 2262, 2267, 2287, 2294, 2307, 2308, 2328, 2340, 2378, 2382, 2383, 2432, 2442, 2456, 2484, 2508, 2534, 2570, 2624, 2698, 2748, 2767, 2822, 2827, 2848, 2853, 2854, 2865, 2870, 2898, 2903, 2942, 2959, 2961, 2969, 2982, 3005, 3011, 3012, 3043, 3047, 3048, 3099, 3114, 3116, 3117, 3121, 3143, 3185, 3238, 3250, 3352, 3376, 3422, 3439, 3443, 3446, 3458, 3477, 3486, 3491, 3501, 3502, 3509, 3520, 3526, 3528, 3530, 3532, 3575, 3576, 3584, 3587, 3602, 3614, 3615, 3616, 3622, 3653, 3654, 3656, 3692, 3749, 3761, 3784, 3800, 3801, 3813, 3868, 3875, 3887, 3901, 3911, 3954, 3968, 3980, 3987, 3988, 4015, 4021, 4023, 4027, 4033, 4058, 4070, 4073, 4078, 4088, 4122, 4146, 4163, 4167, 4187, 4241, 4247, 4248, 4269, 4274, 4284, 4285, 4288, 4298, 4300, 4336, 4346, 4354, 4356, 4368, 4373, 4384, 4406, 4412, 4423, 4426, 4432, 4435, 4440, 4573, 4616, 4689, 4726, 4734, 4776, 4857, 4860, 4884, 4938, 4941, 4958, 4976, 5008, 5022, 5034, 5036, 5107, 5132, 5152, 5159, 5211, 5217, 5220, 5227, 5234, 5247, 5260, 5264, 5274, 5288, 5297, 5317, 5322, 5328, 5340, 5376, 5387, 5403, 5421, 5432, 5443, 5445, 5463, 5471, 5473, 5475, 5478, 5479, 5560, 5594, 5595, 5597, 5600, 5613, 5614, 5615, 5632, 5689, 5690, 5723, 5737, 5741, 5759, 5825, 5870, 5873, 5888, 5915, 5918, 5926, 5936, 5949, 5951, 5962, 5966, 5995, 6006, 6020, 6096, 6102, 6154, 6258, 6270, 6272, 6288, 6297, 6330, 6344, 6349, 6352, 6356, 6360, 6382, 6384, 6397, 6494, 6512, 6522, 6524, 6564, 6584, 6594, 6618, 6649, 6655, 6681, 6706, 6712, 6726, 6824, 6890, 6899, 6915, 6930, 6933, 6953, 6957, 6966, 6971, 6975, 6991, 7001, 7002, 7006, 7009, 7012, 7014, 7021, 7026, 7029, 7056, 7064, 7067, 7096, 7107, 7132, 7139, 7143, 7153, 7157, 7192, 7199, 7201, 7212, 7217, 7226, 7227, 7276, 7300, 7410, 7416, 7464, 7466, 7487, 7488, 7489, 7493, 7498, 7500, 7509, 7514, 7515, 7517, 7522, 7525, 7532, 7541, 7543, 7545, 7555, 7563, 7573, 7578, 7589, 7607, 7613, 7616, 7634, 7656, 7662, 7672, 7690, 7744, 7830, 7841, 7859, 7889, 7890, 7892, 7893, 7923, 7955, 7960, 7985, 8074, 8078, 8079, 8088, 8091, 8120, 8155, 8212, 8228, 8236, 8239, 8246, 8274, 8320, 8329, 8340, 8346, 8355, 8359, 8369, 8391, 8403, 8408, 8414, 8415, 8426, 8428, 8431, 8470, 8473, 8514, 8522, 8560, 8572, 8574, 8584, 8618, 8632, 8639, 8664, 8698, 8714, 8756, 8777, 8802, 8814, 8819, 8821, 8826, 8841, 8856, 8878, 8896, 8908, 9079, 9106, 9158, 9164, 9180, 9194, 9200, 9227, 9230, 9248, 9274, 9280, 9300, 9315, 9346, 9394, 9432, 9464, 9466, 9476, 9508, 9522, 9530, 9544, 9600, 9616, 9652, 9675, 9698, 9722, 9740, 9759, 9764, 9794, 9803, 9863, 9886, 9924, 9944, 9955, 9958, 9963, 9986, 9988, 9990, 10004, 10048, 10086, 10096, 10106, 10115, 10117, 10129, 10138, 10144, 10152, 10160, 10163, 10210, 10219, 10225, 10241, 10246, 10272, 10280, 10294, 10324, 10347, 10358, 10390, 10392, 10394, 10399, 10422, 10442, 10462, 10464, 10548, 10582, 10624, 10661, 10671, 10674, 10686, 10697, 10699, 10707, 10713, 10718, 10722, 10738, 10744, 10800, 10808, 10812, 10814, 10834, 10870, 10875, 10894, 10899, 10910, 10914, 10932, 10938, 10953, 10968, 10971, 10975, 10981, 11006, 11015, 11017, 11019, 11029, 11036, 11044, 11063, 11156, 11168, 11181, 11216, 11248, 11264, 11280, 11396, 11398, 11470, 11476, 11482, 11507, 11547, 11552, 11556, 11558, 11568, 11578, 11585, 11623, 11638, 11641, 11645, 11680, 11686, 11694, 11723, 11731, 11736, 11740, 11754, 11784, 11806, 11828, 11844, 11867, 11872, 11873, 11890, 11906, 11910, 11958, 11976, 11979, 11997, 11999, 12002, 12011, 12030, 12065, 12097, 12106, 12180, 12190, 12191, 12195, 12264, 12296, 12306, 12377, 12378, 12436, 12452, 12506, 12520, 12542, 12551, 12554, 12556, 12586, 12628, 12757, 12782, 12814, 12858, 12878, 12879, 12880, 12885, 12896, 12909, 12916, 12919, 12926, 12932, 12935, 12944, 12949, 12950, 12954, 12966, 12981, 13019, 13028, 13042, 13052, 13054, 13060, 13116, 13128, 13153, 13168, 13188, 13194, 13206, 13240, 13268, 13294, 13296, 13311, 13330, 13340, 13368, 13438, 13496, 13513, 13531, 13648, 13667, 13685, 13729, 13730, 13739, 13758, 13792, 13804, 13814, 13834, 13862, 13870, 13876, 13896, 13906, 14006, 14014, 14066, 14082, 14090, 14210, 14213, 14220, 14228, 14254, 14268, 14292, 14313, 14372, 14427, 14452, 14457, 14464, 14480, 14586, 14590, 14596, 14600, 14654, 14655, 14672, 14773, 14800, 14838, 14842, 14866, 14878, 14914, 14939, 14990, 15021, 15041, 15054, 15076, 15090, 15211, 15226, 15256, 15276, 15302, 15334, 15345, 15380, 15406, 15450, 15474, 15486, 15507, 15624, 15628, 15662, 15663, 15683, 15701, 15718, 15728, 15731, 15732, 15737, 15741, 15742, 15773, 15794, 15808, 15837, 15869, 15882, 15894, 15907, 15976, 15982, 16050, 16094, 16101, 16154, 16258, 16316, 16344, 16394, 16413, 16464, 16471, 16518, 16595, 16648, 16653, 16788, 16802, 16829, 16832, 16871, 17005, 17128, 17180, 17196, 17225, 17286, 17294, 17303, 17309, 17314, 17344, 17354, 17361, 17384, 17401, 17447, 17653, 17681, 17701, 17718, 17719, 17720, 17726, 17731, 17734, 17747, 17784, 17915, 17928, 18008, 18124, 18149, 18233, 18241, 18247, 18259, 18290, 18320, 18321, 18340, 18341, 18352, 18362, 18412, 18445, 18448, 18449, 18479, 18495, 18502, 18542, 18543, 18551, 18553, 18565, 18578, 18582, 18591, 18619, 18627, 18659, 18684, 18691, 18707, 18717, 18740, 18760, 18810, 18839, 18844, 18882, 18938, 18939, 18947, 18950, 18951, 18956, 18965, 18982, 19003, 19014, 19032, 19039, 19044, 19062, 19082, 19107, 19112, 19119, 19124, 19125, 19153, 19181, 19191, 19192, 19198, 19204, 19226, 19232, 19242, 19247, 19256, 19260, 19283, 19299, 19319, 19326, 19328, 19364, 19378, 19393, 19429, 19433, 19444, 19466, 19494, 19500, 19522, 19525, 19527, 19530, 19549, 19553, 19569, 19609, 19621, 19637, 19640, 19669, 19671, 19678, 19681, 19709, 19717, 19718, 19732, 19754, 19790, 19800, 19808, 19813, 19828, 19850, 19857, 19878, 19901, 19903, 19938, 19940, 19941, 19952, 20016, 20024, 20035, 20043, 20044, 20047, 20053, 20063, 20070, 20093, 20098, 20099, 20109, 20118, 20129, 20130, 20135, 20174, 20182, 20185, 20186, 20189, 20224, 20266, 20272, 20293, 20299, 20325, 20326, 20358, 20369, 20371, 20387, 20393, 20395, 20406, 20414, 20422, 20447, 20488, 20526, 20548, 20582, 20598, 20604, 20607, 20610, 20648, 20654, 20739, 20758, 20760, 20771, 20863, 20896, 20925, 20927, 20930, 20939, 20945, 20953, 20990, 20995, 21005, 21030, 21033, 21060, 21073, 21117, 21130, 21132, 21136, 21157, 21189, 21206, 21240, 21254, 21269, 21284, 21289, 21316, 21329, 21333, 21369, 21405, 21422, 21475, 21490, 21503, 21520, 21549, 21550, 21558, 21559, 21567, 21573, 21597, 21604, 21629, 21662, 21674, 21688, 21716, 21718, 21727, 21751, 21757, 21767, 21776, 21780, 21806, 21808, 21811, 21817, 21821, 21832, 21836, 21838, 21846, 21848, 21853, 21855, 21869, 21893, 21902, 21906, 21926, 21941, 21943, 21946, 21951, 21962, 21976, 21984, 21985, 21995, 22000, 22017, 22063, 22065, 22075, 22078, 22093, 22140, 22152, 22156, 22163, 22176, 22201, 22205, 22211, 22212, 22224, 22248, 22256, 22289, 22306, 22313, 22360, 22369, 22374, 22400, 22405, 22419, 22425, 22433, 22435, 22451, 22477, 22497, 22498, 22500, 22523, 22536, 22571, 22575, 22578, 22601, 22615, 22619, 22620, 22639, 22671, 22690, 22731, 22735, 22751, 22761, 22807, 22808, 22814, 22823, 22837, 22874, 22876, 22879, 22880, 22886, 22890, 22910, 22950, 22952, 22956, 22966, 22990, 23065, 23140, 23176, 23183, 23209, 23210, 23331, 23600, 23611, 23617, 23634, 23642, 23734, 23735, 23749, 23842, 23887, 23888, 23891, 23913, 23936, 23955, 23972, 23973, 24035, 24056, 24059, 24071, 24081, 24091, 24157, 24166, 24168, 24172, 24173, 24347, 24392, 24421, 24425, 24426, 24505, 24511, 24555, 24558, 24560, 24568, 24571, 24597, 24598, 24603, 24608, 24625, 24632, 24651, 24691, 24706, 24721, 24746, 24755, 24765, 24785, 24847, 24926, 24945, 25029, 25043, 25121, 25198, 25216, 25220, 25432, 25434, 25451, 25492, 25498, 25511, 25539, 25545, 25779, 25797, 25800, 25821, 25851, 25876, 25886, 25921, 25945, 26020, 26062, 26094, 26095, 26183, 26272, 26277, 26279, 26326, 26339, 26375, 26406, 26408, 26410, 26453, 26502, 26504, 26520, 26522, 27009, 27015, 27016, 27019, 27024, 27036, 27045, 27280, 27316, 27427, 27446, 27465, 27482, 27587, 27634, 27642, 27643, 27664, 27679, 27692, 27698, 27716, 27719, 27729, 27744, 27745, 27747, 27749, 27752, 27768, 27770, 27777, 27779, 27780, 27808, 27839, 27856, 27858, 27883, 27890, 27892, 27901, 27905, 27925, 27941, 27944, 27970, 27975, 27982]\n",
      "\n",
      "Acurácia:  0.951 \n",
      "\n"
     ]
    }
   ],
   "source": [
    "accuracy,wrong_indexes = get_acurracy(test_data_being_used)\n",
    "\n",
    "print( \"Qntd de exemplos:\",len(test_data_being_used[\"inputs\"]))\n",
    "print(f\"Indexes onde está errado: {wrong_indexes}\\n\")\n",
    "print(\"Acurácia: \",accuracy,'\\n' )"
   ]
  },
  {
   "cell_type": "markdown",
   "id": "003b1452",
   "metadata": {},
   "source": [
    "### Escolha um index no intervalo [0,30'000) Cerca de 99% vai estar certo\n",
    "#### *A ideia é poder ver a imagem e a predição do modelo*"
   ]
  },
  {
   "cell_type": "code",
   "execution_count": 8,
   "id": "384905a2",
   "metadata": {},
   "outputs": [
    {
     "name": "stdout",
     "output_type": "stream",
     "text": [
      "Label:  [0 0 0 0 0 0 1 0 0 0]\n",
      "Prediction:  [0 0 0 0 0 0 1 0 0 0]\n"
     ]
    },
    {
     "data": {
      "image/png": "[encoded data removed]",
      "text/plain": [
       "<Figure size 432x288 with 1 Axes>"
      ]
     },
     "metadata": {
      "needs_background": "light"
     },
     "output_type": "display_data"
    }
   ],
   "source": [
    "# Escolha um index no intervalo [0,2800'000) Cerca de 96% vai estar certo\n",
    "index = 27999\n",
    "test_prediction(index,test_data_being_used,model)"
   ]
  },
  {
   "cell_type": "markdown",
   "id": "353fbad5",
   "metadata": {},
   "source": [
    "## Algumas das imagens que deram errado\n",
    "#### *Apenas troque esses index e vejao exemplos em que o modelo errou*"
   ]
  },
  {
   "cell_type": "code",
   "execution_count": 9,
   "id": "059fa345",
   "metadata": {},
   "outputs": [
    {
     "name": "stdout",
     "output_type": "stream",
     "text": [
      "Label:  [0 0 1 0 0 0 0 0 0 0]\n",
      "Prediction:  [0 0 0 0 0 0 0 1 0 0]\n"
     ]
    },
    {
     "data": {
      "image/png": "[encoded data removed]",
      "text/plain": [
       "<Figure size 432x288 with 1 Axes>"
      ]
     },
     "metadata": {
      "needs_background": "light"
     },
     "output_type": "display_data"
    }
   ],
   "source": [
    "# Alguns dos indexes errados: 21073, 27839, 26522, 21558 (usando 28k testing_data)\n",
    "index_errado = 27839\n",
    "test_prediction(index_errado,test_data_being_used,model)"
   ]
  },
  {
   "cell_type": "markdown",
   "id": "9640d3a3",
   "metadata": {},
   "source": [
    "# Testaremos com novos dados gerando por desenhos no paint\n",
    "### Essa função ajuda a pegar os pixels como np.array"
   ]
  },
  {
   "cell_type": "code",
   "execution_count": 10,
   "id": "95700de9",
   "metadata": {},
   "outputs": [],
   "source": [
    "def get_pixels(filename):\n",
    "\tim = Image.open(filename, \"r\")\n",
    "\tpixels = list(im.getdata())\n",
    "\tmono_channel_pixels = [rgb[2] for rgb in pixels[0:784]]\n",
    "\treturn np.array(mono_channel_pixels)/255.0"
   ]
  },
  {
   "cell_type": "markdown",
   "id": "1a2d8e2a",
   "metadata": {},
   "source": [
    "## Agora **edite** o aquivo *digit28x28.png* no **paint** e **rode** a celula abaixo novamente para ir atualizando a predição do modelo"
   ]
  },
  {
   "cell_type": "code",
   "execution_count": 11,
   "id": "f6e5ab87",
   "metadata": {},
   "outputs": [
    {
     "name": "stdout",
     "output_type": "stream",
     "text": [
      "Label:  made on paint\n",
      "Prediction:  [0 0 0 0 0 1 0 0 0 0]\n"
     ]
    },
    {
     "data": {
      "image/png": "[encoded data removed]",
      "text/plain": [
       "<Figure size 432x288 with 1 Axes>"
      ]
     },
     "metadata": {
      "needs_background": "light"
     },
     "output_type": "display_data"
    }
   ],
   "source": [
    "test_pixels = get_pixels(\"digit28x28.png\")\n",
    "test_prediction(0,{\"inputs\":[test_pixels],\"outputs\":[[1]]},model)\n"
   ]
  }
 ],
 "metadata": {
  "interpreter": {
   "hash": "11f1dc213e07634baa4c5c321dec03c05dafae643c50f20e6d1a492290c05dc2"
  },
  "kernelspec": {
   "display_name": "Python 3.9.4 64-bit",
   "name": "python3"
  },
  "language_info": {
   "codemirror_mode": {
    "name": "ipython",
    "version": 3
   },
   "file_extension": ".py",
   "mimetype": "text/x-python",
   "name": "python",
   "nbconvert_exporter": "python",
   "pygments_lexer": "ipython3",
   "version": "3.9.4"
  }
 },
 "nbformat": 4,
 "nbformat_minor": 5
}
