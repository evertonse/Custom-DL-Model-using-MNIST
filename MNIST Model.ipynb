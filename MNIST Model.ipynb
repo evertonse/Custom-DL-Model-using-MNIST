{
 "cells": [
  {
   "cell_type": "code",
   "execution_count": 49,
   "id": "6931dfc4",
   "metadata": {},
   "outputs": [],
   "source": [
    "import numpy as np        \n",
    "import matplotlib.pyplot as plt\n",
    "%matplotlib inline\n",
    "\n",
    "from src.mnist import load_mnist_data # Pegar todos os dados dos digitos MNIST como binário pickle\n",
    "from src.Model import Model # Classe custom Modelo Deep\n",
    "from PIL import Image   # Manipulação de Pixels\n",
    "\n",
    "\n"
   ]
  },
  {
   "cell_type": "markdown",
   "id": "3314d2dd",
   "metadata": {},
   "source": [
    "### Treinando o Modelo da Classe *Model*. \n",
    "#### Esse modelo vem um classe custom da class *Model*, o qual é utilizado apenas numpy na sua implementação\n",
    "#### Vamos treinar para reconhecer o digits do data set MNIST, com seguintes configurações:\n",
    "#### - **2** hidden layers de **128** dimensões\n",
    "#### - **0.035** learning rate\n",
    "#### - **sigmoid** activation, em todas as camadas \n",
    "#### - **MSE** função custo\n",
    "#### - **2** épocas (pode botar mais se quiser, mas com 2 já trás uma boa acurácia), cada epoca passa por **42 mil** exemplos dos dados de treinamento\n",
    "\n",
    "## Comentários sobre treinamento:\n",
    "##### Houve experimentos anteriores, utilizando, duas (ou mais, porém esses demorariam muito na minha máquina) hidden layers de 64 dimensões, outra vez com 16 dimensões, e por fim 48.\n",
    "\n",
    "Á priori, percebi com sigmoid 64 para 128 dimensões sempre achava um caminho que aprendia rápido o suficiente, com 50 épocas com lr = 0.035 \n",
    "rapidamente chegava a 92% acurácia, e com mais algumas épocas chegava a 97% (*com dados de treinamento*). \n",
    "\n",
    "Porém eu temo que com tantas dimensões pode ocorrer de se especializar demais, eu penso nisso, porque mais lá pra baixo nesse notebook, existe uma sessão onde podemos assistir o que o modelo advinha com um exemplo *custom* de uma imagem 28x28 de um digito criada por mim no app **microsoft paint**, e nesse casos, com 128 dimensões, ele erra coisas que um modelo de 16 dimensões, não erraria, apesar do modelo de 16 ter uma acurácia menor (91%), me pareceu generalizar melhor. \n",
    "Eu imagino que com menos dimensões na camada escondida o Modelo é forçado a entender o que é mais importante, ao invez de \"manter em mente\" caracteristicas especificas dos dados de treinamento.\n",
    "\n",
    "Além disso, os modelos com mais camadas de pequenas dimensões, demoraram  muito para aumentar acurácia, exemplo:\n",
    "Modelo de:\n",
    "\t- 3 hidden layer de dimensões na sequencia (20,16,20)\n",
    "\t- **tangente hiperbolica**(\"tanh\") activation, em todas as camadas\n",
    "\t- lr = 0.02\n",
    "\t- MSE, custo\n",
    "\t- 500 épocas de 40 mil exemplos\n",
    "Esse modelo chegou a uma acurácia de 88%, muito inferior tanto em velocidade de treinamento, e acertos.\n",
    "Mas, esse modelo de tanh, ele teve uma generalização decente, chegando a ser parecido com o Modelo que vamos usar (2 hidden de 128 dim).\n",
    "Claro que foi só eu desenhando no paint e testando, mas te faz questionar um pouco se esse modelo continuasse treinando, ele teria uma generalização melhor?"
   ]
  },
  {
   "cell_type": "code",
   "execution_count": 50,
   "id": "e97db549",
   "metadata": {},
   "outputs": [
    {
     "name": "stdout",
     "output_type": "stream",
     "text": [
      "Quantidade de exemplos: 70000\n",
      "Dimensão da imagem:  784\n",
      "Quantidade de digitos:  10\n"
     ]
    }
   ],
   "source": [
    "\n",
    "# traning_data, foi os 42 mil testados pelo modelo.\n",
    "# dimensions, as dimensões usadas para treinamentodo modelo (784,128,128,10)\n",
    "all_data = load_mnist_data()\n",
    "\n",
    "print(\"Quantidade de exemplos:\",\tlen(all_data[\"inputs\"]))\n",
    "print(\"Dimensão da imagem: \",\t\tlen(all_data[\"inputs\"][0]))\n",
    "print(\"Quantidade de digitos: \",\tlen(all_data[\"outputs\"][0]))\n",
    "\n",
    "# Treinamos com 42 mil exemplos\n",
    "train_data = {\n",
    "\t\"inputs\" :\tall_data[\"inputs\" ][:42000],\n",
    "\t\"outputs\":\tall_data[\"outputs\"][:42000]\n",
    "}\n",
    "\n",
    "# Restante dos 28 mil exemplos que o modelo não viu, será nossos dados de teste\n",
    "test_data = {\n",
    "\t\"inputs\" :\tall_data[\"inputs\" ][42000:],\n",
    "\t\"outputs\":\tall_data[\"outputs\"][42000:]\n",
    "}\n",
    "\n",
    "test_data_being_used = test_data"
   ]
  },
  {
   "cell_type": "markdown",
   "metadata": {},
   "source": [
    "## Treinando Modelo"
   ]
  },
  {
   "cell_type": "code",
   "execution_count": 51,
   "metadata": {},
   "outputs": [
    {
     "name": "stdout",
     "output_type": "stream",
     "text": [
      "> activation: 'sigmoid' selected\n"
     ]
    }
   ],
   "source": [
    "# Modelo com configurações mencionada anteriormente\n",
    "model  = Model((784,128,128,10), activation=\"sigmoid\", verbose=0, wr=(-0.5,0.5))\n"
   ]
  },
  {
   "cell_type": "code",
   "execution_count": 52,
   "metadata": {},
   "outputs": [
    {
     "name": "stdout",
     "output_type": "stream",
     "text": [
      "\n",
      "> Model Started Training...\n",
      "\n",
      "> Done.\n",
      "/*==================================================*/\n",
      "X  (input) layer:\n",
      "[[0.         0.         0.         0.         0.         0.\n",
      "  0.         0.         0.         0.         0.         0.\n",
      "  0.         0.         0.         0.         0.         0.\n",
      "  0.         0.         0.         0.         0.         0.\n",
      "  0.         0.         0.         0.         0.         0.\n",
      "  0.         0.         0.         0.         0.         0.\n",
      "  0.         0.         0.         0.         0.         0.\n",
      "  0.         0.         0.         0.         0.         0.\n",
      "  0.         0.         0.         0.         0.         0.\n",
      "  0.         0.         0.         0.         0.         0.\n",
      "  0.         0.         0.         0.         0.         0.\n",
      "  0.         0.         0.         0.         0.         0.\n",
      "  0.         0.         0.         0.         0.         0.\n",
      "  0.         0.         0.         0.         0.         0.\n",
      "  0.         0.         0.         0.         0.         0.\n",
      "  0.         0.         0.         0.         0.         0.\n",
      "  0.         0.         0.         0.         0.         0.\n",
      "  0.         0.         0.         0.         0.         0.\n",
      "  0.         0.         0.         0.         0.         0.\n",
      "  0.         0.         0.         0.         0.         0.\n",
      "  0.         0.         0.         0.         0.         0.\n",
      "  0.         0.         0.         0.         0.         0.\n",
      "  0.         0.         0.         0.         0.         0.\n",
      "  0.         0.         0.         0.         0.         0.\n",
      "  0.         0.         0.         0.         0.         0.\n",
      "  0.         0.         0.         0.         0.         0.\n",
      "  0.         0.         0.         0.         0.16470588 0.85490196\n",
      "  0.5254902  0.72941176 0.         0.         0.         0.\n",
      "  0.         0.         0.         0.         0.         0.\n",
      "  0.         0.         0.         0.         0.         0.02352941\n",
      "  0.14509804 0.71372549 0.38431373 0.2        0.         0.\n",
      "  0.         0.10588235 0.86666667 0.99215686 0.98823529 0.86666667\n",
      "  0.0627451  0.         0.         0.         0.         0.\n",
      "  0.         0.         0.         0.         0.         0.\n",
      "  0.         0.         0.49019608 0.62745098 0.98823529 0.99215686\n",
      "  0.98823529 0.68627451 0.56470588 0.         0.         0.0627451\n",
      "  0.74509804 0.99215686 0.98823529 0.98823529 0.42352941 0.\n",
      "  0.         0.         0.         0.         0.         0.\n",
      "  0.         0.         0.         0.         0.00392157 0.42745098\n",
      "  0.90980392 0.98823529 0.98823529 0.99215686 0.98823529 0.98823529\n",
      "  0.98823529 0.         0.         0.         0.         0.42745098\n",
      "  0.98823529 0.9254902  0.24313725 0.         0.         0.\n",
      "  0.         0.         0.         0.         0.         0.\n",
      "  0.         0.         0.49019608 0.98823529 0.98823529 0.98823529\n",
      "  0.98823529 0.99215686 0.98823529 0.78431373 0.70196078 0.\n",
      "  0.         0.         0.         0.42745098 0.98823529 0.84313725\n",
      "  0.16470588 0.         0.         0.         0.         0.\n",
      "  0.         0.         0.         0.         0.         0.\n",
      "  0.24313725 0.74117647 0.82745098 0.98823529 0.98823529 0.92941176\n",
      "  0.35686275 0.07843137 0.         0.         0.         0.\n",
      "  0.08235294 0.83137255 0.98823529 0.94509804 0.86666667 0.\n",
      "  0.         0.         0.         0.         0.         0.\n",
      "  0.         0.         0.         0.08235294 0.80784314 0.98823529\n",
      "  0.74509804 0.98823529 0.65882353 0.24313725 0.         0.\n",
      "  0.         0.         0.         0.08235294 0.80784314 0.99215686\n",
      "  0.98823529 0.98823529 0.98823529 0.         0.         0.\n",
      "  0.         0.         0.         0.         0.         0.\n",
      "  0.28627451 0.99215686 0.99215686 0.99215686 0.99215686 0.85098039\n",
      "  0.         0.         0.         0.         0.         0.\n",
      "  0.1254902  0.83137255 0.99215686 1.         0.99215686 0.99215686\n",
      "  0.42352941 0.         0.         0.         0.         0.\n",
      "  0.         0.         0.         0.         0.45098039 0.98823529\n",
      "  0.98823529 0.98823529 0.58039216 0.11764706 0.         0.\n",
      "  0.         0.         0.         0.         0.45098039 0.98823529\n",
      "  0.98823529 0.99215686 0.98823529 0.8627451  0.05882353 0.\n",
      "  0.         0.         0.         0.         0.         0.\n",
      "  0.         0.         0.85098039 0.98823529 0.98823529 0.98823529\n",
      "  0.1372549  0.         0.         0.         0.         0.10588235\n",
      "  0.47058824 0.71372549 0.94901961 0.98823529 0.98823529 0.99215686\n",
      "  0.98823529 0.43921569 0.         0.         0.         0.\n",
      "  0.         0.         0.         0.         0.         0.\n",
      "  0.85098039 0.98823529 0.98823529 0.98823529 0.1372549  0.\n",
      "  0.         0.         0.49019608 0.86666667 0.98823529 0.99215686\n",
      "  0.98823529 0.98823529 0.98823529 0.99215686 0.50196078 0.12156863\n",
      "  0.         0.         0.         0.         0.         0.\n",
      "  0.         0.         0.         0.43137255 0.91372549 0.99215686\n",
      "  0.99215686 0.56470588 0.         0.30980392 0.42745098 1.\n",
      "  0.99215686 0.99215686 0.99215686 1.         0.99215686 0.99215686\n",
      "  0.99215686 0.81568627 0.07843137 0.         0.         0.\n",
      "  0.         0.         0.         0.         0.         0.\n",
      "  0.         0.99215686 0.98823529 0.98823529 0.98823529 0.92941176\n",
      "  0.85098039 0.94901961 0.98823529 0.99215686 0.98823529 0.98823529\n",
      "  0.98823529 0.99215686 0.98823529 0.98823529 0.82352941 0.07843137\n",
      "  0.         0.         0.         0.         0.         0.\n",
      "  0.         0.         0.         0.         0.         0.99215686\n",
      "  0.98823529 0.98823529 0.98823529 0.98823529 0.98823529 0.98823529\n",
      "  0.98823529 0.99215686 0.98823529 0.98823529 0.98823529 0.85098039\n",
      "  0.84313725 0.43921569 0.12156863 0.         0.         0.\n",
      "  0.         0.         0.         0.         0.         0.\n",
      "  0.         0.         0.         0.66666667 0.98823529 0.98823529\n",
      "  0.98823529 0.98823529 0.98823529 0.98823529 0.98823529 0.99215686\n",
      "  0.98823529 0.98823529 0.98823529 0.         0.         0.\n",
      "  0.         0.         0.         0.         0.         0.\n",
      "  0.         0.         0.         0.         0.         0.\n",
      "  0.         0.         0.85490196 0.99215686 0.99215686 0.99215686\n",
      "  0.99215686 0.99215686 0.99215686 1.         0.99215686 0.68627451\n",
      "  0.24313725 0.         0.         0.         0.         0.\n",
      "  0.         0.         0.         0.         0.         0.\n",
      "  0.         0.         0.         0.         0.         0.\n",
      "  0.28235294 0.90588235 0.98823529 0.98823529 0.98823529 0.98823529\n",
      "  0.98823529 0.46666667 0.1372549  0.03921569 0.         0.\n",
      "  0.         0.         0.         0.         0.         0.\n",
      "  0.         0.         0.         0.         0.         0.\n",
      "  0.         0.         0.         0.         0.         0.20392157\n",
      "  0.27843137 0.27843137 0.27843137 0.27843137 0.27843137 0.\n",
      "  0.         0.         0.         0.         0.         0.\n",
      "  0.         0.         0.         0.         0.         0.\n",
      "  0.         0.         0.         0.         0.         0.\n",
      "  0.         0.         0.         0.         0.         0.\n",
      "  0.         0.         0.         0.         0.         0.\n",
      "  0.         0.         0.         0.         0.         0.\n",
      "  0.         0.         0.         0.         0.         0.\n",
      "  0.         0.         0.         0.         0.         0.\n",
      "  0.         0.         0.         0.         0.         0.\n",
      "  0.         0.         0.         0.         0.         0.\n",
      "  0.         0.         0.         0.         0.         0.\n",
      "  0.         0.         0.         0.         0.         0.\n",
      "  0.         0.         0.         0.         0.         0.\n",
      "  0.         0.         0.         0.         0.         0.\n",
      "  0.         0.         0.         0.         0.         0.\n",
      "  0.         0.         0.         0.         0.         0.\n",
      "  0.         0.         0.         0.         0.         0.\n",
      "  0.         0.         0.         0.         0.         0.\n",
      "  0.         0.         0.         0.         0.         0.\n",
      "  0.         0.         0.         0.         0.         0.\n",
      "  0.         0.         0.         0.         0.         0.\n",
      "  0.         0.         0.         0.         0.         0.\n",
      "  0.         0.         0.         0.         0.         0.\n",
      "  0.         0.         0.         0.         0.         0.\n",
      "  0.         0.         0.         0.         0.         0.\n",
      "  0.         0.         0.         0.        ]]\n",
      "H1 (hidden 1) LAYER:\n",
      "[[9.81748857e-01 1.58692122e-08 3.63094354e-04 9.87022540e-01\n",
      "  1.25479169e-03 5.39318244e-03 1.00000000e+00 9.99992493e-01\n",
      "  9.99999002e-01 4.17695482e-07 2.25892355e-03 9.99999827e-01\n",
      "  2.47008472e-01 9.99981980e-01 3.92187092e-05 4.64894372e-01\n",
      "  8.66842870e-08 9.99997817e-01 5.56457530e-03 7.36538656e-07\n",
      "  9.68539928e-01 2.22552537e-02 9.67909490e-01 8.67932626e-01\n",
      "  9.96813832e-01 9.90409458e-01 9.99998997e-01 7.99040428e-01\n",
      "  9.99631783e-01 3.06245637e-01 7.20730420e-06 9.61884731e-07\n",
      "  9.94421508e-01 9.97471557e-01 2.76328924e-04 9.99991221e-01\n",
      "  8.44490524e-01 9.99994913e-01 9.15625211e-05 1.52084360e-04\n",
      "  9.99992061e-01 2.45585544e-05 9.99999956e-01 6.80236356e-02\n",
      "  3.75350619e-05 3.01252685e-06 9.99653875e-01 1.16883088e-02\n",
      "  1.71561787e-09 9.98824942e-01 5.96214370e-03 7.09267468e-07\n",
      "  9.26536278e-01 9.99999049e-01 2.36597254e-03 1.35009474e-05\n",
      "  7.78915464e-01 9.82766967e-02 8.92882595e-01 2.60888453e-03\n",
      "  9.99969071e-01 3.48020637e-02 1.09843859e-08 9.99987631e-01\n",
      "  1.10852918e-06 1.00000000e+00 4.73938910e-03 1.00000000e+00\n",
      "  1.22112852e-04 9.24793721e-06 4.00066699e-04 2.04580614e-08\n",
      "  9.98185399e-01 7.73089476e-09 1.21293269e-06 6.45395411e-01\n",
      "  9.66905759e-01 9.98942663e-01 9.99997381e-01 2.61068146e-04\n",
      "  9.92979127e-01 9.67322390e-01 1.11136191e-02 6.66067368e-01\n",
      "  2.41618138e-05 9.76545439e-01 4.51593925e-04 4.67046083e-07\n",
      "  9.99956104e-01 9.70603076e-01 2.11149456e-12 2.19548099e-01\n",
      "  4.20792835e-01 1.42661354e-04 1.00000000e+00 9.18533713e-04\n",
      "  5.12919133e-02 4.64628182e-09 9.99999576e-01 9.11349894e-03\n",
      "  3.24489199e-04 9.97598241e-01 1.25775759e-01 9.46853943e-01\n",
      "  9.99995678e-01 6.14365878e-01 3.14209364e-01 9.89932425e-01\n",
      "  9.04427299e-01 8.39585574e-01 9.71969370e-01 1.00000000e+00\n",
      "  1.45358753e-01 3.56219408e-04 9.64354477e-01 9.99999998e-01\n",
      "  9.98009710e-01 8.96156781e-01 9.99851961e-01 9.97687590e-01\n",
      "  9.99969239e-01 1.95318204e-14 9.99756393e-01 2.13542649e-01\n",
      "  7.74608833e-01 5.26246087e-01 2.83291648e-05 9.89775403e-01]]\n",
      "H2 (hidden 2) LAYER:\n",
      "[[0.91250654 0.97054181 0.55485775 0.97936237 0.838168   0.53318854\n",
      "  0.20567292 0.22383256 0.84546003 0.5503939  0.00292643 0.22788192\n",
      "  0.33856485 0.44450446 0.89289575 0.192952   0.26795131 0.37933827\n",
      "  0.35698484 0.20298473 0.3054953  0.0048758  0.00554489 0.77512223\n",
      "  0.25003321 0.68600317 0.05482053 0.58719623 0.54824521 0.98731384\n",
      "  0.93164401 0.9757987  0.35221925 0.60120843 0.560594   0.52626996\n",
      "  0.02087184 0.02243235 0.84237162 0.44193128 0.53737663 0.68450531\n",
      "  0.75763863 0.88394202 0.63428659 0.09364879 0.76640892 0.58019707\n",
      "  0.40352131 0.15456534 0.1199893  0.04359232 0.95447391 0.40157813\n",
      "  0.8927461  0.29543114 0.40524156 0.08798903 0.39643616 0.0320656\n",
      "  0.71225272 0.06945695 0.5036825  0.35975658 0.66490463 0.75577891\n",
      "  0.63037031 0.96296138 0.00660561 0.37158757 0.2127541  0.29938308\n",
      "  0.33507683 0.06988945 0.93235679 0.45920316 0.05094252 0.26712995\n",
      "  0.77373798 0.18605588 0.52337336 0.62076571 0.17519724 0.00188187\n",
      "  0.8591369  0.01780527 0.56827333 0.16150304 0.61215388 0.64882058\n",
      "  0.86140194 0.48276324 0.00138185 0.05531907 0.43932823 0.88488695\n",
      "  0.42904594 0.12933616 0.80852654 0.6682328  0.39303809 0.42706224\n",
      "  0.67298635 0.26084739 0.91788158 0.08731937 0.26781983 0.38834763\n",
      "  0.10882983 0.47852326 0.87952336 0.15003704 0.03187763 0.20646267\n",
      "  0.44207656 0.12987137 0.04618909 0.3040781  0.02613321 0.10985957\n",
      "  0.86090523 0.28054651 0.34734192 0.04993934 0.84896846 0.24813565\n",
      "  0.37809981 0.0333595 ]]\n",
      "Y  (output) LAYER:\n",
      "[[3.77620195e-02 1.25952587e-04 3.46425353e-02 6.75247217e-07\n",
      "  2.30884266e-02 4.16906532e-03 1.21129965e-01 4.82013918e-03\n",
      "  1.63726759e-03 1.30233972e-02]]\n",
      "\n",
      "\n",
      "Current Loss: 0.0145449950229292\n",
      "\n",
      "Current Acurácia: 0.9479285714285715\n",
      "\n",
      "/*==================================================*/\n"
     ]
    },
    {
     "data": {
      "image/png": "[encoded data removed]",
      "text/plain": [
       "<Figure size 432x288 with 1 Axes>"
      ]
     },
     "metadata": {
      "needs_background": "light"
     },
     "output_type": "display_data"
    },
    {
     "name": "stdout",
     "output_type": "stream",
     "text": [
      "> model saved in:  model_128x128\n"
     ]
    }
   ],
   "source": [
    "\n",
    "learning_rate = 0.035\n",
    "# Fique a vontade pra trocar aumentar as épocas, sei que com 50 chega a 98% acurácia\n",
    "epochs = 1\n",
    "model_filename = \"model_128x128\"\n",
    "\n",
    "print(\"\\n> Model Started Training...\\n\")\n",
    "\t\t\t\n",
    "model.train(\n",
    "\ttrain_data[\"inputs\"],\n",
    "\ttrain_data[\"outputs\"],\n",
    "\tlr = learning_rate, epochs=epochs,\n",
    "\tshuffle=True,\n",
    "\tautosave=False)\n",
    "\t\n",
    "# Caso já tenha um modelo salvo, dê load assim\n",
    "#model = Model.load(\"./models/\" + model_filename)\n",
    "\n",
    "print(\"> Done.\")\n",
    "\n",
    "model.print()\n",
    "\n",
    "model.save(\"./models/\" + model_filename)\n",
    "print(\"> model saved in: \",model_filename)"
   ]
  },
  {
   "cell_type": "markdown",
   "id": "29b5ba65",
   "metadata": {},
   "source": [
    "### Função usada para fazer predições do set MNIST com o Modelo. \n",
    "*Ao usar **test_prediction** ira mostrar a **imagem**, o **label** correto, e a **decisão** do modelo*"
   ]
  },
  {
   "cell_type": "code",
   "execution_count": 53,
   "id": "d0302b4a",
   "metadata": {},
   "outputs": [],
   "source": [
    "def test_prediction(index, data, model:Model):\n",
    "\tcurrent_image = data[\"inputs\"][index]\n",
    "\ty_predict = model.predict(current_image)[0]\n",
    "\tprediction = (y_predict == y_predict.max()).astype(int)\n",
    "\n",
    "\tguess = list(prediction).index(1)\n",
    "\t\n",
    "\tlabel = data[\"outputs\"][index]\n",
    "\tground_truth = list(label).index(1)\n",
    "\n",
    "\t# Opção de desobrigar de fornecer label correto, para quando formor utilizar paint\n",
    "\tif len(label) < 10:\n",
    "\t\tlabel = \"made on paint\"\n",
    "\t\tground_truth = \" paint\"\n",
    "\n",
    "\tprint(\"Label: \", label)\n",
    "\tprint(\"Prediction: \", prediction)\n",
    "\n",
    "\tplt.gray()\n",
    "\tplt.title(\"Model thinks it is: \" + str(guess) + \"\\nGround truth: \" + str(ground_truth))\n",
    "\tplt.imshow( current_image.reshape((28, 28)) * 255, interpolation='nearest')\n",
    "\tplt.xticks([])\n",
    "\tplt.yticks([0])\n",
    "\tplt.show()"
   ]
  },
  {
   "cell_type": "markdown",
   "id": "48e6e09d",
   "metadata": {},
   "source": [
    "## Função p/ testar a acurácia dos restante 28 mil digitos que o modelo não viu ainda\n",
    "### e ainda retorna todos os indices errados"
   ]
  },
  {
   "cell_type": "code",
   "execution_count": 54,
   "id": "b420c82e",
   "metadata": {},
   "outputs": [],
   "source": [
    "def get_acurracy(testing_data):\n",
    "\t\n",
    "\tpredicts = list()\n",
    "\tfor y in testing_data[\"inputs\"]:\n",
    "\t\ty_predict = model.predict(y)[0]\n",
    "\t\tprediction = (y_predict == y_predict.max()).astype(int)\n",
    "\t\tpredicts.append(prediction)\n",
    "\treturn model.accuracy(predictions=predicts, outputs=testing_data[\"outputs\"], verbose=0)\n"
   ]
  },
  {
   "cell_type": "markdown",
   "id": "1687d198",
   "metadata": {},
   "source": [
    "## Array de indices onde o modelo errou\n",
    "#### Acurácia: cerca de **98.9%** usando 28 mil exemplos dos dados de teste os quais o modelo nunca viu"
   ]
  },
  {
   "cell_type": "code",
   "execution_count": 55,
   "id": "b61ecaaa",
   "metadata": {},
   "outputs": [
    {
     "name": "stdout",
     "output_type": "stream",
     "text": [
      "Qntd de exemplos: 28000\n",
      "Indexes onde está errado: [4, 20, 29, 42, 78, 88, 99, 108, 114, 121, 125, 139, 140, 180, 181, 193, 199, 213, 233, 249, 255, 263, 314, 317, 321, 333, 337, 343, 354, 355, 364, 384, 428, 434, 436, 437, 438, 472, 477, 491, 503, 504, 508, 522, 526, 566, 624, 658, 662, 669, 687, 688, 702, 703, 711, 774, 782, 826, 828, 854, 860, 866, 886, 892, 904, 931, 941, 953, 961, 973, 986, 987, 1012, 1042, 1043, 1059, 1062, 1069, 1080, 1091, 1095, 1097, 1098, 1109, 1121, 1126, 1174, 1194, 1198, 1208, 1212, 1224, 1248, 1268, 1278, 1372, 1402, 1424, 1454, 1474, 1518, 1532, 1537, 1562, 1574, 1588, 1626, 1648, 1658, 1670, 1672, 1702, 1711, 1731, 1772, 1782, 1783, 1788, 1793, 1796, 1811, 1818, 1853, 1856, 1874, 1897, 1906, 1942, 1943, 1950, 1986, 1992, 2032, 2040, 2046, 2081, 2091, 2100, 2101, 2110, 2123, 2157, 2172, 2176, 2232, 2253, 2262, 2267, 2283, 2294, 2307, 2328, 2340, 2378, 2383, 2432, 2442, 2456, 2484, 2494, 2508, 2534, 2598, 2624, 2684, 2698, 2706, 2748, 2753, 2760, 2767, 2806, 2819, 2827, 2830, 2837, 2848, 2850, 2852, 2853, 2865, 2870, 2889, 2898, 2903, 2904, 2959, 2961, 2969, 3005, 3011, 3012, 3017, 3024, 3043, 3046, 3047, 3048, 3056, 3099, 3114, 3116, 3117, 3121, 3143, 3185, 3201, 3212, 3238, 3250, 3256, 3352, 3422, 3426, 3439, 3443, 3446, 3458, 3460, 3482, 3486, 3491, 3501, 3502, 3520, 3575, 3587, 3590, 3602, 3607, 3614, 3616, 3638, 3653, 3654, 3656, 3692, 3736, 3740, 3749, 3761, 3784, 3801, 3813, 3836, 3864, 3868, 3875, 3901, 3911, 3933, 3954, 3968, 3982, 3987, 3991, 4021, 4027, 4033, 4058, 4070, 4088, 4104, 4118, 4122, 4126, 4136, 4146, 4157, 4163, 4187, 4203, 4237, 4241, 4242, 4247, 4248, 4269, 4274, 4284, 4285, 4288, 4298, 4300, 4314, 4316, 4324, 4329, 4336, 4354, 4366, 4368, 4373, 4374, 4379, 4384, 4404, 4406, 4412, 4423, 4432, 4435, 4458, 4584, 4600, 4612, 4643, 4689, 4709, 4726, 4734, 4746, 4776, 4815, 4857, 4860, 4884, 4918, 4924, 4938, 4941, 4958, 4976, 5008, 5020, 5028, 5034, 5038, 5070, 5094, 5100, 5140, 5159, 5211, 5217, 5218, 5220, 5227, 5234, 5237, 5247, 5251, 5260, 5261, 5264, 5278, 5282, 5291, 5317, 5322, 5340, 5352, 5376, 5387, 5409, 5421, 5432, 5443, 5445, 5471, 5475, 5478, 5479, 5506, 5520, 5548, 5560, 5594, 5595, 5597, 5600, 5607, 5613, 5615, 5629, 5651, 5680, 5689, 5690, 5718, 5719, 5720, 5723, 5737, 5741, 5749, 5759, 5762, 5781, 5826, 5828, 5866, 5881, 5912, 5918, 5925, 5926, 5930, 5936, 5946, 5949, 5951, 5955, 5962, 5966, 5979, 6006, 6020, 6038, 6065, 6096, 6103, 6154, 6166, 6258, 6272, 6282, 6286, 6288, 6344, 6352, 6354, 6360, 6374, 6382, 6384, 6397, 6494, 6512, 6522, 6524, 6564, 6584, 6649, 6655, 6662, 6681, 6700, 6786, 6800, 6824, 6865, 6880, 6890, 6899, 6904, 6912, 6915, 6919, 6930, 6933, 6953, 6957, 6966, 6971, 6975, 6990, 7001, 7002, 7005, 7009, 7012, 7014, 7021, 7029, 7040, 7041, 7050, 7056, 7064, 7067, 7070, 7082, 7106, 7107, 7164, 7192, 7196, 7200, 7202, 7206, 7217, 7226, 7256, 7276, 7300, 7325, 7410, 7416, 7460, 7463, 7464, 7466, 7476, 7487, 7488, 7489, 7498, 7506, 7514, 7525, 7543, 7545, 7547, 7549, 7555, 7563, 7573, 7589, 7607, 7616, 7634, 7646, 7656, 7662, 7672, 7683, 7690, 7740, 7741, 7744, 7809, 7830, 7841, 7859, 7889, 7890, 7892, 7893, 7895, 7902, 7923, 7926, 7955, 7985, 7987, 8005, 8025, 8052, 8067, 8074, 8078, 8091, 8120, 8144, 8155, 8202, 8212, 8223, 8229, 8236, 8239, 8246, 8297, 8320, 8322, 8329, 8340, 8346, 8359, 8369, 8375, 8396, 8403, 8414, 8417, 8426, 8431, 8455, 8470, 8514, 8522, 8557, 8560, 8572, 8574, 8591, 8632, 8639, 8644, 8690, 8714, 8716, 8718, 8729, 8734, 8747, 8756, 8777, 8814, 8819, 8821, 8837, 8917, 9038, 9054, 9058, 9081, 9106, 9111, 9125, 9144, 9158, 9164, 9176, 9180, 9227, 9230, 9248, 9274, 9280, 9300, 9315, 9337, 9346, 9367, 9371, 9416, 9464, 9522, 9524, 9530, 9544, 9600, 9602, 9622, 9675, 9679, 9698, 9722, 9736, 9740, 9759, 9764, 9794, 9795, 9838, 9854, 9863, 9903, 9944, 9955, 9963, 9986, 9987, 9988, 9990, 10048, 10086, 10096, 10117, 10129, 10138, 10140, 10144, 10152, 10160, 10163, 10210, 10218, 10222, 10225, 10241, 10272, 10280, 10290, 10294, 10306, 10324, 10346, 10347, 10358, 10390, 10394, 10399, 10424, 10442, 10452, 10464, 10514, 10582, 10624, 10661, 10671, 10674, 10686, 10699, 10707, 10713, 10714, 10718, 10738, 10740, 10800, 10808, 10812, 10827, 10828, 10834, 10851, 10862, 10870, 10875, 10886, 10894, 10895, 10896, 10899, 10907, 10914, 10928, 10931, 10932, 10936, 10938, 10953, 10959, 10968, 10971, 10972, 10975, 10981, 11013, 11015, 11017, 11019, 11029, 11036, 11037, 11052, 11063, 11077, 11113, 11114, 11120, 11122, 11156, 11170, 11216, 11246, 11264, 11298, 11306, 11316, 11344, 11470, 11476, 11492, 11507, 11538, 11547, 11552, 11558, 11567, 11570, 11578, 11612, 11623, 11638, 11641, 11645, 11656, 11680, 11694, 11731, 11732, 11736, 11740, 11758, 11784, 11806, 11844, 11867, 11872, 11873, 11883, 11906, 11910, 11912, 11953, 11954, 11976, 11978, 11979, 11988, 11997, 11999, 12002, 12011, 12026, 12028, 12030, 12036, 12065, 12074, 12097, 12161, 12191, 12195, 12230, 12264, 12296, 12377, 12378, 12452, 12461, 12506, 12520, 12528, 12534, 12542, 12551, 12554, 12556, 12582, 12586, 12616, 12628, 12654, 12686, 12782, 12814, 12819, 12836, 12858, 12878, 12879, 12880, 12892, 12896, 12906, 12909, 12916, 12919, 12932, 12935, 12949, 12950, 12954, 12960, 12966, 12981, 12993, 12996, 13042, 13054, 13060, 13116, 13128, 13153, 13168, 13188, 13194, 13206, 13240, 13278, 13282, 13294, 13311, 13330, 13340, 13368, 13428, 13432, 13438, 13450, 13488, 13490, 13513, 13598, 13604, 13639, 13727, 13729, 13739, 13758, 13792, 13804, 13814, 13862, 13870, 13886, 13893, 13906, 13908, 13941, 13958, 13974, 14006, 14014, 14054, 14066, 14082, 14090, 14134, 14190, 14204, 14213, 14220, 14224, 14228, 14244, 14254, 14268, 14271, 14275, 14292, 14313, 14366, 14380, 14387, 14391, 14397, 14412, 14414, 14452, 14457, 14464, 14480, 14495, 14564, 14576, 14586, 14590, 14596, 14600, 14645, 14648, 14654, 14655, 14662, 14672, 14773, 14800, 14838, 14842, 14866, 14914, 14939, 14998, 14999, 15004, 15021, 15041, 15054, 15076, 15082, 15124, 15156, 15180, 15211, 15216, 15226, 15248, 15256, 15276, 15302, 15308, 15334, 15336, 15383, 15450, 15474, 15477, 15480, 15486, 15507, 15523, 15532, 15566, 15624, 15628, 15660, 15662, 15667, 15683, 15701, 15718, 15728, 15731, 15737, 15741, 15768, 15782, 15806, 15808, 15820, 15837, 15894, 15922, 15938, 15972, 15976, 15982, 16034, 16036, 16050, 16072, 16080, 16086, 16101, 16278, 16316, 16324, 16344, 16379, 16413, 16464, 16471, 16518, 16537, 16543, 16556, 16595, 16648, 16649, 16653, 16660, 16748, 16802, 16803, 16812, 16829, 16832, 16871, 16892, 17128, 17158, 17196, 17202, 17256, 17257, 17283, 17286, 17294, 17303, 17309, 17312, 17314, 17343, 17344, 17361, 17367, 17368, 17384, 17386, 17400, 17401, 17418, 17433, 17440, 17446, 17447, 17598, 17653, 17660, 17701, 17716, 17718, 17719, 17720, 17726, 17731, 17734, 17735, 17747, 17915, 17942, 18008, 18033, 18149, 18158, 18195, 18218, 18233, 18241, 18245, 18247, 18259, 18290, 18300, 18320, 18321, 18324, 18340, 18349, 18352, 18362, 18381, 18403, 18435, 18445, 18448, 18449, 18464, 18478, 18479, 18495, 18502, 18515, 18528, 18531, 18543, 18565, 18569, 18571, 18578, 18582, 18583, 18591, 18610, 18628, 18629, 18659, 18691, 18707, 18717, 18720, 18740, 18760, 18791, 18795, 18844, 18881, 18906, 18924, 18947, 18951, 18956, 18959, 18965, 18982, 19003, 19014, 19022, 19032, 19039, 19044, 19062, 19101, 19107, 19112, 19114, 19124, 19128, 19131, 19166, 19181, 19182, 19191, 19192, 19194, 19204, 19208, 19226, 19232, 19242, 19247, 19253, 19256, 19260, 19270, 19272, 19283, 19289, 19299, 19310, 19319, 19326, 19337, 19378, 19384, 19393, 19410, 19414, 19433, 19444, 19447, 19453, 19463, 19465, 19466, 19467, 19494, 19500, 19522, 19525, 19527, 19530, 19549, 19553, 19571, 19581, 19609, 19611, 19618, 19621, 19634, 19671, 19681, 19696, 19709, 19717, 19727, 19737, 19751, 19754, 19790, 19813, 19828, 19850, 19878, 19883, 19901, 19911, 19917, 19938, 19940, 19952, 19970, 19987, 20001, 20016, 20035, 20040, 20043, 20044, 20053, 20067, 20073, 20093, 20098, 20109, 20118, 20125, 20129, 20130, 20135, 20148, 20182, 20185, 20186, 20189, 20224, 20237, 20266, 20272, 20293, 20299, 20339, 20369, 20371, 20386, 20387, 20393, 20394, 20395, 20405, 20406, 20408, 20422, 20426, 20433, 20447, 20488, 20526, 20556, 20560, 20573, 20574, 20598, 20607, 20631, 20648, 20654, 20668, 20670, 20713, 20745, 20756, 20760, 20770, 20771, 20832, 20863, 20877, 20896, 20907, 20914, 20919, 20925, 20927, 20939, 20945, 20953, 20970, 20979, 20995, 20998, 21005, 21060, 21073, 21110, 21117, 21132, 21145, 21157, 21167, 21172, 21183, 21206, 21240, 21251, 21269, 21280, 21284, 21289, 21333, 21369, 21381, 21405, 21406, 21410, 21437, 21468, 21475, 21490, 21503, 21520, 21533, 21549, 21558, 21565, 21567, 21573, 21597, 21604, 21629, 21636, 21662, 21674, 21702, 21716, 21718, 21751, 21757, 21758, 21767, 21769, 21776, 21780, 21806, 21811, 21817, 21818, 21834, 21838, 21853, 21893, 21902, 21906, 21926, 21941, 21951, 21962, 21968, 22000, 22017, 22065, 22075, 22078, 22093, 22108, 22140, 22152, 22159, 22163, 22176, 22201, 22212, 22224, 22248, 22256, 22265, 22289, 22300, 22306, 22313, 22315, 22317, 22355, 22356, 22359, 22360, 22369, 22374, 22382, 22435, 22437, 22451, 22477, 22497, 22500, 22523, 22567, 22571, 22575, 22601, 22615, 22639, 22695, 22721, 22731, 22751, 22761, 22763, 22785, 22807, 22808, 22814, 22823, 22827, 22833, 22860, 22863, 22876, 22879, 22880, 22886, 22890, 22915, 22950, 22956, 22966, 22978, 22990, 23054, 23065, 23067, 23068, 23078, 23140, 23159, 23201, 23210, 23278, 23288, 23331, 23360, 23409, 23495, 23523, 23569, 23593, 23617, 23634, 23642, 23653, 23677, 23734, 23735, 23749, 23752, 23824, 23835, 23842, 23887, 23888, 23891, 23913, 23922, 23926, 23936, 23937, 23955, 23972, 23973, 23985, 23997, 24004, 24035, 24042, 24045, 24053, 24059, 24065, 24071, 24081, 24091, 24157, 24160, 24166, 24172, 24370, 24385, 24390, 24391, 24392, 24400, 24421, 24425, 24426, 24428, 24505, 24555, 24568, 24569, 24571, 24597, 24598, 24603, 24625, 24651, 24706, 24721, 24746, 24755, 24769, 24783, 24785, 24796, 24919, 24926, 24981, 25094, 25121, 25130, 25216, 25233, 25338, 25432, 25434, 25451, 25472, 25498, 25539, 25545, 25779, 25797, 25800, 25821, 25823, 25842, 25849, 25850, 25858, 25859, 25886, 25888, 25905, 25918, 25921, 25928, 25945, 26010, 26020, 26047, 26062, 26081, 26094, 26095, 26183, 26246, 26255, 26272, 26277, 26293, 26296, 26325, 26332, 26339, 26406, 26408, 26410, 26453, 26502, 26508, 26520, 26522, 26863, 27009, 27015, 27019, 27022, 27024, 27103, 27182, 27211, 27268, 27316, 27534, 27544, 27587, 27624, 27634, 27642, 27664, 27669, 27679, 27692, 27698, 27700, 27716, 27729, 27744, 27745, 27749, 27764, 27768, 27770, 27777, 27779, 27808, 27839, 27856, 27879, 27883, 27892, 27893, 27905, 27925, 27941, 27944, 27970, 27982]\n",
      "\n",
      "Acurácia:  0.9419642857142857 \n",
      "\n"
     ]
    }
   ],
   "source": [
    "accuracy,wrong_indexes = get_acurracy(test_data_being_used)\n",
    "\n",
    "print( \"Qntd de exemplos:\",len(test_data_being_used[\"inputs\"]))\n",
    "print(f\"Indexes onde está errado: {wrong_indexes}\\n\")\n",
    "print(\"Acurácia: \",accuracy,'\\n' )"
   ]
  },
  {
   "cell_type": "markdown",
   "id": "003b1452",
   "metadata": {},
   "source": [
    "### Escolha um index no intervalo [0,30'000) Cerca de 99% vai estar certo\n",
    "#### *A ideia é poder ver a imagem e a predição do modelo*"
   ]
  },
  {
   "cell_type": "code",
   "execution_count": 56,
   "id": "384905a2",
   "metadata": {},
   "outputs": [
    {
     "name": "stdout",
     "output_type": "stream",
     "text": [
      "Label:  [0 0 0 0 0 0 1 0 0 0]\n",
      "Prediction:  [0 0 0 0 0 0 1 0 0 0]\n"
     ]
    },
    {
     "data": {
      "image/png": "[encoded data removed]",
      "text/plain": [
       "<Figure size 432x288 with 1 Axes>"
      ]
     },
     "metadata": {
      "needs_background": "light"
     },
     "output_type": "display_data"
    }
   ],
   "source": [
    "# Escolha um index no intervalo [0,2800'000) Cerca de 96% vai estar certo\n",
    "index = 27999\n",
    "test_prediction(index,test_data_being_used,model)"
   ]
  },
  {
   "cell_type": "markdown",
   "id": "353fbad5",
   "metadata": {},
   "source": [
    "## Algumas das imagens que deram errado\n",
    "#### *Apenas troque esses index e vejao exemplos em que o modelo errou*"
   ]
  },
  {
   "cell_type": "code",
   "execution_count": 57,
   "id": "059fa345",
   "metadata": {},
   "outputs": [
    {
     "name": "stdout",
     "output_type": "stream",
     "text": [
      "Label:  [0 0 1 0 0 0 0 0 0 0]\n",
      "Prediction:  [0 0 0 0 0 0 0 1 0 0]\n"
     ]
    },
    {
     "data": {
      "image/png": "[encoded data removed]",
      "text/plain": [
       "<Figure size 432x288 with 1 Axes>"
      ]
     },
     "metadata": {
      "needs_background": "light"
     },
     "output_type": "display_data"
    }
   ],
   "source": [
    "# Alguns dos indexes errados: 21073, 27839, 26522, 21558 (usando 28k testing_data)\n",
    "index_errado = 27839\n",
    "test_prediction(index_errado,test_data_being_used,model)"
   ]
  },
  {
   "cell_type": "markdown",
   "id": "9640d3a3",
   "metadata": {},
   "source": [
    "# Testaremos com novos dados gerando por desenhos no paint\n",
    "### Essa função ajuda a pegar os pixels como np.array"
   ]
  },
  {
   "cell_type": "code",
   "execution_count": 58,
   "id": "95700de9",
   "metadata": {},
   "outputs": [],
   "source": [
    "def get_pixels(filename):\n",
    "\tim = Image.open(filename, \"r\")\n",
    "\tpixels = list(im.getdata())\n",
    "\tmono_channel_pixels = [rgb[2] for rgb in pixels[0:784]]\n",
    "\treturn np.array(mono_channel_pixels)/255.0"
   ]
  },
  {
   "cell_type": "markdown",
   "id": "1a2d8e2a",
   "metadata": {},
   "source": [
    "## Agora **edite** o aquivo *digit28x28.png* no **paint** e **rode** a celula abaixo novamente para ir atualizando a predição do modelo"
   ]
  },
  {
   "cell_type": "code",
   "execution_count": 59,
   "id": "f6e5ab87",
   "metadata": {},
   "outputs": [
    {
     "name": "stdout",
     "output_type": "stream",
     "text": [
      "Label:  made on paint\n",
      "Prediction:  [0 0 0 0 0 1 0 0 0 0]\n"
     ]
    },
    {
     "data": {
      "image/png": "[encoded data removed]",
      "text/plain": [
       "<Figure size 432x288 with 1 Axes>"
      ]
     },
     "metadata": {
      "needs_background": "light"
     },
     "output_type": "display_data"
    }
   ],
   "source": [
    "test_pixels = get_pixels(\"digit28x28.png\")\n",
    "test_prediction(0,{\"inputs\":[test_pixels],\"outputs\":[[1]]},model)\n"
   ]
  }
 ],
 "metadata": {
  "interpreter": {
   "hash": "11f1dc213e07634baa4c5c321dec03c05dafae643c50f20e6d1a492290c05dc2"
  },
  "kernelspec": {
   "display_name": "Python 3.9.4 64-bit",
   "name": "python3"
  },
  "language_info": {
   "codemirror_mode": {
    "name": "ipython",
    "version": 3
   },
   "file_extension": ".py",
   "mimetype": "text/x-python",
   "name": "python",
   "nbconvert_exporter": "python",
   "pygments_lexer": "ipython3",
   "version": "3.9.4"
  }
 },
 "nbformat": 4,
 "nbformat_minor": 5
}
